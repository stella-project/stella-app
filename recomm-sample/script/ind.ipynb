{
 "cells": [
  {
   "cell_type": "code",
   "execution_count": 1,
   "metadata": {},
   "outputs": [
    {
     "name": "stdout",
     "output_type": "stream",
     "text": [
      "[nltk_data] Downloading package punkt to /home/tavakons/nltk_data...\n",
      "[nltk_data]   Package punkt is already up-to-date!\n"
     ]
    },
    {
     "name": "stderr",
     "output_type": "stream",
     "text": [
      "/home/tavakons/anaconda3/envs/py37/lib/python3.7/site-packages/pandas/core/indexing.py:1472: FutureWarning: \n",
      "Passing list-likes to .loc or [] with any missing label will raise\n",
      "KeyError in the future, you can use .reindex() as an alternative.\n",
      "\n",
      "See the documentation here:\n",
      "https://pandas.pydata.org/pandas-docs/stable/indexing.html#deprecate-loc-reindex-listlike\n",
      "  return self._getitem_tuple(key)\n"
     ]
    }
   ],
   "source": [
    "import json\n",
    "import pandas as pd \n",
    "import re\n",
    "import spacy\n",
    "import nltk\n",
    "from sklearn.feature_extraction.text import TfidfVectorizer\n",
    "from sklearn.metrics.pairwise import cosine_similarity\n",
    "#from nltk.corpus import stopwords\n",
    "\n",
    "from spacy.lang.de.stop_words import STOP_WORDS as de_stop\n",
    "from spacy.lang.en.stop_words import STOP_WORDS as en_stop\n",
    "from nltk.stem.porter import PorterStemmer\n",
    "import string\n",
    "\n",
    "nltk.download('punkt')\n",
    "\n",
    "final_stopwords_list = list(en_stop) + list(de_stop)\n",
    "\n",
    "with open(\"../../data/json/publication.json\") as f :\n",
    "    d = json.load(f)[\"_source\"]\n",
    "\n",
    "with open(\"../../data/json/dataset.json\") as f2 :\n",
    "    ds = json.load(f2)[\"_source\"]\n",
    "\n",
    "datasetdf = pd.DataFrame(ds).T\n",
    "pubdf=pd.DataFrame(d).T\n",
    "\n",
    "\n",
    "flrt_dts_df = datasetdf.loc[:,[\"id\",\"title\",\"abstract\",\"topic\",\"title_en\",\"abstract_en\",\"topic_en\"]]\n",
    "flrt_pub_df = pubdf.loc[:,[\"id\",\"title\",\"abstract\",\"topic\",\"title_en\",\"abstract_en\",\"topic_en\"]]"
   ]
  },
  {
   "cell_type": "code",
   "execution_count": 2,
   "metadata": {},
   "outputs": [
    {
     "data": {
      "text/html": [
       "<div>\n",
       "<style scoped>\n",
       "    .dataframe tbody tr th:only-of-type {\n",
       "        vertical-align: middle;\n",
       "    }\n",
       "\n",
       "    .dataframe tbody tr th {\n",
       "        vertical-align: top;\n",
       "    }\n",
       "\n",
       "    .dataframe thead th {\n",
       "        text-align: right;\n",
       "    }\n",
       "</style>\n",
       "<table border=\"1\" class=\"dataframe\">\n",
       "  <thead>\n",
       "    <tr style=\"text-align: right;\">\n",
       "      <th></th>\n",
       "      <th>id</th>\n",
       "      <th>title</th>\n",
       "      <th>abstract</th>\n",
       "      <th>topic</th>\n",
       "      <th>title_en</th>\n",
       "      <th>abstract_en</th>\n",
       "      <th>topic_en</th>\n",
       "    </tr>\n",
       "  </thead>\n",
       "  <tbody>\n",
       "    <tr>\n",
       "      <th>gesis-ssoar-1002</th>\n",
       "      <td>gesis-ssoar-1002</td>\n",
       "      <td>New Concerns, More Cooperation? How Non-Tradit...</td>\n",
       "      <td>NaN</td>\n",
       "      <td>[Indien, Wirtschaftsbeziehungen, bilaterale Be...</td>\n",
       "      <td>NaN</td>\n",
       "      <td>NaN</td>\n",
       "      <td>NaN</td>\n",
       "    </tr>\n",
       "    <tr>\n",
       "      <th>gesis-ssoar-1006</th>\n",
       "      <td>gesis-ssoar-1006</td>\n",
       "      <td>Buddhism in Current China-India Diplomacy</td>\n",
       "      <td>Buddhism is being emphasised strongly in both ...</td>\n",
       "      <td>[China, Indien, bilaterale Beziehungen, Außenp...</td>\n",
       "      <td>NaN</td>\n",
       "      <td>NaN</td>\n",
       "      <td>NaN</td>\n",
       "    </tr>\n",
       "    <tr>\n",
       "      <th>gesis-ssoar-10066</th>\n",
       "      <td>gesis-ssoar-10066</td>\n",
       "      <td>Zukunftsaufgaben der Humanisierung des Arbeits...</td>\n",
       "      <td>Das seit 1974 vom BMFT geförderte Programm \"Fr...</td>\n",
       "      <td>[Arbeitswelt, Technik, Rationalisierung, Arbei...</td>\n",
       "      <td>NaN</td>\n",
       "      <td>NaN</td>\n",
       "      <td>NaN</td>\n",
       "    </tr>\n",
       "    <tr>\n",
       "      <th>gesis-ssoar-1008</th>\n",
       "      <td>gesis-ssoar-1008</td>\n",
       "      <td>The Political Economy of Organisational Violen...</td>\n",
       "      <td>\"Organisational violence\" involves wilful, ill...</td>\n",
       "      <td>[China, Unternehmen, Korruption, Wirtschaftskr...</td>\n",
       "      <td>NaN</td>\n",
       "      <td>NaN</td>\n",
       "      <td>NaN</td>\n",
       "    </tr>\n",
       "    <tr>\n",
       "      <th>gesis-ssoar-10095</th>\n",
       "      <td>gesis-ssoar-10095</td>\n",
       "      <td>Der Zusammenhang von Arbeitsorganisation und E...</td>\n",
       "      <td>Ausgangspunkt der Untersuchung ist die Hypothe...</td>\n",
       "      <td>[Elektroindustrie, Bundesrepublik Deutschland,...</td>\n",
       "      <td>NaN</td>\n",
       "      <td>NaN</td>\n",
       "      <td>NaN</td>\n",
       "    </tr>\n",
       "  </tbody>\n",
       "</table>\n",
       "</div>"
      ],
      "text/plain": [
       "                                  id  \\\n",
       "gesis-ssoar-1002    gesis-ssoar-1002   \n",
       "gesis-ssoar-1006    gesis-ssoar-1006   \n",
       "gesis-ssoar-10066  gesis-ssoar-10066   \n",
       "gesis-ssoar-1008    gesis-ssoar-1008   \n",
       "gesis-ssoar-10095  gesis-ssoar-10095   \n",
       "\n",
       "                                                               title  \\\n",
       "gesis-ssoar-1002   New Concerns, More Cooperation? How Non-Tradit...   \n",
       "gesis-ssoar-1006           Buddhism in Current China-India Diplomacy   \n",
       "gesis-ssoar-10066  Zukunftsaufgaben der Humanisierung des Arbeits...   \n",
       "gesis-ssoar-1008   The Political Economy of Organisational Violen...   \n",
       "gesis-ssoar-10095  Der Zusammenhang von Arbeitsorganisation und E...   \n",
       "\n",
       "                                                            abstract  \\\n",
       "gesis-ssoar-1002                                                 NaN   \n",
       "gesis-ssoar-1006   Buddhism is being emphasised strongly in both ...   \n",
       "gesis-ssoar-10066  Das seit 1974 vom BMFT geförderte Programm \"Fr...   \n",
       "gesis-ssoar-1008   \"Organisational violence\" involves wilful, ill...   \n",
       "gesis-ssoar-10095  Ausgangspunkt der Untersuchung ist die Hypothe...   \n",
       "\n",
       "                                                               topic  \\\n",
       "gesis-ssoar-1002   [Indien, Wirtschaftsbeziehungen, bilaterale Be...   \n",
       "gesis-ssoar-1006   [China, Indien, bilaterale Beziehungen, Außenp...   \n",
       "gesis-ssoar-10066  [Arbeitswelt, Technik, Rationalisierung, Arbei...   \n",
       "gesis-ssoar-1008   [China, Unternehmen, Korruption, Wirtschaftskr...   \n",
       "gesis-ssoar-10095  [Elektroindustrie, Bundesrepublik Deutschland,...   \n",
       "\n",
       "                   title_en  abstract_en  topic_en  \n",
       "gesis-ssoar-1002        NaN          NaN       NaN  \n",
       "gesis-ssoar-1006        NaN          NaN       NaN  \n",
       "gesis-ssoar-10066       NaN          NaN       NaN  \n",
       "gesis-ssoar-1008        NaN          NaN       NaN  \n",
       "gesis-ssoar-10095       NaN          NaN       NaN  "
      ]
     },
     "execution_count": 2,
     "metadata": {},
     "output_type": "execute_result"
    }
   ],
   "source": [
    "flrt_pub_df.head()"
   ]
  },
  {
   "cell_type": "code",
   "execution_count": 4,
   "metadata": {},
   "outputs": [],
   "source": [
    "out = pd.read_pickle('cosine_similarity_matrix.pkl')"
   ]
  },
  {
   "cell_type": "code",
   "execution_count": 12,
   "metadata": {},
   "outputs": [
    {
     "name": "stdout",
     "output_type": "stream",
     "text": [
      "93953\n"
     ]
    }
   ],
   "source": [
    "len(out)\n",
    "print(len(similary_matxix))"
   ]
  },
  {
   "cell_type": "code",
   "execution_count": null,
   "metadata": {},
   "outputs": [],
   "source": [
    "\n",
    "similary_matxix=[]\n",
    "for pid in flrt_pub_df[\"id\"].values.tolist():\n",
    "    A = out[pid].sort_values(ascending=False)[:10]\n",
    "    similary_matxix.append({\"target_items\":pid,\"similar_items\":A.drop(A.index[0]).to_dict()})\n",
    "\n",
    "print(len(similary_matxix))\n"
   ]
  },
  {
   "cell_type": "code",
   "execution_count": 15,
   "metadata": {},
   "outputs": [],
   "source": [
    "import pickle\n",
    "\n",
    "with open('cosine_similarity_matrix_top_10.pkl', 'wb') as b:\n",
    "    pickle.dump(similary_matxix,b)"
   ]
  },
  {
   "cell_type": "code",
   "execution_count": 9,
   "metadata": {},
   "outputs": [
    {
     "data": {
      "text/plain": [
       "{'datasearch-httpsoai-datacite-orgoai--oaioai-datacite-org5577801': 0.1561279296875,\n",
       " 'datasearch-httpwww-da-ra-deoaip--oaioai-da-ra-de644049': 0.1458740234375,\n",
       " 'datasearch-httpwww-da-ra-deoaip--oaioai-da-ra-de644050': 0.1458740234375,\n",
       " 'datasearch-httpwww-da-ra-deoaip--oaioai-da-ra-de461282': 0.1458740234375,\n",
       " 'datasearch-httpwww-da-ra-deoaip--oaioai-da-ra-de531845': 0.1446533203125,\n",
       " 'datasearch-httpwww-da-ra-deoaip--oaioai-da-ra-de531725': 0.1446533203125,\n",
       " 'datasearch-httpwww-da-ra-deoaip--oaioai-da-ra-de531827': 0.1446533203125,\n",
       " 'datasearch-httpwww-da-ra-deoaip--oaioai-da-ra-de461283': 0.1417236328125,\n",
       " 'datasearch-httpsoai-datacite-orgoai--oaioai-datacite-org7185296': 0.1328125}"
      ]
     },
     "execution_count": 9,
     "metadata": {},
     "output_type": "execute_result"
    }
   ],
   "source": [
    "flrt_pub_df[\"id\"].values.tolist()\n",
    "out['gesis-ssoar-1002'].sort_values(ascending=False)[:10].drop(out['gesis-ssoar-1002'].sort_values(ascending=False)[:10].index[0]).to_dict()"
   ]
  },
  {
   "cell_type": "code",
   "execution_count": 16,
   "metadata": {},
   "outputs": [
    {
     "data": {
      "text/plain": [
       "{'target_items': 'gesis-ssoar-1002',\n",
       " 'similar_items': {'datasearch-httpsoai-datacite-orgoai--oaioai-datacite-org5577801': 0.1561279296875,\n",
       "  'datasearch-httpwww-da-ra-deoaip--oaioai-da-ra-de644049': 0.1458740234375,\n",
       "  'datasearch-httpwww-da-ra-deoaip--oaioai-da-ra-de644050': 0.1458740234375,\n",
       "  'datasearch-httpwww-da-ra-deoaip--oaioai-da-ra-de461282': 0.1458740234375,\n",
       "  'datasearch-httpwww-da-ra-deoaip--oaioai-da-ra-de531845': 0.1446533203125,\n",
       "  'datasearch-httpwww-da-ra-deoaip--oaioai-da-ra-de531725': 0.1446533203125,\n",
       "  'datasearch-httpwww-da-ra-deoaip--oaioai-da-ra-de531827': 0.1446533203125,\n",
       "  'datasearch-httpwww-da-ra-deoaip--oaioai-da-ra-de461283': 0.1417236328125,\n",
       "  'datasearch-httpsoai-datacite-orgoai--oaioai-datacite-org7185296': 0.1328125}}"
      ]
     },
     "execution_count": 16,
     "metadata": {},
     "output_type": "execute_result"
    }
   ],
   "source": [
    "similary_matxix[0]"
   ]
  },
  {
   "cell_type": "code",
   "execution_count": 30,
   "metadata": {},
   "outputs": [
    {
     "name": "stdout",
     "output_type": "stream",
     "text": [
      "{'target_items': 'gesis-ssoar-1002', 'similar_items': {'datasearch-httpsoai-datacite-orgoai--oaioai-datacite-org5577801': 0.1561279296875, 'datasearch-httpwww-da-ra-deoaip--oaioai-da-ra-de644049': 0.1458740234375, 'datasearch-httpwww-da-ra-deoaip--oaioai-da-ra-de644050': 0.1458740234375, 'datasearch-httpwww-da-ra-deoaip--oaioai-da-ra-de461282': 0.1458740234375, 'datasearch-httpwww-da-ra-deoaip--oaioai-da-ra-de531845': 0.1446533203125, 'datasearch-httpwww-da-ra-deoaip--oaioai-da-ra-de531725': 0.1446533203125, 'datasearch-httpwww-da-ra-deoaip--oaioai-da-ra-de531827': 0.1446533203125, 'datasearch-httpwww-da-ra-deoaip--oaioai-da-ra-de461283': 0.1417236328125, 'datasearch-httpsoai-datacite-orgoai--oaioai-datacite-org7185296': 0.1328125}}\n"
     ]
    }
   ],
   "source": [
    "\n",
    "f = pickle.load(open('cosine_similarity_matrix_top_10.pkl', 'rb'))\n",
    "\n",
    "def getsimilarityjson(id):\n",
    "    try:\n",
    "        return [sim for sim in f if sim['target_items']==id][0]\n",
    "    except:\n",
    "        return None\n",
    "\n",
    "#doc_id = sys.argv[1]\n",
    "sim = getsimilarityjson(\"gesis-ssoar-1002\")\n",
    "print(sim)"
   ]
  },
  {
   "cell_type": "code",
   "execution_count": 20,
   "metadata": {},
   "outputs": [],
   "source": []
  },
  {
   "cell_type": "code",
   "execution_count": 21,
   "metadata": {},
   "outputs": [
    {
     "ename": "AttributeError",
     "evalue": "'list' object has no attribute 'head'",
     "output_type": "error",
     "traceback": [
      "\u001b[0;31m---------------------------------------------------------------------------\u001b[0m",
      "\u001b[0;31mAttributeError\u001b[0m                            Traceback (most recent call last)",
      "\u001b[0;32m<ipython-input-21-1fa24ffbd6a8>\u001b[0m in \u001b[0;36m<module>\u001b[0;34m\u001b[0m\n\u001b[0;32m----> 1\u001b[0;31m \u001b[0mout\u001b[0m\u001b[0;34m.\u001b[0m\u001b[0mhead\u001b[0m\u001b[0;34m(\u001b[0m\u001b[0;34m)\u001b[0m\u001b[0;34m\u001b[0m\u001b[0;34m\u001b[0m\u001b[0m\n\u001b[0m",
      "\u001b[0;31mAttributeError\u001b[0m: 'list' object has no attribute 'head'"
     ]
    }
   ],
   "source": [
    "out.head()"
   ]
  },
  {
   "cell_type": "code",
   "execution_count": 28,
   "metadata": {},
   "outputs": [],
   "source": [
    "f = pickle.load(open('cosine_similarity_matrix_top_10.pkl', 'rb'))"
   ]
  },
  {
   "cell_type": "code",
   "execution_count": 29,
   "metadata": {},
   "outputs": [
    {
     "data": {
      "text/plain": [
       "{'target_items': 'gesis-ssoar-1002',\n",
       " 'similar_items': {'datasearch-httpsoai-datacite-orgoai--oaioai-datacite-org5577801': 0.1561279296875,\n",
       "  'datasearch-httpwww-da-ra-deoaip--oaioai-da-ra-de644049': 0.1458740234375,\n",
       "  'datasearch-httpwww-da-ra-deoaip--oaioai-da-ra-de644050': 0.1458740234375,\n",
       "  'datasearch-httpwww-da-ra-deoaip--oaioai-da-ra-de461282': 0.1458740234375,\n",
       "  'datasearch-httpwww-da-ra-deoaip--oaioai-da-ra-de531845': 0.1446533203125,\n",
       "  'datasearch-httpwww-da-ra-deoaip--oaioai-da-ra-de531725': 0.1446533203125,\n",
       "  'datasearch-httpwww-da-ra-deoaip--oaioai-da-ra-de531827': 0.1446533203125,\n",
       "  'datasearch-httpwww-da-ra-deoaip--oaioai-da-ra-de461283': 0.1417236328125,\n",
       "  'datasearch-httpsoai-datacite-orgoai--oaioai-datacite-org7185296': 0.1328125}}"
      ]
     },
     "execution_count": 29,
     "metadata": {},
     "output_type": "execute_result"
    }
   ],
   "source": [
    "[sim for sim in f if sim['target_items']==\"gesis-ssoar-1002\"][0]"
   ]
  },
  {
   "cell_type": "code",
   "execution_count": null,
   "metadata": {},
   "outputs": [],
   "source": []
  }
 ],
 "metadata": {
  "kernelspec": {
   "display_name": "Python 3",
   "language": "python",
   "name": "python3"
  },
  "language_info": {
   "codemirror_mode": {
    "name": "ipython",
    "version": 3
   },
   "file_extension": ".py",
   "mimetype": "text/x-python",
   "name": "python",
   "nbconvert_exporter": "python",
   "pygments_lexer": "ipython3",
   "version": "3.7.1"
  }
 },
 "nbformat": 4,
 "nbformat_minor": 2
}
