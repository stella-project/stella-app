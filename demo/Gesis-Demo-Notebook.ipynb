{
 "cells": [
  {
   "cell_type": "markdown",
   "metadata": {
    "tags": []
   },
   "source": [
    "<a href=\"https://stella-project.org/\"><img align=\"right\" width=\"100\" src=\"doc/img/logo-st.JPG\" /></a>\n",
    "<br>\n",
    "# STELLA Demo\n",
    "## Gesis\n",
    "This interactive demo guide walks you through the [STELLA](https://stella-project.org/) infrastructure using the STELLA [gesis-demo.yml](https://github.com/stella-project/stella-app/blob/master/docker-compose_files/gesis-demo.yml) docker-compose stack. It is designed to give a simple but comprehensive overview of the functionalities of the STELLA Living Lab infrastructure.\n",
    "<br><br>\n",
    "After an initial setup and a brief overview of the systems and the data used for this demo, we will follow a user query \n",
    "and its results through the system.\n",
    "\n",
    "<br>\n",
    "\n",
    "### Table of content:\n",
    "1. **Setup**\n",
    "  - 1.1 System startup\n",
    "  - 1.2 Data \n",
    "  \n",
    "  \n",
    "2. **STELLA app**\n",
    "  - 2.1 Indexing documents\n",
    "  - 2.2 Querying results\n",
    "  - 2.3 Saving feedback\n",
    "  - 2.4 End session\n",
    "  \n",
    "  \n",
    "3. **STELLA server**\n",
    "  - 3.1 Server web interface\n",
    "  - 3.2 Authentication\n",
    "  - 3.3 Saving feedback\n",
    "  - 3.4 Retrieve feedback\n",
    "  - 3.5 Get information\n",
    "  - 3.6 Export results\n",
    "\n",
    "<br>\n",
    "\n",
    "### Flowchart:\n",
    "[![](https://mermaid.ink/img/eyJjb2RlIjoic2VxdWVuY2VEaWFncmFtXG5TZWFyY2ggUG9ydGFsIFVzZXIgLT4-ICtTZWFyY2ggUG9ydGFsOiBRdWVyeTogXCJpbmZsdWVuemFcIlxuXG5yZWN0IHJnYigwLCAwLCAwLCAuMDgpXG5Ob3RlIHJpZ2h0IG9mIFNlYXJjaCBQb3J0YWw6IDIuMiBRdWVyeWluZyBSZXN1bHRzXG4lJVxuU2VhcmNoIFBvcnRhbCAtPj4gK1NURUxMQSBBcHA6IEdFVCBSYW5raW5nXG5TVEVMTEEgQXBwIC0-PiArRXhwZXJpbWVudGFsIFN5c3RlbTogR0VUIFJhbmtpbmdcbkV4cGVyaW1lbnRhbCBTeXN0ZW0gLS0-PiAtU1RFTExBIEFwcDogUmFua2luZ1xuU1RFTExBIEFwcCAtPj4gK0Jhc2UgU3lzdGVtOiBHRVQgUmFua2luZ1xuQmFzZSBTeXN0ZW0gLS0-PiAtU1RFTExBIEFwcDogUmFua2luZ1xuTm90ZSBvdmVyIFNURUxMQSBBcHA6IEludGVybGVhdmVkIFJhbmtpbmdzXG5TVEVMTEEgQXBwIC0tPj4gLVNlYXJjaCBQb3J0YWw6IHJldHVybiBpbnRlcmxlYXZlZCBSYW5raW5nIFxuZW5kXG5cblxuXG5TZWFyY2ggUG9ydGFsIC0tPj4gU2VhcmNoIFBvcnRhbCBVc2VyOiBTZWFyY2ggUmVzdWx0cyBSYW5raW5nXG5TZWFyY2ggUG9ydGFsIFVzZXIgLT4-IFNlYXJjaCBQb3J0YWw6IENsaWNrIERvY2t1bWVudCBBXG5TZWFyY2ggUG9ydGFsIFVzZXIgLT4-IFNlYXJjaCBQb3J0YWw6IENsaWNrIERvY2t1bWVudCBCXG5TZWFyY2ggUG9ydGFsIFVzZXIgLT4-IFNlYXJjaCBQb3J0YWw6IENsaWNrIC4uLlxuXG5yZWN0IHJnYigwLCAwLCAwLCAuMDgpXG5Ob3RlIHJpZ2h0IG9mIFNlYXJjaCBQb3J0YWw6IDIuMyBTYXZpbmcgRmVlZGJhY2tcbiUlXG5TZWFyY2ggUG9ydGFsIC0pIC1TVEVMTEEgQXBwOiBQT1NUIGZlZWRiYWNrXG5lbmRcblxucmVjdCByZ2IoMCwgMCwgMCwgLjA4KVxuTm90ZSByaWdodCBvZiBTZWFyY2ggUG9ydGFsOiAyLjQgU2Vzc2lvbnNcbiUlXG5TZWFyY2ggUG9ydGFsIC0pIFNURUxMQSBBcHA6IGV4aXQgU2Vzc2lvblxuZW5kXG5cbnJlY3QgcmdiKDAsIDAsIDAsIC4wOClcbk5vdGUgcmlnaHQgb2YgU1RFTExBIEFwcDogMy4yIEF1dGhlbnRpY2F0aW9uXG4lJVxuU1RFTExBIEFwcCAtPj4gK1NURUxMQSBTZXJ2ZXI6IFBPU1QgL3Rva2Vuc1xuU1RFTExBIFNlcnZlciAtLT4-IC1TVEVMTEEgQXBwOiBBdXRoZW50aWNhdGlvbiBUb2tlblxuZW5kXG5cbnJlY3QgcmdiKDAsIDAsIDAsIC4wOClcbk5vdGUgcmlnaHQgb2YgU1RFTExBIEFwcDogMy4zIFNhdmluZyBGZWVkYmFja1xuJSVcbmxvb3AgRXZlcnkgeCBtaW51dGVzXG5TVEVMTEEgQXBwIC0pIFNURUxMQSBTZXJ2ZXI6IFBPU1QgU2Vzc2lvblxuU1RFTExBIEFwcCAtKSBTVEVMTEEgU2VydmVyOiBQT1NUIEZlZWRiYWNrXG5TVEVMTEEgQXBwIC0pIFNURUxMQSBTZXJ2ZXI6IFBPU1QgUmFua2luZ1xuZW5kXG5lbmRcblxucmVjdCByZ2IoMCwgMCwgMCwgLjA4KVxuTm90ZSByaWdodCBvZiBTVEVMTEEgU2VydmVyOiAzLjQgUmV0cmlldmUgZmVlZGJhY2tcbiUlXG5EZXZlbG9wZXIgLT4-ICtTVEVMTEEgU2VydmVyOiBHRVQgU2Vzc2lvblxuU1RFTExBIFNlcnZlciAtLT4-IC1EZXZlbG9wZXI6IHNlc3Npb25cbkRldmVsb3BlciAtPj4gK1NURUxMQSBTZXJ2ZXI6IEdFVCBSYW5raW5nXG5TVEVMTEEgU2VydmVyIC0tPj4gLURldmVsb3BlcjogUmFua2luZ1xuRGV2ZWxvcGVyIC0-PiArU1RFTExBIFNlcnZlcjogR0VUIEZlZWRiYWNrXG5TVEVMTEEgU2VydmVyIC0tPj4gLURldmVsb3BlcjogRmVlZGJhY2tcbmVuZFxuXG5cbnJlY3QgcmdiKDAsIDAsIDAsIC4wOClcbk5vdGUgcmlnaHQgb2YgU1RFTExBIFNlcnZlcjogMy41IFJldHJpZXZlIGluZm9ybWF0aW9uXG4lJVxuRGV2ZWxvcGVyIC0-PiArU1RFTExBIFNlcnZlcjogR0VUIHNlc3Npb25zIG9mIHNpdGVcblNURUxMQSBTZXJ2ZXIgLS0-PiAtRGV2ZWxvcGVyOiBzZXNzaW9ucyBvZiBzaXRlXG5EZXZlbG9wZXIgLT4-ICtTVEVMTEEgU2VydmVyOiBHRVQgc3lzdGVtcyBvZiBzaXRlXG5TVEVMTEEgU2VydmVyIC0tPj4gLURldmVsb3Blcjogc3lzdGVtcyBvZiBzaXRlXG5EZXZlbG9wZXIgLT4-ICtTVEVMTEEgU2VydmVyOiBHRVQgcGFydGljaXBhbnQgaW5mb3JtYXRpb25cblNURUxMQSBTZXJ2ZXIgLS0-PiAtRGV2ZWxvcGVyOiBwYXJ0aWNpcGFudCBpbmZvcm1hdGlvblxuRGV2ZWxvcGVyIC0-PiArU1RFTExBIFNlcnZlcjogR0VUIHN5c3RlbSBJRFxuU1RFTExBIFNlcnZlciAtLT4-IC1EZXZlbG9wZXI6IHN5c3RlbSBJRFxuZW5kXG5cblxucmVjdCByZ2IoMCwgMCwgMCwgLjA4KVxuTm90ZSByaWdodCBvZiBTVEVMTEEgU2VydmVyOiAzLjYgRXhwb3J0IHJlc3VsdHNcbiUlXG5EZXZlbG9wZXIgLT4-ICtTVEVMTEEgU2VydmVyOiBHRVQgcmVzdWx0cyBvZiBzeXN0ZW1cblNURUxMQSBTZXJ2ZXIgLS0-PiAtRGV2ZWxvcGVyOiByZXN1bHRzIG9mIHN5c3RlbVxuZW5kXG4iLCJtZXJtYWlkIjp7InRoZW1lIjoiZGVmYXVsdCJ9LCJ1cGRhdGVFZGl0b3IiOmZhbHNlLCJhdXRvU3luYyI6dHJ1ZSwidXBkYXRlRGlhZ3JhbSI6ZmFsc2V9)](https://mermaid-js.github.io/mermaid-live-editor/edit/##eyJjb2RlIjoic2VxdWVuY2VEaWFncmFtXG5TZWFyY2ggUG9ydGFsIFVzZXIgLT4-ICtTZWFyY2ggUG9ydGFsOiBRdWVyeTogXCJpbmZsdWVuemFcIlxuXG5yZWN0IHJnYigwLCAwLCAwLCAuMDgpXG5Ob3RlIHJpZ2h0IG9mIFNlYXJjaCBQb3J0YWw6IDIuMiBRdWVyeWluZyBSZXN1bHRzXG4lJVxuU2VhcmNoIFBvcnRhbCAtPj4gK1NURUxMQSBBcHA6IEdFVCBSYW5raW5nXG5TVEVMTEEgQXBwIC0-PiArRXhwZXJpbWVudGFsIFN5c3RlbTogR0VUIFJhbmtpbmdcbkV4cGVyaW1lbnRhbCBTeXN0ZW0gLS0-PiAtU1RFTExBIEFwcDogUmFua2luZ1xuU1RFTExBIEFwcCAtPj4gK0Jhc2UgU3lzdGVtOiBHRVQgUmFua2luZ1xuQmFzZSBTeXN0ZW0gLS0-PiAtU1RFTExBIEFwcDogUmFua2luZ1xuTm90ZSBvdmVyIFNURUxMQSBBcHA6IEludGVybGVhdmVkIFJhbmtpbmdzXG5TVEVMTEEgQXBwIC0tPj4gLVNlYXJjaCBQb3J0YWw6IHJldHVybiBpbnRlcmxlYXZlZCBSYW5raW5nIFxuZW5kXG5cblxuXG5TZWFyY2ggUG9ydGFsIC0tPj4gU2VhcmNoIFBvcnRhbCBVc2VyOiBTZWFyY2ggUmVzdWx0cyBSYW5raW5nXG5TZWFyY2ggUG9ydGFsIFVzZXIgLT4-IFNlYXJjaCBQb3J0YWw6IENsaWNrIERvY2t1bWVudCBBXG5TZWFyY2ggUG9ydGFsIFVzZXIgLT4-IFNlYXJjaCBQb3J0YWw6IENsaWNrIERvY2t1bWVudCBCXG5TZWFyY2ggUG9ydGFsIFVzZXIgLT4-IFNlYXJjaCBQb3J0YWw6IENsaWNrIC4uLlxuXG5yZWN0IHJnYigwLCAwLCAwLCAuMDgpXG5Ob3RlIHJpZ2h0IG9mIFNlYXJjaCBQb3J0YWw6IDIuMyBTYXZpbmcgRmVlZGJhY2tcbiUlXG5TZWFyY2ggUG9ydGFsIC0pIC1TVEVMTEEgQXBwOiBQT1NUIGZlZWRiYWNrXG5lbmRcblxucmVjdCByZ2IoMCwgMCwgMCwgLjA4KVxuTm90ZSByaWdodCBvZiBTZWFyY2ggUG9ydGFsOiAyLjQgU2Vzc2lvbnNcbiUlXG5TZWFyY2ggUG9ydGFsIC0pIFNURUxMQSBBcHA6IGV4aXQgU2Vzc2lvblxuZW5kXG5cbnJlY3QgcmdiKDAsIDAsIDAsIC4wOClcbk5vdGUgcmlnaHQgb2YgU1RFTExBIEFwcDogMy4yIEF1dGhlbnRpY2F0aW9uXG4lJVxuU1RFTExBIEFwcCAtPj4gK1NURUxMQSBTZXJ2ZXI6IFBPU1QgL3Rva2Vuc1xuU1RFTExBIFNlcnZlciAtLT4-IC1TVEVMTEEgQXBwOiBBdXRoZW50aWNhdGlvbiBUb2tlblxuZW5kXG5cbnJlY3QgcmdiKDAsIDAsIDAsIC4wOClcbk5vdGUgcmlnaHQgb2YgU1RFTExBIEFwcDogMy4zIFNhdmluZyBGZWVkYmFja1xuJSVcbmxvb3AgRXZlcnkgeCBtaW51dGVzXG5TVEVMTEEgQXBwIC0pIFNURUxMQSBTZXJ2ZXI6IFBPU1QgU2Vzc2lvblxuU1RFTExBIEFwcCAtKSBTVEVMTEEgU2VydmVyOiBQT1NUIEZlZWRiYWNrXG5TVEVMTEEgQXBwIC0pIFNURUxMQSBTZXJ2ZXI6IFBPU1QgUmFua2luZ1xuZW5kXG5lbmRcblxucmVjdCByZ2IoMCwgMCwgMCwgLjA4KVxuTm90ZSByaWdodCBvZiBTVEVMTEEgU2VydmVyOiAzLjQgUmV0cmlldmUgZmVlZGJhY2tcbiUlXG5EZXZlbG9wZXIgLT4-ICtTVEVMTEEgU2VydmVyOiBHRVQgU2Vzc2lvblxuU1RFTExBIFNlcnZlciAtLT4-IC1EZXZlbG9wZXI6IHNlc3Npb25cbkRldmVsb3BlciAtPj4gK1NURUxMQSBTZXJ2ZXI6IEdFVCBSYW5raW5nXG5TVEVMTEEgU2VydmVyIC0tPj4gLURldmVsb3BlcjogUmFua2luZ1xuRGV2ZWxvcGVyIC0-PiArU1RFTExBIFNlcnZlcjogR0VUIEZlZWRiYWNrXG5TVEVMTEEgU2VydmVyIC0tPj4gLURldmVsb3BlcjogRmVlZGJhY2tcbmVuZFxuXG5cbnJlY3QgcmdiKDAsIDAsIDAsIC4wOClcbk5vdGUgcmlnaHQgb2YgU1RFTExBIFNlcnZlcjogMy41IFJldHJpZXZlIGluZm9ybWF0aW9uXG4lJVxuRGV2ZWxvcGVyIC0-PiArU1RFTExBIFNlcnZlcjogR0VUIHNlc3Npb25zIG9mIHNpdGVcblNURUxMQSBTZXJ2ZXIgLS0-PiAtRGV2ZWxvcGVyOiBzZXNzaW9ucyBvZiBzaXRlXG5EZXZlbG9wZXIgLT4-ICtTVEVMTEEgU2VydmVyOiBHRVQgc3lzdGVtcyBvZiBzaXRlXG5TVEVMTEEgU2VydmVyIC0tPj4gLURldmVsb3Blcjogc3lzdGVtcyBvZiBzaXRlXG5EZXZlbG9wZXIgLT4-ICtTVEVMTEEgU2VydmVyOiBHRVQgcGFydGljaXBhbnQgaW5mb3JtYXRpb25cblNURUxMQSBTZXJ2ZXIgLS0-PiAtRGV2ZWxvcGVyOiBwYXJ0aWNpcGFudCBpbmZvcm1hdGlvblxuRGV2ZWxvcGVyIC0-PiArU1RFTExBIFNlcnZlcjogR0VUIHN5c3RlbSBJRFxuU1RFTExBIFNlcnZlciAtLT4-IC1EZXZlbG9wZXI6IHN5c3RlbSBJRFxuZW5kXG5cblxucmVjdCByZ2IoMCwgMCwgMCwgLjA4KVxuTm90ZSByaWdodCBvZiBTVEVMTEEgU2VydmVyOiAzLjYgRXhwb3J0IHJlc3VsdHNcbiUlXG5EZXZlbG9wZXIgLT4-ICtTVEVMTEEgU2VydmVyOiBHRVQgcmVzdWx0cyBvZiBzeXN0ZW1cblNURUxMQSBTZXJ2ZXIgLS0-PiAtRGV2ZWxvcGVyOiBzZXNzaW9ucyBvZiBzaXRlXG5lbmRcbiIsIm1lcm1haWQiOiJ7XG4gIFwidGhlbWVcIjogXCJkZWZhdWx0XCJcbn0iLCJ1cGRhdGVFZGl0b3IiOmZhbHNlLCJhdXRvU3luYyI6dHJ1ZSwidXBkYXRlRGlhZ3JhbSI6ZmFsc2V9)"
   ]
  },
  {
   "cell_type": "markdown",
   "metadata": {},
   "source": [
    "<br><br>\n",
    "\n",
    "## 1. Setup\n",
    "---\n",
    "For an in-depth setup guide please visit the [full documentation](https://stella-project.org/stella-documentation/). For this guide, the [gesis-demo.yml](https://github.com/stella-project/stella-app/blob/master/docker-compose_files/gesis-demo.yml) compose-stack is used. \n",
    "\n",
    "Before starting, please make sure:\n",
    "1. `docker` and `docker-compose` are installed,\n",
    "2. the repositories [Stella-app](https://github.com/stella-project/stella-app) and [Stella-server](https://github.com/stella-project/stella-server) are cloned and\n",
    "3. you have downloaded at least some of the provided [data](https://th-koeln.sciebo.de/s/OBm0NLEwz1RYl9N?path=%2F) to the `/data` directory of the [Stella-app](https://github.com/stella-project/stella-app) reposetory.\n",
    "\n",
    "\n",
    "<br>\n",
    "\n",
    "### 1.1 System startup:\n",
    "\n",
    "If the requirements are satisfied, at most, minimal adjustments should be needed. While the infrastructure is intended as a distributed system, for this tutorial we will set up all components on one machine, using a single docker-compose stack. Any changes, if needed, take place in the [gesis-demo.yml](https://github.com/stella-project/stella-app/blob/master/docker-compose_files/gesis-demo.yml) file. If not freely available on your machine, please make sure to change the ports `8000` and `8080`. <br>\n",
    "Since indexing the data can be performance-intensive, depending on the amount of data, experimental systems and your system specifications, it can be necessary to disable the `BULK_INDEX` option to prevent auto-indexing at system start and trigger indexing for the systems manually.\n",
    "\n",
    "Now you should be ready to start your system. This may take a few minutes, so please be patient."
   ]
  },
  {
   "cell_type": "code",
   "execution_count": 1,
   "metadata": {},
   "outputs": [
    {
     "name": "stdout",
     "output_type": "stream",
     "text": [
      "stella-app_db_server_1 is up-to-date\n",
      "stella-app_db_1 is up-to-date\n",
      "gesis_rec_precom is up-to-date\n",
      "livivo_rank_pyserini is up-to-date\n",
      "livivo_rank_precom is up-to-date\n",
      "gesis_rec_pyserini is up-to-date\n",
      "stella-app_web_1 is up-to-date\n",
      "stella-app_app_1 is up-to-date\n"
     ]
    }
   ],
   "source": [
    "!docker-compose -f demo.yml up -d"
   ]
  },
  {
   "cell_type": "markdown",
   "metadata": {},
   "source": [
    "<br>\n",
    "\n",
    "### 1.2 Data:\n",
    "In this demo, we use the provided data from the [LiLAS Lab](https://clef-lilas.github.io/) at the [CLEF](http://clef2021.clef-initiative.eu/index.php) conference 2021.\n",
    "The two scientific search sites [LIVIVO](https://www.livivo.de) and [Gesis Search](https://www.gesis.org/en/home)\n",
    "participated as search portals and provided metadata for documents.\n",
    "<br>\n",
    "This metadata is queried by the search portal users. Therefore all participating ranking system have indexed the metadata and the STELLA App creates interleaved rankings to be displayed on the search portal to the search portal users.\n",
    "<br>\n",
    "In this demo, we set up the STELLA App as \"[Gesis Search](https://www.gesis.org/en/home)\". "
   ]
  },
  {
   "cell_type": "markdown",
   "metadata": {},
   "source": [
    "<br><br>\n",
    "\n",
    "## 2. STELLA app:\n",
    "---\n",
    "\n",
    "The [Stella-app](https://github.com/stella-project/stella-app) connects the search interface, like [LIVIVO](https://www.livivo.de), [Gesis](https://www.gesis.org/en/home) or your own,  with the experimental ranking systems and is responsible for interleaving the results. For this demo we installed the ranking systems `gesis_rank_precom_base`, `gesis_rank_precom` and `gesis_rank_pyserini_base`, `gesis_rank_pyserini` and the recommendation systems `gesis_rec_pyserini` and `gesis_rec_precom`, just to cover all use-cases. These six systems, two baseline systems, two experimental systems and two precomputed systems are included in the [gesis-demo.yml](https://github.com/stella-project/stella-app/blob/master/docker-compose_files/gesis-demo.yml) file. <br>\n",
    "To learn how to develop your own ranking system or to use a pre-computed run please visit the full [documentation](https://stella-project.org/stella-documentation/).\n",
    "\n",
    "For interaction and communication between the systems different endpoints are available and described in the following:"
   ]
  },
  {
   "cell_type": "code",
   "execution_count": 1,
   "metadata": {},
   "outputs": [],
   "source": [
    "STELLA_URL = 'http://0.0.0.0:8080'\n",
    "STELLA_APP_API = 'http://0.0.0.0:8080/stella/api/v1/'"
   ]
  },
  {
   "cell_type": "markdown",
   "metadata": {},
   "source": [
    "<br>\n",
    "\n",
    "### 2.1 Indexing documents:\n",
    "If `BULK_INDEX` is disabled while creating the docker-compose stack, systems can be indexed either through the [Stella-app web UI](http://0.0.0.0:8080) or the Stella-app endpoint.\n",
    "\n",
    "<b style=\"color:red\">Warning:</b> If `BULK_INDEX` is enabled, reindexing data may cause errors and data inconsistency.\n",
    "\n",
    "**1. Web UI:**\n",
    "\n",
    "You can reach the Stella-app web UI via [http://0.0.0.0:8080/](http://0.0.0.0:8080/) and trigger indexing for individual systems.\n",
    "\n",
    "**2. Endpoint:**\n",
    "- `/index/<system_name>` let you index a specific system."
   ]
  },
  {
   "cell_type": "code",
   "execution_count": 2,
   "metadata": {},
   "outputs": [],
   "source": [
    "import requests"
   ]
  },
  {
   "cell_type": "code",
   "execution_count": 9,
   "metadata": {},
   "outputs": [
    {
     "name": "stdout",
     "output_type": "stream",
     "text": [
      "500\n"
     ]
    }
   ],
   "source": [
    "SYSTEM_NAME = 'gesis_rec_pyserini'\n",
    "\n",
    "r = requests.get(STELLA_URL + '/index/' + SYSTEM_NAME)\n",
    "print(r.status_code)"
   ]
  },
  {
   "cell_type": "markdown",
   "metadata": {},
   "source": [
    "- `/index/bulk` let you trigger the full bulk index."
   ]
  },
  {
   "cell_type": "code",
   "execution_count": null,
   "metadata": {},
   "outputs": [],
   "source": [
    "r = requests.get(STELLA_URL + '/index/bulk')\n",
    "print(r.text)"
   ]
  },
  {
   "cell_type": "markdown",
   "metadata": {},
   "source": [
    "Indexing may take a while. If it is done, you are ready for your first search."
   ]
  },
  {
   "cell_type": "markdown",
   "metadata": {},
   "source": [
    "<br>\n",
    "\n",
    "### 2.2 Querying results:\n",
    "For querying interleaved results you can use two endpoints, depending on the system type. Both endpoints will generate an interleaved results ranking according to a user-generated query, in the case of an ad-hoc retrieval system or a seed document id, in the case of a recommendation system.\n",
    "\n",
    "[![](https://mermaid.ink/img/eyJjb2RlIjoic2VxdWVuY2VEaWFncmFtXG5Ob3RlIHJpZ2h0IG9mIFNlYXJjaCBQb3J0YWw6IDIuMiBRdWVyeWluZyBSZXN1bHRzXG4lJVxuU2VhcmNoIFBvcnRhbCAtPj4gK1NURUxMQSBBcHA6IEdFVCBSYW5raW5nXG5TVEVMTEEgQXBwIC0-PiArRXhwZXJpbWVudGFsIFN5c3RlbTogR0VUIFJhbmtpbmdcbkV4cGVyaW1lbnRhbCBTeXN0ZW0gLS0-PiAtU1RFTExBIEFwcDogUmFua2luZ1xuU1RFTExBIEFwcCAtPj4gK0Jhc2UgU3lzdGVtOiBHRVQgUmFua2luZ1xuQmFzZSBTeXN0ZW0gLS0-PiAtU1RFTExBIEFwcDogUmFua2luZ1xuTm90ZSBvdmVyIFNURUxMQSBBcHA6IEludGVybGVhdmVkIFJhbmtpbmdzXG5TVEVMTEEgQXBwIC0tPj4gLVNlYXJjaCBQb3J0YWw6IHJldHVybiBpbnRlcmxlYXZlZCBSYW5raW5nIFxuIiwibWVybWFpZCI6eyJ0aGVtZSI6ImRlZmF1bHQifSwidXBkYXRlRWRpdG9yIjpmYWxzZSwiYXV0b1N5bmMiOnRydWUsInVwZGF0ZURpYWdyYW0iOmZhbHNlfQ)](https://mermaid-js.github.io/mermaid-live-editor/edit/##eyJjb2RlIjoic2VxdWVuY2VEaWFncmFtXG5TZWFyY2ggUG9ydGFsIFVzZXIgLT4-ICtTZWFyY2ggUG9ydGFsOiBRdWVyeTogXCJpbmZsdWVuemFcIlxuXG5yZWN0IHJnYigwLCAwLCAwLCAuMDgpXG5Ob3RlIHJpZ2h0IG9mIFNlYXJjaCBQb3J0YWw6IDIuMiBRdWVyeWluZyBSZXN1bHRzXG4lJVxuU2VhcmNoIFBvcnRhbCAtPj4gK1NURUxMQSBBcHA6IEdFVCBSYW5raW5nXG5TVEVMTEEgQXBwIC0-PiArRXhwZXJpbWVudGFsIFN5c3RlbTogR0VUIFJhbmtpbmdcbkV4cGVyaW1lbnRhbCBTeXN0ZW0gLS0-PiAtU1RFTExBIEFwcDogUmFua2luZ1xuU1RFTExBIEFwcCAtPj4gK0Jhc2UgU3lzdGVtOiBHRVQgUmFua2luZ1xuQmFzZSBTeXN0ZW0gLS0-PiAtU1RFTExBIEFwcDogUmFua2luZ1xuTm90ZSBvdmVyIFNURUxMQSBBcHA6IEludGVybGVhdmVkIFJhbmtpbmdzXG5TVEVMTEEgQXBwIC0tPj4gLVNlYXJjaCBQb3J0YWw6IHJldHVybiBpbnRlcmxlYXZlZCBSYW5raW5nIFxuZW5kXG5cblxuXG5TZWFyY2ggUG9ydGFsIC0tPj4gU2VhcmNoIFBvcnRhbCBVc2VyOiBTZWFyY2ggUmVzdWx0cyBSYW5raW5nXG5TZWFyY2ggUG9ydGFsIFVzZXIgLT4-IFNlYXJjaCBQb3J0YWw6IENsaWNrIERvY2t1bWVudCBBXG5TZWFyY2ggUG9ydGFsIFVzZXIgLT4-IFNlYXJjaCBQb3J0YWw6IENsaWNrIERvY2t1bWVudCBCXG5TZWFyY2ggUG9ydGFsIFVzZXIgLT4-IFNlYXJjaCBQb3J0YWw6IENsaWNrIC4uLlxuXG5yZWN0IHJnYigwLCAwLCAwLCAuMDgpXG5Ob3RlIHJpZ2h0IG9mIFNlYXJjaCBQb3J0YWw6IDIuMyBTYXZpbmcgRmVlZGJhY2tcbiUlXG5TZWFyY2ggUG9ydGFsIC0pIC1TVEVMTEEgQXBwOiBQT1NUIGZlZWRiYWNrXG5lbmRcblxucmVjdCByZ2IoMCwgMCwgMCwgLjA4KVxuTm90ZSByaWdodCBvZiBTZWFyY2ggUG9ydGFsOiAyLjQgU2Vzc2lvbnNcbiUlXG5TZWFyY2ggUG9ydGFsIC0pIFNURUxMQSBBcHA6IGV4aXQgU2Vzc2lvblxuZW5kXG5cbnJlY3QgcmdiKDAsIDAsIDAsIC4wOClcbk5vdGUgcmlnaHQgb2YgU1RFTExBIEFwcDogMy4yIEF1dGhlbnRpY2F0aW9uXG4lJVxuU1RFTExBIEFwcCAtPj4gK1NURUxMQSBTZXJ2ZXI6IFBPU1QgL3Rva2Vuc1xuU1RFTExBIFNlcnZlciAtLT4-IC1TVEVMTEEgQXBwOiBBdXRoZW50aWNhdGlvbiBUb2tlblxuZW5kXG5cbnJlY3QgcmdiKDAsIDAsIDAsIC4wOClcbk5vdGUgcmlnaHQgb2YgU1RFTExBIEFwcDogMy4zIFNhdmluZyBGZWVkYmFja1xuJSVcbmxvb3AgRXZlcnkgeCBtaW51dGVzXG5TVEVMTEEgQXBwIC0pIFNURUxMQSBTZXJ2ZXI6IFBPU1QgU2Vzc2lvblxuU1RFTExBIEFwcCAtKSBTVEVMTEEgU2VydmVyOiBQT1NUIEZlZWRiYWNrXG5TVEVMTEEgQXBwIC0pIFNURUxMQSBTZXJ2ZXI6IFBPU1QgUmFua2luZ1xuZW5kXG5lbmRcblxucmVjdCByZ2IoMCwgMCwgMCwgLjA4KVxuTm90ZSByaWdodCBvZiBTVEVMTEEgU2VydmVyOiAzLjQgUmV0cmlldmUgZmVlZGJhY2tcbiUlXG5EZXZlbG9wZXIgLT4-ICtTVEVMTEEgU2VydmVyOiBHRVQgU2Vzc2lvblxuU1RFTExBIFNlcnZlciAtLT4-IC1EZXZlbG9wZXI6IHNlc3Npb25cbkRldmVsb3BlciAtPj4gK1NURUxMQSBTZXJ2ZXI6IEdFVCBSYW5raW5nXG5TVEVMTEEgU2VydmVyIC0tPj4gLURldmVsb3BlcjogUmFua2luZ1xuRGV2ZWxvcGVyIC0-PiArU1RFTExBIFNlcnZlcjogR0VUIEZlZWRiYWNrXG5TVEVMTEEgU2VydmVyIC0tPj4gLURldmVsb3BlcjogRmVlZGJhY2tcbmVuZFxuXG5cbnJlY3QgcmdiKDAsIDAsIDAsIC4wOClcbk5vdGUgcmlnaHQgb2YgU1RFTExBIFNlcnZlcjogMy41IFJldHJpZXZlIGluZm9ybWF0aW9uXG4lJVxuRGV2ZWxvcGVyIC0-PiArU1RFTExBIFNlcnZlcjogR0VUIHNlc3Npb25zIG9mIHNpdGVcblNURUxMQSBTZXJ2ZXIgLS0-PiAtRGV2ZWxvcGVyOiBzZXNzaW9ucyBvZiBzaXRlXG5EZXZlbG9wZXIgLT4-ICtTVEVMTEEgU2VydmVyOiBHRVQgc3lzdGVtcyBvZiBzaXRlXG5TVEVMTEEgU2VydmVyIC0tPj4gLURldmVsb3Blcjogc3lzdGVtcyBvZiBzaXRlXG5EZXZlbG9wZXIgLT4-ICtTVEVMTEEgU2VydmVyOiBHRVQgcGFydGljaXBhbnQgaW5mb3JtYXRpb25cblNURUxMQSBTZXJ2ZXIgLS0-PiAtRGV2ZWxvcGVyOiBwYXJ0aWNpcGFudCBpbmZvcm1hdGlvblxuRGV2ZWxvcGVyIC0-PiArU1RFTExBIFNlcnZlcjogR0VUIHN5c3RlbSBJRFxuU1RFTExBIFNlcnZlciAtLT4-IC1EZXZlbG9wZXI6IHN5c3RlbSBJRFxuZW5kXG5cblxucmVjdCByZ2IoMCwgMCwgMCwgLjA4KVxuTm90ZSByaWdodCBvZiBTVEVMTEEgU2VydmVyOiAzLjYgRXhwb3J0IHJlc3VsdHNcbiUlXG5EZXZlbG9wZXIgLT4-ICtTVEVMTEEgU2VydmVyOiBHRVQgcmVzdWx0cyBvZiBzeXN0ZW1cblNURUxMQSBTZXJ2ZXIgLS0-PiAtRGV2ZWxvcGVyOiBmdWxsIHJlc3VsdHNcbmVuZFxuIiwibWVybWFpZCI6IntcbiAgXCJ0aGVtZVwiOiBcImRlZmF1bHRcIlxufSIsInVwZGF0ZUVkaXRvciI6ZmFsc2UsImF1dG9TeW5jIjp0cnVlLCJ1cGRhdGVEaWFncmFtIjpmYWxzZX0)\n",
    "\n",
    "<a href=\"http://0.0.0.0:8000/systems\"><img width=100% src=\"../doc/img/gesis-search.gif\" /></a>\n",
    "\n",
    "#### GET ranking\n",
    "will return an interleaved ranking result, given a query string, from an experimental ranking system and the base system. In this case, *influenza* is used as a query but similar queries should work as well. In production, the query should be entered by the user at the search site and then feed-forward to the STELLA App."
   ]
  },
  {
   "cell_type": "code",
   "execution_count": 11,
   "metadata": {},
   "outputs": [],
   "source": [
    "query = \"kriminalitätsfurcht\""
   ]
  },
  {
   "cell_type": "code",
   "execution_count": 12,
   "metadata": {},
   "outputs": [],
   "source": [
    "r = requests.get(STELLA_APP_API + \"ranking?query=\" + query)\n",
    "ranking = r.json()"
   ]
  },
  {
   "cell_type": "code",
   "execution_count": 13,
   "metadata": {},
   "outputs": [
    {
     "data": {
      "text/plain": [
       "{'body': {'1': {'docid': 'gesis-ssoar-24869', 'type': 'BASE'},\n",
       "  '10': {'docid': 'gesis-ssoar-24817', 'type': 'EXP'},\n",
       "  '11': {'docid': 'gesis-ssoar-62038', 'type': 'EXP'},\n",
       "  '12': {'docid': 'gesis-solis-00209397', 'type': 'BASE'},\n",
       "  '13': {'docid': 'gesis-solis-00538083', 'type': 'EXP'},\n",
       "  '14': {'docid': 'gesis-ssoar-24746', 'type': 'BASE'},\n",
       "  '15': {'docid': 'gesis-ssoar-24711', 'type': 'EXP'},\n",
       "  '16': {'docid': 'gesis-bib-98015', 'type': 'BASE'},\n",
       "  '17': {'docid': 'gesis-bib-60240', 'type': 'BASE'},\n",
       "  '18': {'docid': 'literaturpool-c884392cf07141f27574771cfce912c2',\n",
       "   'type': 'EXP'},\n",
       "  '19': {'docid': 'gesis-bib-82984', 'type': 'EXP'},\n",
       "  '2': {'docid': 'gesis-ssoar-24758', 'type': 'EXP'},\n",
       "  '20': {'docid': 'gris-publication-72acnq289700', 'type': 'BASE'},\n",
       "  '3': {'docid': 'gesis-ssoar-24759', 'type': 'BASE'},\n",
       "  '4': {'docid': 'gesis-ssoar-24865', 'type': 'EXP'},\n",
       "  '5': {'docid': 'gesis-ssoar-24866', 'type': 'BASE'},\n",
       "  '6': {'docid': 'gesis-ssoar-41901', 'type': 'EXP'},\n",
       "  '7': {'docid': 'gesis-ssoar-24833', 'type': 'EXP'},\n",
       "  '8': {'docid': 'gesis-bib-148929', 'type': 'BASE'},\n",
       "  '9': {'docid': 'gesis-ssoar-47257', 'type': 'BASE'}},\n",
       " 'header': {'container': {'base': 'gesis_rank_pyserini_base',\n",
       "   'exp': 'gesis_rank_pyserini'},\n",
       "  'hits': 100,\n",
       "  'page': 0,\n",
       "  'q': 'kriminalitätsfurcht',\n",
       "  'rid': 6,\n",
       "  'rpp': 20,\n",
       "  'sid': '816bc69a3edd49cd9349cea105c1e08e'}}"
      ]
     },
     "execution_count": 13,
     "metadata": {},
     "output_type": "execute_result"
    }
   ],
   "source": [
    "ranking"
   ]
  },
  {
   "cell_type": "markdown",
   "metadata": {},
   "source": [
    "By that, a results object is returned containing the IDs of ranked documents matching the query.\n",
    "The utilized systems are specified in the `header` attribute."
   ]
  },
  {
   "cell_type": "markdown",
   "metadata": {},
   "source": [
    "#### GET recommendation\n",
    "returns interleaved recommendations, given the ID of a seed document, from an experimental system and the base system."
   ]
  },
  {
   "cell_type": "code",
   "execution_count": 14,
   "metadata": {},
   "outputs": [],
   "source": [
    "itemid = \"gesis-ssoar-13114\""
   ]
  },
  {
   "cell_type": "code",
   "execution_count": 15,
   "metadata": {},
   "outputs": [],
   "source": [
    "r = requests.get(STELLA_APP_API + \"recommendation/datasets?itemid=\" + itemid)\n",
    "recommendation = r.json()"
   ]
  },
  {
   "cell_type": "code",
   "execution_count": 16,
   "metadata": {},
   "outputs": [
    {
     "data": {
      "text/plain": [
       "{'body': {'1': {'docid': 'datasearch-httpwww-da-ra-deoaip--oaioai-da-ra-de701348',\n",
       "   'type': 'BASE'},\n",
       "  '2': {'docid': 'datasearch-httpservices-fsd-uta-fioai--oaifsd-uta-fiFSD2157e',\n",
       "   'type': 'EXP'},\n",
       "  '3': {'docid': 'datasearch-httpwww-da-ra-deoaip--oaioai-da-ra-de701349',\n",
       "   'type': 'BASE'},\n",
       "  '4': {'docid': 'datasearch-httpwww-da-ra-deoaip--oaioai-da-ra-de439108',\n",
       "   'type': 'EXP'},\n",
       "  '5': {'docid': 'datasearch-httpwww-da-ra-deoaip--oaioai-da-ra-de702532',\n",
       "   'type': 'BASE'},\n",
       "  '6': {'docid': 'datasearch-httpwww-da-ra-deoaip--oaioai-da-ra-de439107',\n",
       "   'type': 'EXP'},\n",
       "  '7': {'docid': 'datasearch-httpwww-da-ra-deoaip--oaioai-da-ra-de652472',\n",
       "   'type': 'EXP'},\n",
       "  '8': {'docid': 'datasearch-httpwww-da-ra-deoaip--oaioai-da-ra-de702533',\n",
       "   'type': 'BASE'},\n",
       "  '9': {'docid': 'ZA5368', 'type': 'BASE'}},\n",
       " 'header': {'container': {'base': 'gesis_rec_pyserini',\n",
       "   'exp': 'gesis_rec_precom'},\n",
       "  'itemid': 'gesis-ssoar-13114',\n",
       "  'page': 0,\n",
       "  'rid': 9,\n",
       "  'rpp': 10,\n",
       "  'sid': 'a0c24764c37a4657a9164fb10810442b',\n",
       "  'type': 'DATA'}}"
      ]
     },
     "execution_count": 16,
     "metadata": {},
     "output_type": "execute_result"
    }
   ],
   "source": [
    "recommendation"
   ]
  },
  {
   "cell_type": "markdown",
   "metadata": {},
   "source": [
    "<br>\n",
    "\n",
    "### 2.3 Saving feedback:\n",
    "\n",
    "These result lists will be clicked by the users and then returned to the app, including the feedback data, using the feedback endpoints. Multiple feedbacks can be combined into sessions.\n",
    "\n",
    "For demo purposes, we use simulated ranking and recommendation click feedbacks. The `docid`s are the same we retrieved for the query `kriminalitätsfurcht`. This ranking is extended by simulated click information. In production it should be sent to the STELLA App by the search site."
   ]
  },
  {
   "cell_type": "code",
   "execution_count": 19,
   "metadata": {},
   "outputs": [],
   "source": [
    "import json"
   ]
  },
  {
   "cell_type": "markdown",
   "metadata": {},
   "source": [
    "#### POST ranking feedback:"
   ]
  },
  {
   "cell_type": "code",
   "execution_count": 17,
   "metadata": {
    "tags": []
   },
   "outputs": [],
   "source": [
    "ranking_click_dict = {\n",
    "'1': {'docid': 'gesis-ssoar-24869', 'type': 'BASE', \"clicked\": True, \"date\": \"2020-01-01 00:00:01\"},\n",
    "'2': {'docid': 'gesis-ssoar-24758', \"clicked\": True, \"date\": \"2020-01-01 00:00:02\"},\n",
    "'3': {'docid': 'gesis-ssoar-24759', 'type': 'BASE', \"clicked\": False, \"date\": None},\n",
    "'4': {'docid': 'gesis-ssoar-24865', 'type': 'EXP', \"clicked\": False, \"date\": None},\n",
    "'5': {'docid': 'gesis-ssoar-24866', 'type': 'BASE', \"clicked\": False, \"date\": None},\n",
    "'6': {'docid': 'gesis-ssoar-41901', 'type': 'EXP', \"clicked\": False, \"date\": None},\n",
    "'7': {'docid': 'gesis-ssoar-24833', 'type': 'EXP', \"clicked\": False, \"date\": None},\n",
    "'8': {'docid': 'gesis-bib-148929', 'type': 'BASE', \"clicked\": False, \"date\": None},\n",
    "'9': {'docid': 'gesis-ssoar-47257', 'type': 'BASE', \"clicked\": False, \"date\": None},\n",
    "'10': {'docid': 'gesis-ssoar-24817', 'type': 'EXP', \"clicked\": False, \"date\": None},\n",
    "'11': {'docid': 'gesis-ssoar-62038', 'type': 'EXP', \"clicked\": False, \"date\": None},\n",
    "'12': {'docid': 'gesis-solis-00209397', 'type': 'BASE', \"clicked\": False, \"date\": None},\n",
    "'13': {'docid': 'gesis-solis-00538083', 'type': 'EXP', \"clicked\": False, \"date\": None},\n",
    "'14': {'docid': 'gesis-ssoar-24746', 'type': 'BASE', \"clicked\": False, \"date\": None},\n",
    "'15': {'docid': 'gesis-ssoar-24711', 'type': 'EXP', \"clicked\": False, \"date\": None},\n",
    "'16': {'docid': 'gesis-bib-98015', 'type': 'BASE', \"clicked\": False, \"date\": None},\n",
    "'17': {'docid': 'gesis-bib-60240', 'type': 'BASE', \"clicked\": False, \"date\": None},\n",
    "'18': {'docid': 'literaturpool-c884392cf07141f27574771cfce912c2', 'type': 'EXP', \"clicked\": False, \"date\": None},\n",
    "'19': {'docid': 'gesis-bib-82984', 'type': 'EXP', \"clicked\": False, \"date\": None},\n",
    "'20': {'docid': 'gris-publication-72acnq289700', 'type': 'BASE', \"clicked\": False, \"date\": None},\n",
    "}"
   ]
  },
  {
   "cell_type": "code",
   "execution_count": 20,
   "metadata": {},
   "outputs": [],
   "source": [
    "ranking_payload = {\n",
    "    'start': \"2020-01-01 00:00:00\",\n",
    "    'end': \"2020-01-01 00:01:00\",\n",
    "    'interleave': True,\n",
    "    'clicks': json.dumps(ranking_click_dict)\n",
    "}"
   ]
  },
  {
   "cell_type": "code",
   "execution_count": 21,
   "metadata": {
    "scrolled": true
   },
   "outputs": [
    {
     "name": "stdout",
     "output_type": "stream",
     "text": [
      "201\n"
     ]
    }
   ],
   "source": [
    "ranking_id = ranking.get('header').get('rid')\n",
    "r_post = requests.post(STELLA_APP_API + \"ranking/\" + str(ranking_id) + \"/feedback\", data=ranking_payload)\n",
    "print(r_post.status_code)"
   ]
  },
  {
   "cell_type": "markdown",
   "metadata": {},
   "source": [
    "#### POST recommendation feedback:\n",
    "Likewise, recommendation feedback is saved at the STELLA App."
   ]
  },
  {
   "cell_type": "code",
   "execution_count": 23,
   "metadata": {},
   "outputs": [],
   "source": [
    "recommendation_click_dict = {\n",
    "'1': {'docid': 'datasearch-httpwww-da-ra-deoaip--oaioai-da-ra-de701348', 'type': 'BASE', \"clicked\": True, \"date\": \"2020-01-01 00:00:01\"},\n",
    "'2': {'docid': 'datasearch-httpservices-fsd-uta-fioai--oaifsd-uta-fiFSD2157e', 'type': 'EXP' , \"clicked\": False, \"date\": None},\n",
    "'3': {'docid': 'datasearch-httpwww-da-ra-deoaip--oaioai-da-ra-de701349', 'type': 'BASE' , \"clicked\": False, \"date\": None},\n",
    "'4': {'docid': 'datasearch-httpwww-da-ra-deoaip--oaioai-da-ra-de439108', 'type': 'EXP' , \"clicked\": False, \"date\": None},\n",
    "'5': {'docid': 'datasearch-httpwww-da-ra-deoaip--oaioai-da-ra-de702532', 'type': 'BASE' , \"clicked\": False, \"date\": None},\n",
    "'6': {'docid': 'datasearch-httpwww-da-ra-deoaip--oaioai-da-ra-de439107', 'type': 'EXP', \"clicked\": True, \"date\": \"2020-01-01 00:00:06\"},\n",
    "'7': {'docid': 'datasearch-httpwww-da-ra-deoaip--oaioai-da-ra-de652472', 'type': 'EXP' , \"clicked\": False, \"date\": None},\n",
    "'8': {'docid': 'datasearch-httpwww-da-ra-deoaip--oaioai-da-ra-de702533', 'type': 'BASE', \"clicked\": False, \"date\": \"2020-01-01 00:00:09\"},\n",
    " }"
   ]
  },
  {
   "cell_type": "code",
   "execution_count": 24,
   "metadata": {},
   "outputs": [],
   "source": [
    "recommendation_payload = {\n",
    "    'start': \"2020-01-01 00:00:00\",\n",
    "    'end': \"2020-01-01 00:01:00\",\n",
    " 'interleave': True,\n",
    " 'clicks': json.dumps(recommendation_click_dict)\n",
    "}"
   ]
  },
  {
   "cell_type": "code",
   "execution_count": 25,
   "metadata": {},
   "outputs": [
    {
     "name": "stdout",
     "output_type": "stream",
     "text": [
      "201\n"
     ]
    }
   ],
   "source": [
    "recommendation_id = recommendation.get('header').get('rid')\n",
    "r_post = requests.post(STELLA_APP_API + \"recommendation/\" + str(recommendation_id) + \"/feedback\", data=recommendation_payload)\n",
    "print(r_post.status_code)"
   ]
  },
  {
   "cell_type": "markdown",
   "metadata": {},
   "source": [
    "All feedbacks will be regularly transferred to the STELLA server using the STELLA server API described in the next part."
   ]
  },
  {
   "cell_type": "markdown",
   "metadata": {},
   "source": [
    "<br>\n",
    "\n",
    "### 2.4 Sessions:\n",
    "\n",
    "By submitting feedback, a session is automatically created and ended. However, you as site administrator have full control over the sessions. Depending on the search system and the data you log, sessions can be created and ended accordingly. An explicit session ID can be provided as well.\n",
    "<br>\n",
    "\n",
    "To prevent sessions from lasting an expiration time in seconds can be set in `SESSION_EXPIRATION` in the [gesis-demo.yml](https://github.com/stella-project/stella-app/blob/master/docker-compose_files/gesis-demo.yml) docker-compose file. After that time, sessions will be ended automatically."
   ]
  },
  {
   "cell_type": "code",
   "execution_count": 47,
   "metadata": {},
   "outputs": [],
   "source": [
    "sessionID = \"42\""
   ]
  },
  {
   "cell_type": "code",
   "execution_count": 77,
   "metadata": {},
   "outputs": [
    {
     "data": {
      "text/plain": [
       "'http://0.0.0.0:8080/stella/api/v1/sessions/42/exit'"
      ]
     },
     "execution_count": 77,
     "metadata": {},
     "output_type": "execute_result"
    }
   ],
   "source": [
    "STELLA_APP_API + 'sessions/' + sessionID + '/exit'"
   ]
  },
  {
   "cell_type": "code",
   "execution_count": 48,
   "metadata": {},
   "outputs": [
    {
     "data": {
      "text/plain": [
       "{'body': {'1': {'docid': 'gesis-ssoar-24869', 'type': 'BASE'},\n",
       "  '10': {'docid': 'gesis-ssoar-24817', 'type': 'EXP'},\n",
       "  '11': {'docid': 'gesis-ssoar-62038', 'type': 'EXP'},\n",
       "  '12': {'docid': 'gesis-solis-00209397', 'type': 'BASE'},\n",
       "  '13': {'docid': 'gesis-solis-00538083', 'type': 'EXP'},\n",
       "  '14': {'docid': 'gesis-ssoar-24746', 'type': 'BASE'},\n",
       "  '15': {'docid': 'gesis-ssoar-24711', 'type': 'EXP'},\n",
       "  '16': {'docid': 'gesis-bib-98015', 'type': 'BASE'},\n",
       "  '17': {'docid': 'gesis-bib-60240', 'type': 'BASE'},\n",
       "  '18': {'docid': 'literaturpool-c884392cf07141f27574771cfce912c2',\n",
       "   'type': 'EXP'},\n",
       "  '19': {'docid': 'gesis-bib-82984', 'type': 'EXP'},\n",
       "  '2': {'docid': 'gesis-ssoar-24758', 'type': 'EXP'},\n",
       "  '20': {'docid': 'gris-publication-72acnq289700', 'type': 'BASE'},\n",
       "  '3': {'docid': 'gesis-ssoar-24759', 'type': 'BASE'},\n",
       "  '4': {'docid': 'gesis-ssoar-24865', 'type': 'EXP'},\n",
       "  '5': {'docid': 'gesis-ssoar-41901', 'type': 'EXP'},\n",
       "  '6': {'docid': 'gesis-ssoar-24866', 'type': 'BASE'},\n",
       "  '7': {'docid': 'gesis-ssoar-24833', 'type': 'BASE'},\n",
       "  '8': {'docid': 'gesis-bib-148929', 'type': 'EXP'},\n",
       "  '9': {'docid': 'gesis-ssoar-47257', 'type': 'BASE'}},\n",
       " 'header': {'container': {'base': 'gesis_rank_pyserini_base',\n",
       "   'exp': 'gesis_rank_pyserini'},\n",
       "  'hits': 100,\n",
       "  'page': 0,\n",
       "  'q': 'kriminalitätsfurcht',\n",
       "  'rid': 21,\n",
       "  'rpp': 20,\n",
       "  'sid': '42'}}"
      ]
     },
     "execution_count": 48,
     "metadata": {},
     "output_type": "execute_result"
    }
   ],
   "source": [
    "r = requests.get(STELLA_APP_API + \"ranking?query=\" + query + \"&sid=\"+sessionID)\n",
    "ranking = r.json()\n",
    "r.json()"
   ]
  },
  {
   "cell_type": "code",
   "execution_count": 49,
   "metadata": {},
   "outputs": [
    {
     "name": "stdout",
     "output_type": "stream",
     "text": [
      "500\n"
     ]
    }
   ],
   "source": [
    "r = requests.put(STELLA_APP_API + 'sessions/' + sessionID + '/exit')\n",
    "print(r.status_code)"
   ]
  },
  {
   "cell_type": "markdown",
   "metadata": {},
   "source": [
    "<br><br>\n",
    "\n",
    "## 3. STELLA server:\n",
    "---\n",
    "The [Stella-server](https://github.com/stella-project/stella-server) gathers all user feedback from all STELLA Apps and lets you administrate all systems. Furthermore, it is the main interaction point for participants, submitting and monitoring their systems. To interact with the STELLA server authentication is needed. Therefore we have to generate an authentication token first. Next, we can send and retrieve feedback. These endpoints are designed to be used by the STELLA Apps sending their feedback to the central server. <br>\n",
    "Besides that, the STELLA server provides endpoints to get information about sites, participants and systems. Finally, the `export` endpoint can be used to retrieve full feedback data on a system."
   ]
  },
  {
   "cell_type": "code",
   "execution_count": 59,
   "metadata": {},
   "outputs": [],
   "source": [
    "STELLA_SERVER_API = 'http://0.0.0.0:8000/stella/api/v1'\n",
    "site = \"GESIS\"\n",
    "system = \"gesis_rank_pyserini\""
   ]
  },
  {
   "cell_type": "markdown",
   "metadata": {},
   "source": [
    "<br>\n",
    "\n",
    "### 3.1 Server web interface:\n",
    "\n",
    "You can reach the Stella-server web UI via [http://0.0.0.0:8000/](http://0.0.0.0:8000/) and log in with the username and password specified in the [demo.yml](https://github.com/stella-project/stella-app/blob/master/demo.yml) docker-compose file. By default, `admin@stella-project.org` is specified as admin username and `pass` as password. Depending on the type of user (admin, site, or participant) different functionalities are available:\n",
    "\n",
    "- The [Systems](http://0.0.0.0:8000/systems) tab lists all registered systems and additional information. New systems can be registered here and feedback data of existing as well as all systems can be downloaded here. \n",
    "\n",
    "<a href=\"http://0.0.0.0:8000/systems\"><img width=80% src=\"doc/img/systems.png\" /></a>\n",
    "<br><br>\n",
    "\n",
    "- The [Dashboard](http://0.0.0.0:8000/dashboard) tab provides statistics about the performance of individual systems.\n",
    "\n",
    "<a href=\"http://0.0.0.0:8000/dashboard\"><img width=80% src=\"doc/img/dashboard.png\" /></a>\n",
    "<br><br>\n",
    "\n",
    "\n",
    "- The [Administration](http://0.0.0.0:8000/administration) tab, available to all administrators helps to update the STELLA app.\n",
    "\n",
    "<a href=\"http://0.0.0.0:8000/admin\"><img width=80% src=\"doc/img/admin.png\" /></a>"
   ]
  },
  {
   "cell_type": "markdown",
   "metadata": {},
   "source": [
    "<br>\n",
    "\n",
    "### 3.2 Authentication:\n",
    "\n",
    "The STELLA server is secured by a username and a password, specified in the [demo.yml](https://github.com/stella-project/stella-app/blob/master/demo.yml) docker-compose file. To securely communicate with the server's API we need to create an authentication token. This token will be later used to authenticate the following requests.\n",
    "\n",
    "[![](https://mermaid.ink/img/eyJjb2RlIjoic2VxdWVuY2VEaWFncmFtXG5cblNURUxMQSBBcHAgLT4-ICtTVEVMTEEgU2VydmVyOiBQT1NUIC90b2tlbnNcblNURUxMQSBTZXJ2ZXIgLS0-PiAtU1RFTExBIEFwcDogQXV0aGVudGljYXRpb24gVG9rZW5cbiIsIm1lcm1haWQiOnsidGhlbWUiOiJkZWZhdWx0In0sInVwZGF0ZUVkaXRvciI6ZmFsc2UsImF1dG9TeW5jIjp0cnVlLCJ1cGRhdGVEaWFncmFtIjpmYWxzZX0)](https://mermaid-js.github.io/mermaid-live-editor/edit/##eyJjb2RlIjoic2VxdWVuY2VEaWFncmFtXG5cbk5vdGUgcmlnaHQgb2YgU1RFTExBIEFwcDogMy4yIEF1dGhlbnRpY2F0aW9uXG4lJVxuU1RFTExBIEFwcCAtPj4gK1NURUxMQSBTZXJ2ZXI6IFBPU1QgL3Rva2Vuc1xuU1RFTExBIFNlcnZlciAtLT4-IC1TVEVMTEEgQXBwOiBBdXRoZW50aWNhdGlvbiBUb2tlblxuIiwibWVybWFpZCI6IntcbiAgXCJ0aGVtZVwiOiBcImRlZmF1bHRcIlxufSIsInVwZGF0ZUVkaXRvciI6ZmFsc2UsImF1dG9TeW5jIjp0cnVlLCJ1cGRhdGVEaWFncmFtIjpmYWxzZX0)"
   ]
  },
  {
   "cell_type": "code",
   "execution_count": 60,
   "metadata": {},
   "outputs": [
    {
     "name": "stdout",
     "output_type": "stream",
     "text": [
      "Token:  eyJhbGciOiJIUzUxMiIsImlhdCI6MTYyNjc4ODk2NiwiZXhwIjoxNjI2NzkyNTY2fQ.eyJpZCI6NH0.XwKx2pLVm_oiB_3J_q7yrMU-iLcULLhisWkjdzX9K457wsUjqfJK_iX-H7tWUQidukiUN8pcT37FJwRN0Oqkvg\n"
     ]
    }
   ],
   "source": [
    "r = requests.post(STELLA_SERVER_API + '/tokens', auth=('gesis@stella-project.org', 'pass'))\n",
    "r_json = json.loads(r.text)\n",
    "token = r_json.get('token')\n",
    "print(\"Token: \", token)"
   ]
  },
  {
   "cell_type": "markdown",
   "metadata": {},
   "source": [
    "<br>\n",
    "\n",
    "### 3.3 Saving feedback:\n",
    "\n",
    "Collected feedback from the STELLA App is send to the STELLA Server. Therefore dedicated endpoints are provided. First, the site identifier of the search website is needed. \n",
    "<br>\n",
    "In the production environment, these endpoints are used by a cron job, sending all new data regularly to the server. The interval for that can be set in the [gesis-demo.yml](https://github.com/stella-project/stella-app/blob/master/docker-compose_files/gesis-demo.yml) `INTERVAL_DB_CHECK` parameter and in `DELETE_SENT_SESSION` can be specified if transferred sessions should be deleted in the Stella-app. <br>\n",
    "However, we can use these endpoints manually to send our demo feedback data as well.\n",
    "\n",
    "[![](https://mermaid.ink/img/eyJjb2RlIjoic2VxdWVuY2VEaWFncmFtXG5sb29wIEV2ZXJ5IHggbWludXRlc1xuU1RFTExBIEFwcCAtKSBTVEVMTEEgU2VydmVyOiBQT1NUIFNlc3Npb25cblNURUxMQSBBcHAgLSkgU1RFTExBIFNlcnZlcjogUE9TVCBGZWVkYmFja1xuU1RFTExBIEFwcCAtKSBTVEVMTEEgU2VydmVyOiBQT1NUIFJhbmtpbmdcbmVuZFxuIiwibWVybWFpZCI6eyJ0aGVtZSI6ImRlZmF1bHQifSwidXBkYXRlRWRpdG9yIjpmYWxzZSwiYXV0b1N5bmMiOnRydWUsInVwZGF0ZURpYWdyYW0iOmZhbHNlfQ)](https://mermaid-js.github.io/mermaid-live-editor/edit/##eyJjb2RlIjoic2VxdWVuY2VEaWFncmFtXG5cbmxvb3AgRXZlcnkgeCBtaW51dGVzXG5TVEVMTEEgQXBwIC0pIFNURUxMQSBTZXJ2ZXI6IFBPU1QgU2Vzc2lvblxuU1RFTExBIEFwcCAtKSBTVEVMTEEgU2VydmVyOiBQT1NUIEZlZWRiYWNrXG5TVEVMTEEgQXBwIC0pIFNURUxMQSBTZXJ2ZXI6IFBPU1QgUmFua2luZ1xuZW5kXG4iLCJtZXJtYWlkIjoie1xuICBcInRoZW1lXCI6IFwiZGVmYXVsdFwiXG59IiwidXBkYXRlRWRpdG9yIjpmYWxzZSwiYXV0b1N5bmMiOnRydWUsInVwZGF0ZURpYWdyYW0iOmZhbHNlfQ)\n",
    "\n",
    "#### GET site ID:\n",
    "Using the site name specified in section 3 we first have to get the corresponding site ID."
   ]
  },
  {
   "cell_type": "code",
   "execution_count": 61,
   "metadata": {},
   "outputs": [
    {
     "name": "stdout",
     "output_type": "stream",
     "text": [
      "Site ID: 4\n"
     ]
    }
   ],
   "source": [
    "r = requests.get(STELLA_SERVER_API + '/sites/' + site, auth=(token, ''))\n",
    "r_json = r.json()\n",
    "site_id = r_json.get('id')\n",
    "print(\"Site ID:\", str(site_id))"
   ]
  },
  {
   "cell_type": "markdown",
   "metadata": {},
   "source": [
    "#### POST session:\n",
    "Using this site identifier we can now create a new session providing a start and end date as well as the site user directly at the Stella server."
   ]
  },
  {
   "cell_type": "code",
   "execution_count": 62,
   "metadata": {},
   "outputs": [],
   "source": [
    "payload = {\n",
    "    'site_user': '123.123.123.123',\n",
    "    'start': \"2020-01-01 00:00:00\",\n",
    "    'end': \"2020-01-01 00:01:00\",\n",
    "    'system_ranking': system\n",
    "}"
   ]
  },
  {
   "cell_type": "code",
   "execution_count": 63,
   "metadata": {},
   "outputs": [
    {
     "name": "stdout",
     "output_type": "stream",
     "text": [
      "Session ID: 3\n"
     ]
    }
   ],
   "source": [
    "r = requests.post(STELLA_SERVER_API + '/sites/' + str(site_id) + '/sessions', data=payload, auth=(token, ''))\n",
    "session_id = r.json()[\"session_id\"]\n",
    "print(\"Session ID:\", str(session_id))"
   ]
  },
  {
   "cell_type": "markdown",
   "metadata": {},
   "source": [
    "#### POST feedback:\n",
    "To send full feedback to the Stella server we use this session identifier and the feedback data specifies in section 2.3 as `ranking_payload`."
   ]
  },
  {
   "cell_type": "code",
   "execution_count": 64,
   "metadata": {},
   "outputs": [
    {
     "name": "stdout",
     "output_type": "stream",
     "text": [
      "Feedback ID: 3\n"
     ]
    }
   ],
   "source": [
    "r = requests.post(STELLA_SERVER_API + '/sessions/' + str(session_id) + '/feedbacks', data=ranking_payload, auth=(token, ''))\n",
    "r_json = r.json()\n",
    "feedback_id = r_json['feedback_id']\n",
    "print(\"Feedback ID:\", str(feedback_id))"
   ]
  },
  {
   "cell_type": "markdown",
   "metadata": {},
   "source": [
    "#### POST ranking:\n",
    "Given the feedback identifier, we can add a ranking to the feedback."
   ]
  },
  {
   "cell_type": "code",
   "execution_count": 65,
   "metadata": {},
   "outputs": [],
   "source": [
    "items = {\n",
    "    \"1\": \"gesis-ssoar-24869\",\n",
    "    \"2\": \"gesis-ssoar-24758\",\n",
    "    \"3\": \"gesis-ssoar-24759\",\n",
    "    \"4\": \"gesis-ssoar-24865\",\n",
    "    \"5\": \"gesis-ssoar-24866\",\n",
    "    \"6\": \"gesis-ssoar-24833\",\n",
    "    \"7\": \"gesis-ssoar-148929\",\n",
    "    \"8\": \"gesis-ssoar-24817\",\n",
    "    \"9\": \"gesis-ssoar-62038\",\n",
    "    \"10\": \"gesis-ssoar-00209397\"\n",
    "}"
   ]
  },
  {
   "cell_type": "code",
   "execution_count": 66,
   "metadata": {},
   "outputs": [],
   "source": [
    "payload = {\n",
    "    'q': 'query goes here!',\n",
    "    'q_date': \"2020-01-01 00:00:00\",\n",
    "    'q_time': 300,\n",
    "    'num_found': 10,\n",
    "    'page': 1,\n",
    "    'rpp': 10,\n",
    "    'items': json.dumps(items)\n",
    "}"
   ]
  },
  {
   "cell_type": "code",
   "execution_count": 67,
   "metadata": {},
   "outputs": [
    {
     "name": "stdout",
     "output_type": "stream",
     "text": [
      "Ranking ID: 7\n"
     ]
    }
   ],
   "source": [
    "r = requests.post(STELLA_SERVER_API + '/feedbacks/' + str(feedback_id) + '/rankings', data=payload, auth=(token, ''))\n",
    "r_json = r.json()\n",
    "ranking_id = r_json['ranking_id']\n",
    "print(\"Ranking ID:\", str(ranking_id))"
   ]
  },
  {
   "cell_type": "markdown",
   "metadata": {},
   "source": [
    "<br>\n",
    "\n",
    "### 3.4 Retrieve feedback:\n",
    "The endpoints `sessions`, `rankings`, and `feedbacks` can be used to retrieve the data using `get`. Depending on the information need data can be requested in these granularities. These endpoints are mainly used by the Stella dashboard to generate the statistic overviews of the experimental systems but can be used as well for other purposes. Even piping result feedback back to an experimental system may be possible!\n",
    "\n",
    "[![](https://mermaid.ink/img/eyJjb2RlIjoic2VxdWVuY2VEaWFncmFtXG5EZXZlbG9wZXIgLT4-ICtTVEVMTEEgU2VydmVyOiBHRVQgU2Vzc2lvblxuU1RFTExBIFNlcnZlciAtLT4-IC1EZXZlbG9wZXI6IHNlc3Npb25cbkRldmVsb3BlciAtPj4gK1NURUxMQSBTZXJ2ZXI6IEdFVCBSYW5raW5nXG5TVEVMTEEgU2VydmVyIC0tPj4gLURldmVsb3BlcjogUmFua2luZ1xuRGV2ZWxvcGVyIC0-PiArU1RFTExBIFNlcnZlcjogR0VUIEZlZWRiYWNrXG5TVEVMTEEgU2VydmVyIC0tPj4gLURldmVsb3BlcjogRmVlZGJhY2tcbiIsIm1lcm1haWQiOnsidGhlbWUiOiJkZWZhdWx0In0sInVwZGF0ZUVkaXRvciI6ZmFsc2UsImF1dG9TeW5jIjp0cnVlLCJ1cGRhdGVEaWFncmFtIjpmYWxzZX0)](https://mermaid-js.github.io/mermaid-live-editor/edit/##eyJjb2RlIjoic2VxdWVuY2VEaWFncmFtXG5cbkRldmVsb3BlciAtPj4gK1NURUxMQSBTZXJ2ZXI6IEdFVCBTZXNzaW9uXG5TVEVMTEEgU2VydmVyIC0tPj4gLURldmVsb3Blcjogc2Vzc2lvblxuRGV2ZWxvcGVyIC0-PiArU1RFTExBIFNlcnZlcjogR0VUIFJhbmtpbmdcblNURUxMQSBTZXJ2ZXIgLS0-PiAtRGV2ZWxvcGVyOiBSYW5raW5nXG5EZXZlbG9wZXIgLT4-ICtTVEVMTEEgU2VydmVyOiBHRVQgRmVlZGJhY2tcblNURUxMQSBTZXJ2ZXIgLS0-PiAtRGV2ZWxvcGVyOiBGZWVkYmFja1xuIiwibWVybWFpZCI6IntcbiAgXCJ0aGVtZVwiOiBcImRlZmF1bHRcIlxufSIsInVwZGF0ZUVkaXRvciI6ZmFsc2UsImF1dG9TeW5jIjp0cnVlLCJ1cGRhdGVEaWFncmFtIjpmYWxzZX0)\n"
   ]
  },
  {
   "cell_type": "markdown",
   "metadata": {},
   "source": [
    "#### GET session:\n",
    "Sessions just contain the basic session metadata."
   ]
  },
  {
   "cell_type": "code",
   "execution_count": 68,
   "metadata": {
    "scrolled": true
   },
   "outputs": [
    {
     "name": "stdout",
     "output_type": "stream",
     "text": [
      "{\n",
      "  \"end\": \"2020-01-01 00:01:00\", \n",
      "  \"id\": 3, \n",
      "  \"site_id\": 4, \n",
      "  \"site_user\": \"123.123.123.123\", \n",
      "  \"start\": \"2020-01-01 00:00:00\", \n",
      "  \"system_ranking\": 8, \n",
      "  \"system_recommendation\": null\n",
      "}\n",
      "\n"
     ]
    }
   ],
   "source": [
    "r = requests.get(STELLA_SERVER_API + '/sessions/' + str(session_id), auth=(token, ''))\n",
    "print(r.text)"
   ]
  },
  {
   "cell_type": "markdown",
   "metadata": {},
   "source": [
    "#### GET ranking:\n",
    "Rankings contain the rankings for a dedicated system only and are not interleaved."
   ]
  },
  {
   "cell_type": "code",
   "execution_count": 69,
   "metadata": {},
   "outputs": [
    {
     "name": "stdout",
     "output_type": "stream",
     "text": [
      "{\n",
      "  \"feedback_id\": 3, \n",
      "  \"items\": {\n",
      "    \"1\": \"gesis-ssoar-24869\", \n",
      "    \"10\": \"gesis-ssoar-00209397\", \n",
      "    \"2\": \"gesis-ssoar-24758\", \n",
      "    \"3\": \"gesis-ssoar-24759\", \n",
      "    \"4\": \"gesis-ssoar-24865\", \n",
      "    \"5\": \"gesis-ssoar-24866\", \n",
      "    \"6\": \"gesis-ssoar-24833\", \n",
      "    \"7\": \"gesis-ssoar-148929\", \n",
      "    \"8\": \"gesis-ssoar-24817\", \n",
      "    \"9\": \"gesis-ssoar-62038\"\n",
      "  }, \n",
      "  \"num_found\": 10, \n",
      "  \"page\": 1, \n",
      "  \"participant_id\": 2, \n",
      "  \"q\": \"query goes here!\", \n",
      "  \"q_date\": \"2020-01-01 00:00:00\", \n",
      "  \"q_time\": 300, \n",
      "  \"rpp\": 10, \n",
      "  \"session_id\": 3, \n",
      "  \"site_id\": 4, \n",
      "  \"system_id\": 8, \n",
      "  \"type\": \"RANK\"\n",
      "}\n",
      "\n"
     ]
    }
   ],
   "source": [
    "r = requests.get(STELLA_SERVER_API + '/rankings/' + str(ranking_id), auth=(token, ''))\n",
    "print(r.text)"
   ]
  },
  {
   "cell_type": "markdown",
   "metadata": {},
   "source": [
    "#### GET feedback:\n",
    "Feedbacks contain the session metadata as well as the interleaved ranking and information about clicks."
   ]
  },
  {
   "cell_type": "code",
   "execution_count": 70,
   "metadata": {},
   "outputs": [
    {
     "name": "stdout",
     "output_type": "stream",
     "text": [
      "{\n",
      "  \"clicks\": {\n",
      "    \"1\": {\n",
      "      \"clicked\": true, \n",
      "      \"date\": \"2020-01-01 00:00:01\", \n",
      "      \"docid\": \"gesis-ssoar-24869\", \n",
      "      \"type\": \"BASE\"\n",
      "    }, \n",
      "    \"10\": {\n",
      "      \"clicked\": false, \n",
      "      \"date\": null, \n",
      "      \"docid\": \"gesis-ssoar-24817\", \n",
      "      \"type\": \"EXP\"\n",
      "    }, \n",
      "    \"11\": {\n",
      "      \"clicked\": false, \n",
      "      \"date\": null, \n",
      "      \"docid\": \"gesis-ssoar-62038\", \n",
      "      \"type\": \"EXP\"\n",
      "    }, \n",
      "    \"12\": {\n",
      "      \"clicked\": false, \n",
      "      \"date\": null, \n",
      "      \"docid\": \"gesis-solis-00209397\", \n",
      "      \"type\": \"BASE\"\n",
      "    }, \n",
      "    \"13\": {\n",
      "      \"clicked\": false, \n",
      "      \"date\": null, \n",
      "      \"docid\": \"gesis-solis-00538083\", \n",
      "      \"type\": \"EXP\"\n",
      "    }, \n",
      "    \"14\": {\n",
      "      \"clicked\": false, \n",
      "      \"date\": null, \n",
      "      \"docid\": \"gesis-ssoar-24746\", \n",
      "      \"type\": \"BASE\"\n",
      "    }, \n",
      "    \"15\": {\n",
      "      \"clicked\": false, \n",
      "      \"date\": null, \n",
      "      \"docid\": \"gesis-ssoar-24711\", \n",
      "      \"type\": \"EXP\"\n",
      "    }, \n",
      "    \"16\": {\n",
      "      \"clicked\": false, \n",
      "      \"date\": null, \n",
      "      \"docid\": \"gesis-bib-98015\", \n",
      "      \"type\": \"BASE\"\n",
      "    }, \n",
      "    \"17\": {\n",
      "      \"clicked\": false, \n",
      "      \"date\": null, \n",
      "      \"docid\": \"gesis-bib-60240\", \n",
      "      \"type\": \"BASE\"\n",
      "    }, \n",
      "    \"18\": {\n",
      "      \"clicked\": false, \n",
      "      \"date\": null, \n",
      "      \"docid\": \"literaturpool-c884392cf07141f27574771cfce912c2\", \n",
      "      \"type\": \"EXP\"\n",
      "    }, \n",
      "    \"19\": {\n",
      "      \"clicked\": false, \n",
      "      \"date\": null, \n",
      "      \"docid\": \"gesis-bib-82984\", \n",
      "      \"type\": \"EXP\"\n",
      "    }, \n",
      "    \"2\": {\n",
      "      \"clicked\": true, \n",
      "      \"date\": \"2020-01-01 00:00:02\", \n",
      "      \"docid\": \"gesis-ssoar-24758\"\n",
      "    }, \n",
      "    \"20\": {\n",
      "      \"clicked\": false, \n",
      "      \"date\": null, \n",
      "      \"docid\": \"gris-publication-72acnq289700\", \n",
      "      \"type\": \"BASE\"\n",
      "    }, \n",
      "    \"3\": {\n",
      "      \"clicked\": false, \n",
      "      \"date\": null, \n",
      "      \"docid\": \"gesis-ssoar-24759\", \n",
      "      \"type\": \"BASE\"\n",
      "    }, \n",
      "    \"4\": {\n",
      "      \"clicked\": false, \n",
      "      \"date\": null, \n",
      "      \"docid\": \"gesis-ssoar-24865\", \n",
      "      \"type\": \"EXP\"\n",
      "    }, \n",
      "    \"5\": {\n",
      "      \"clicked\": false, \n",
      "      \"date\": null, \n",
      "      \"docid\": \"gesis-ssoar-24866\", \n",
      "      \"type\": \"BASE\"\n",
      "    }, \n",
      "    \"6\": {\n",
      "      \"clicked\": false, \n",
      "      \"date\": null, \n",
      "      \"docid\": \"gesis-ssoar-41901\", \n",
      "      \"type\": \"EXP\"\n",
      "    }, \n",
      "    \"7\": {\n",
      "      \"clicked\": false, \n",
      "      \"date\": null, \n",
      "      \"docid\": \"gesis-ssoar-24833\", \n",
      "      \"type\": \"EXP\"\n",
      "    }, \n",
      "    \"8\": {\n",
      "      \"clicked\": false, \n",
      "      \"date\": null, \n",
      "      \"docid\": \"gesis-bib-148929\", \n",
      "      \"type\": \"BASE\"\n",
      "    }, \n",
      "    \"9\": {\n",
      "      \"clicked\": false, \n",
      "      \"date\": null, \n",
      "      \"docid\": \"gesis-ssoar-47257\", \n",
      "      \"type\": \"BASE\"\n",
      "    }\n",
      "  }, \n",
      "  \"end\": \"2020-01-01 00:01:00\", \n",
      "  \"id\": 3, \n",
      "  \"interleave\": true, \n",
      "  \"session_id\": 3, \n",
      "  \"site_id\": 4, \n",
      "  \"start\": \"2020-01-01 00:00:00\"\n",
      "}\n",
      "\n"
     ]
    }
   ],
   "source": [
    "r = requests.get(STELLA_SERVER_API + '/feedbacks/' + str(feedback_id), auth=(token, ''))\n",
    "print(r.text)"
   ]
  },
  {
   "cell_type": "markdown",
   "metadata": {},
   "source": [
    "<br>\n",
    "\n",
    "### 3.5 Get information:\n",
    "In addition, user-centered endpoints like `sites` and `participants` provide information like the number of sessions at a site or the systems provided by a user. These endpints as well are mainly used by the system itself but can be requested for informational purposas.\n",
    "\n",
    "Depending on the user authenticated not all sites are availeble. While the admin user has full acces, the site user are just allowed to request information about systems used on their site. Users who submitted systems get just innformation about their systems.\n",
    "\n",
    "[![](https://mermaid.ink/img/eyJjb2RlIjoic2VxdWVuY2VEaWFncmFtXG5cbkRldmVsb3BlciAtPj4gK1NURUxMQSBTZXJ2ZXI6IEdFVCBzZXNzaW9ucyBvZiBzaXRlXG5TVEVMTEEgU2VydmVyIC0tPj4gLURldmVsb3Blcjogc2Vzc2lvbnMgb2Ygc2l0ZVxuRGV2ZWxvcGVyIC0-PiArU1RFTExBIFNlcnZlcjogR0VUIHN5c3RlbXMgb2Ygc2l0ZVxuU1RFTExBIFNlcnZlciAtLT4-IC1EZXZlbG9wZXI6IHN5c3RlbXMgb2Ygc2l0ZVxuRGV2ZWxvcGVyIC0-PiArU1RFTExBIFNlcnZlcjogR0VUIHBhcnRpY2lwYW50IGluZm9ybWF0aW9uXG5TVEVMTEEgU2VydmVyIC0tPj4gLURldmVsb3BlcjogcGFydGljaXBhbnQgaW5mb3JtYXRpb25cbkRldmVsb3BlciAtPj4gK1NURUxMQSBTZXJ2ZXI6IEdFVCBzeXN0ZW0gSURcblNURUxMQSBTZXJ2ZXIgLS0-PiAtRGV2ZWxvcGVyOiBzeXN0ZW0gSURcblxuIiwibWVybWFpZCI6eyJ0aGVtZSI6ImRlZmF1bHQifSwidXBkYXRlRWRpdG9yIjpmYWxzZSwiYXV0b1N5bmMiOnRydWUsInVwZGF0ZURpYWdyYW0iOmZhbHNlfQ)](https://mermaid-js.github.io/mermaid-live-editor/edit/##eyJjb2RlIjoic2VxdWVuY2VEaWFncmFtXG5cbkRldmVsb3BlciAtPj4gK1NURUxMQSBTZXJ2ZXI6IEdFVCBTZXNzaW9uXG5TVEVMTEEgU2VydmVyIC0tPj4gLURldmVsb3Blcjogc2Vzc2lvblxuRGV2ZWxvcGVyIC0-PiArU1RFTExBIFNlcnZlcjogR0VUIFJhbmtpbmdcblNURUxMQSBTZXJ2ZXIgLS0-PiAtRGV2ZWxvcGVyOiBSYW5raW5nXG5EZXZlbG9wZXIgLT4-ICtTVEVMTEEgU2VydmVyOiBHRVQgRmVlZGJhY2tcblNURUxMQSBTZXJ2ZXIgLS0-PiAtRGV2ZWxvcGVyOiBGZWVkYmFja1xuIiwibWVybWFpZCI6IntcbiAgXCJ0aGVtZVwiOiBcImRlZmF1bHRcIlxufSIsInVwZGF0ZUVkaXRvciI6ZmFsc2UsImF1dG9TeW5jIjp0cnVlLCJ1cGRhdGVEaWFncmFtIjpmYWxzZX0)"
   ]
  },
  {
   "cell_type": "markdown",
   "metadata": {},
   "source": [
    "#### GET sessions of site:\n",
    "Given a site ID like the one we requested in section 3.3 we can request a list of all sessions the site is involved in. "
   ]
  },
  {
   "cell_type": "code",
   "execution_count": 71,
   "metadata": {
    "scrolled": true
   },
   "outputs": [
    {
     "data": {
      "text/plain": [
       "{'end': '2021-07-20 15:03:46',\n",
       " 'id': 1,\n",
       " 'site_id': 4,\n",
       " 'site_user': 'unknown',\n",
       " 'start': '2021-07-20 14:59:46',\n",
       " 'system_ranking': 8,\n",
       " 'system_recommendation': None}"
      ]
     },
     "execution_count": 71,
     "metadata": {},
     "output_type": "execute_result"
    }
   ],
   "source": [
    "r = requests.get(STELLA_SERVER_API + '/sites/' + str(site_id) + '/sessions', auth=(token, ''))\n",
    "r.json()[0]"
   ]
  },
  {
   "cell_type": "markdown",
   "metadata": {},
   "source": [
    "#### GET systems of site\n"
   ]
  },
  {
   "cell_type": "code",
   "execution_count": 72,
   "metadata": {},
   "outputs": [
    {
     "name": "stdout",
     "output_type": "stream",
     "text": [
      "<!DOCTYPE html>\n",
      "<html>\n",
      "  <head>\n",
      "    \n",
      "    <title>Page Not Found</title>\n",
      "    <meta name=\"viewport\" content=\"width=device-width, initial-scale=1.0\">\n",
      "    <!-- Bootstrap -->\n",
      "    <link href=\"//cdnjs.cloudflare.com/ajax/libs/twitter-bootstrap/3.3.7/css/bootstrap.min.css\" rel=\"stylesheet\">\n",
      "    <link rel=\"stylesheet\" href=\"https://cdnjs.cloudflare.com/ajax/libs/font-awesome/4.7.0/css/font-awesome.min.css\">\n",
      "    <link rel=\"icon\" href=\"/static/favicon.ico\" type=\"image/x-icon\">\n",
      "    <style type=\"text/css\">\n",
      "        .navbar-header img {\n",
      "            height: 65px;\n",
      "            margin-bottom: -10px;\n",
      "            margin-top: -10px;\n",
      "        }\n",
      "\n",
      "        .navbar {\n",
      "            color: #ffffff;\n",
      "            background-color: #201C2D;\n",
      "        }\n",
      "    </style>\n",
      "\n",
      "  </head>\n",
      "  <body>\n",
      "    \n",
      "    <div class=\"navbar navbar-inverse\" role=\"navigation\">\n",
      "        <div class=\"container\">\n",
      "            <div class=\"navbar-header\">\n",
      "                <img class=\"navbar-brand\" src=/static/img/stella-logo.png  alt=\"logo\"\n",
      "                     max-height=\"90px\">\n",
      "                <button type=\"button\" class=\"navbar-toggle\" data-toggle=\"collapse\" data-target=\".navbar-collapse\">\n",
      "                    <span class=\"sr-only\">Toggle navigation</span>\n",
      "                    <span class=\"icon-bar\"></span>\n",
      "                    <span class=\"icon-bar\"></span>\n",
      "                    <span class=\"icon-bar\"></span>\n",
      "                </button>\n",
      "                <a class=\"navbar-brand\" href=\"/\">STELLA</a>\n",
      "                </button>\n",
      "                \n",
      "            </div>\n",
      "            <div class=\"navbar-collapse collapse\">\n",
      "                <ul class=\"nav navbar-nav\">\n",
      "                    \n",
      "                    <li><a href=\"https://stella-project.org/\">Website</a></li>\n",
      "                    \n",
      "                </ul>\n",
      "                <ul class=\"nav navbar-nav navbar-right\">\n",
      "                    \n",
      "                        <li><a href=\"/auth/login\">Log In</a></li>\n",
      "                    \n",
      "                </ul>\n",
      "            </div>\n",
      "        </div>\n",
      "    </div>\n",
      "\n",
      "    \n",
      "\n",
      "    <div class=\"container\">\n",
      "\n",
      "    \n",
      "        \n",
      "    \n",
      "\n",
      "\n",
      "<div class=\"page-header\">\n",
      "    <h1>Not Found</h1>\n",
      "</div>\n",
      "\n",
      "</div>\n",
      "\n",
      "\n",
      "\n",
      "\n",
      "    \n",
      "    \n",
      "    <script src=\"//cdnjs.cloudflare.com/ajax/libs/jquery/1.12.4/jquery.min.js\"></script>\n",
      "    <script src=\"//cdnjs.cloudflare.com/ajax/libs/twitter-bootstrap/3.3.7/js/bootstrap.min.js\"></script>\n",
      "\n",
      "  </body>\n",
      "</html>\n",
      "\n"
     ]
    }
   ],
   "source": [
    "# ERROR\n",
    "r = requests.get(STELLA_SERVER_API + '/sites/' + str(site_id) + '/systems', auth=(token, ''))\n",
    "print(r.text)"
   ]
  },
  {
   "cell_type": "markdown",
   "metadata": {},
   "source": [
    "#### GET Participant information:\n",
    "One participant may submit multiple systems. This endpoint lists all submitted endpoints given a participands ID."
   ]
  },
  {
   "cell_type": "code",
   "execution_count": 73,
   "metadata": {},
   "outputs": [
    {
     "name": "stdout",
     "output_type": "stream",
     "text": [
      "[\n",
      "  {\n",
      "    \"id\": 2, \n",
      "    \"name\": \"livivo_rank_precom\", \n",
      "    \"participant_id\": 3, \n",
      "    \"type\": \"RANK\", \n",
      "    \"url\": \"https://github.com/stella-project/livivo_rank_precom\"\n",
      "  }, \n",
      "  {\n",
      "    \"id\": 3, \n",
      "    \"name\": \"livivo_rank_pyserini\", \n",
      "    \"participant_id\": 3, \n",
      "    \"type\": \"RANK\", \n",
      "    \"url\": \"https://github.com/stella-project/livivo_rank_pyserini\"\n",
      "  }, \n",
      "  {\n",
      "    \"id\": 4, \n",
      "    \"name\": \"livivo_rank_pyterrier\", \n",
      "    \"participant_id\": 3, \n",
      "    \"type\": \"RANK\", \n",
      "    \"url\": \"https://github.com/stella-project/livivo_rank_pyterrier\"\n",
      "  }, \n",
      "  {\n",
      "    \"id\": 10, \n",
      "    \"name\": \"gesis_rank_precom\", \n",
      "    \"participant_id\": 3, \n",
      "    \"type\": \"RANK\", \n",
      "    \"url\": \"https://github.com/stella-project/gesis_rank_precom\"\n",
      "  }\n",
      "]\n",
      "\n"
     ]
    }
   ],
   "source": [
    "r = requests.get(STELLA_SERVER_API + '/participants/' + str(3) + '/systems', auth=(token, ''))\n",
    "print(r.text)"
   ]
  },
  {
   "cell_type": "markdown",
   "metadata": {},
   "source": [
    "#### GET system ID:\n",
    "Given a sytems name, like we specified in section 3, this endpoint can request the system ID."
   ]
  },
  {
   "cell_type": "code",
   "execution_count": 74,
   "metadata": {},
   "outputs": [
    {
     "name": "stdout",
     "output_type": "stream",
     "text": [
      "System ID: 8\n"
     ]
    }
   ],
   "source": [
    "r = requests.get(STELLA_SERVER_API + '/system/id/' + str(system), auth=(token, ''))\n",
    "system_id = r.json()[\"system_id\"]\n",
    "print(\"System ID:\", str(system_id))"
   ]
  },
  {
   "cell_type": "markdown",
   "metadata": {},
   "source": [
    "<br>\n",
    "\n",
    "### 3.6 Export results:\n",
    "By calling the `export` endpoint on a system identifier, all results for a system are combined. This endpoint helps to request all feedback data for further investigations and evaluations.\n",
    "\n",
    "\n",
    "[![](https://mermaid.ink/img/eyJjb2RlIjoic2VxdWVuY2VEaWFncmFtXG5EZXZlbG9wZXIgLT4-ICtTVEVMTEEgU2VydmVyOiBHRVQgcmVzdWx0cyBvZiBzeXN0ZW1cblNURUxMQSBTZXJ2ZXIgLS0-PiAtRGV2ZWxvcGVyOiBzZXNzaW9ucyBvZiBzaXRlIiwibWVybWFpZCI6eyJ0aGVtZSI6ImRlZmF1bHQifSwidXBkYXRlRWRpdG9yIjpmYWxzZSwiYXV0b1N5bmMiOnRydWUsInVwZGF0ZURpYWdyYW0iOmZhbHNlfQ)](https://mermaid-js.github.io/mermaid-live-editor/edit/##eyJjb2RlIjoic2VxdWVuY2VEaWFncmFtXG5EZXZlbG9wZXIgLT4-ICtTVEVMTEEgU2VydmVyOiBHRVQgcmVzdWx0cyBvZiBzeXN0ZW1cblNURUxMQSBTZXJ2ZXIgLS0-PiAtRGV2ZWxvcGVyOiBzZXNzaW9ucyBvZiBzaXRlXG4iLCJtZXJtYWlkIjoie1xuICBcInRoZW1lXCI6IFwiZGVmYXVsdFwiXG59IiwidXBkYXRlRWRpdG9yIjpmYWxzZSwiYXV0b1N5bmMiOnRydWUsInVwZGF0ZURpYWdyYW0iOmZhbHNlfQ)"
   ]
  },
  {
   "cell_type": "markdown",
   "metadata": {},
   "source": [
    "#### GET full results for system:"
   ]
  },
  {
   "cell_type": "code",
   "execution_count": 75,
   "metadata": {},
   "outputs": [
    {
     "name": "stdout",
     "output_type": "stream",
     "text": [
      "{\n",
      "  \"Results\": [\n",
      "    {\n",
      "      \"clicks\": {\n",
      "        \"1\": {\n",
      "          \"clicked\": true, \n",
      "          \"date\": \"2020-01-01 00:00:01\", \n",
      "          \"docid\": \"gesis-ssoar-24869\", \n",
      "          \"type\": \"BASE\"\n",
      "        }, \n",
      "        \"10\": {\n",
      "          \"clicked\": false, \n",
      "          \"date\": null, \n",
      "          \"docid\": \"gesis-ssoar-24817\", \n",
      "          \"type\": \"EXP\"\n",
      "        }, \n",
      "        \"11\": {\n",
      "          \"clicked\": false, \n",
      "          \"date\": null, \n",
      "          \"docid\": \"gesis-ssoar-62038\", \n",
      "          \"type\": \"EXP\"\n",
      "        }, \n",
      "        \"12\": {\n",
      "          \"clicked\": false, \n",
      "          \"date\": null, \n",
      "          \"docid\": \"gesis-solis-00209397\", \n",
      "          \"type\": \"BASE\"\n",
      "        }, \n",
      "        \"13\": {\n",
      "          \"clicked\": false, \n",
      "          \"date\": null, \n",
      "          \"docid\": \"gesis-solis-00538083\", \n",
      "          \"type\": \"EXP\"\n",
      "        }, \n",
      "        \"14\": {\n",
      "          \"clicked\": false, \n",
      "          \"date\": null, \n",
      "          \"docid\": \"gesis-ssoar-24746\", \n",
      "          \"type\": \"BASE\"\n",
      "        }, \n",
      "        \"15\": {\n",
      "          \"clicked\": false, \n",
      "          \"date\": null, \n",
      "          \"docid\": \"gesis-ssoar-24711\", \n",
      "          \"type\": \"EXP\"\n",
      "        }, \n",
      "        \"16\": {\n",
      "          \"clicked\": false, \n",
      "          \"date\": null, \n",
      "          \"docid\": \"gesis-bib-98015\", \n",
      "          \"type\": \"BASE\"\n",
      "        }, \n",
      "        \"17\": {\n",
      "          \"clicked\": false, \n",
      "          \"date\": null, \n",
      "          \"docid\": \"gesis-bib-60240\", \n",
      "          \"type\": \"BASE\"\n",
      "        }, \n",
      "        \"18\": {\n",
      "          \"clicked\": false, \n",
      "          \"date\": null, \n",
      "          \"docid\": \"literaturpool-c884392cf07141f27574771cfce912c2\", \n",
      "          \"type\": \"EXP\"\n",
      "        }, \n",
      "        \"19\": {\n",
      "          \"clicked\": false, \n",
      "          \"date\": null, \n",
      "          \"docid\": \"gesis-bib-82984\", \n",
      "          \"type\": \"EXP\"\n",
      "        }, \n",
      "        \"2\": {\n",
      "          \"clicked\": true, \n",
      "          \"date\": \"2020-01-01 00:00:02\", \n",
      "          \"docid\": \"gesis-ssoar-24758\"\n",
      "        }, \n",
      "        \"20\": {\n",
      "          \"clicked\": false, \n",
      "          \"date\": null, \n",
      "          \"docid\": \"gris-publication-72acnq289700\", \n",
      "          \"type\": \"BASE\"\n",
      "        }, \n",
      "        \"3\": {\n",
      "          \"clicked\": false, \n",
      "          \"date\": null, \n",
      "          \"docid\": \"gesis-ssoar-24759\", \n",
      "          \"type\": \"BASE\"\n",
      "        }, \n",
      "        \"4\": {\n",
      "          \"clicked\": false, \n",
      "          \"date\": null, \n",
      "          \"docid\": \"gesis-ssoar-24865\", \n",
      "          \"type\": \"EXP\"\n",
      "        }, \n",
      "        \"5\": {\n",
      "          \"clicked\": false, \n",
      "          \"date\": null, \n",
      "          \"docid\": \"gesis-ssoar-24866\", \n",
      "          \"type\": \"BASE\"\n",
      "        }, \n",
      "        \"6\": {\n",
      "          \"clicked\": false, \n",
      "          \"date\": null, \n",
      "          \"docid\": \"gesis-ssoar-41901\", \n",
      "          \"type\": \"EXP\"\n",
      "        }, \n",
      "        \"7\": {\n",
      "          \"clicked\": false, \n",
      "          \"date\": null, \n",
      "          \"docid\": \"gesis-ssoar-24833\", \n",
      "          \"type\": \"EXP\"\n",
      "        }, \n",
      "        \"8\": {\n",
      "          \"clicked\": false, \n",
      "          \"date\": null, \n",
      "          \"docid\": \"gesis-bib-148929\", \n",
      "          \"type\": \"BASE\"\n",
      "        }, \n",
      "        \"9\": {\n",
      "          \"clicked\": false, \n",
      "          \"date\": null, \n",
      "          \"docid\": \"gesis-ssoar-47257\", \n",
      "          \"type\": \"BASE\"\n",
      "        }\n",
      "      }, \n",
      "      \"end\": \"Tue, 20 Jul 2021 14:59:46 GMT\", \n",
      "      \"interleave\": true, \n",
      "      \"start\": \"Tue, 20 Jul 2021 14:59:46 GMT\"\n",
      "    }, \n",
      "    {\n",
      "      \"clicks\": {\n",
      "        \"1\": {\n",
      "          \"clicked\": true, \n",
      "          \"date\": \"2020-01-01 00:00:01\", \n",
      "          \"docid\": \"gesis-ssoar-24869\", \n",
      "          \"type\": \"BASE\"\n",
      "        }, \n",
      "        \"10\": {\n",
      "          \"clicked\": false, \n",
      "          \"date\": null, \n",
      "          \"docid\": \"gesis-ssoar-24817\", \n",
      "          \"type\": \"EXP\"\n",
      "        }, \n",
      "        \"11\": {\n",
      "          \"clicked\": false, \n",
      "          \"date\": null, \n",
      "          \"docid\": \"gesis-ssoar-62038\", \n",
      "          \"type\": \"EXP\"\n",
      "        }, \n",
      "        \"12\": {\n",
      "          \"clicked\": false, \n",
      "          \"date\": null, \n",
      "          \"docid\": \"gesis-solis-00209397\", \n",
      "          \"type\": \"BASE\"\n",
      "        }, \n",
      "        \"13\": {\n",
      "          \"clicked\": false, \n",
      "          \"date\": null, \n",
      "          \"docid\": \"gesis-solis-00538083\", \n",
      "          \"type\": \"EXP\"\n",
      "        }, \n",
      "        \"14\": {\n",
      "          \"clicked\": false, \n",
      "          \"date\": null, \n",
      "          \"docid\": \"gesis-ssoar-24746\", \n",
      "          \"type\": \"BASE\"\n",
      "        }, \n",
      "        \"15\": {\n",
      "          \"clicked\": false, \n",
      "          \"date\": null, \n",
      "          \"docid\": \"gesis-ssoar-24711\", \n",
      "          \"type\": \"EXP\"\n",
      "        }, \n",
      "        \"16\": {\n",
      "          \"clicked\": false, \n",
      "          \"date\": null, \n",
      "          \"docid\": \"gesis-bib-98015\", \n",
      "          \"type\": \"BASE\"\n",
      "        }, \n",
      "        \"17\": {\n",
      "          \"clicked\": false, \n",
      "          \"date\": null, \n",
      "          \"docid\": \"gesis-bib-60240\", \n",
      "          \"type\": \"BASE\"\n",
      "        }, \n",
      "        \"18\": {\n",
      "          \"clicked\": false, \n",
      "          \"date\": null, \n",
      "          \"docid\": \"literaturpool-c884392cf07141f27574771cfce912c2\", \n",
      "          \"type\": \"EXP\"\n",
      "        }, \n",
      "        \"19\": {\n",
      "          \"clicked\": false, \n",
      "          \"date\": null, \n",
      "          \"docid\": \"gesis-bib-82984\", \n",
      "          \"type\": \"EXP\"\n",
      "        }, \n",
      "        \"2\": {\n",
      "          \"clicked\": true, \n",
      "          \"date\": \"2020-01-01 00:00:02\", \n",
      "          \"docid\": \"gesis-ssoar-24758\"\n",
      "        }, \n",
      "        \"20\": {\n",
      "          \"clicked\": false, \n",
      "          \"date\": null, \n",
      "          \"docid\": \"gris-publication-72acnq289700\", \n",
      "          \"type\": \"BASE\"\n",
      "        }, \n",
      "        \"3\": {\n",
      "          \"clicked\": false, \n",
      "          \"date\": null, \n",
      "          \"docid\": \"gesis-ssoar-24759\", \n",
      "          \"type\": \"BASE\"\n",
      "        }, \n",
      "        \"4\": {\n",
      "          \"clicked\": false, \n",
      "          \"date\": null, \n",
      "          \"docid\": \"gesis-ssoar-24865\", \n",
      "          \"type\": \"EXP\"\n",
      "        }, \n",
      "        \"5\": {\n",
      "          \"clicked\": false, \n",
      "          \"date\": null, \n",
      "          \"docid\": \"gesis-ssoar-24866\", \n",
      "          \"type\": \"BASE\"\n",
      "        }, \n",
      "        \"6\": {\n",
      "          \"clicked\": false, \n",
      "          \"date\": null, \n",
      "          \"docid\": \"gesis-ssoar-41901\", \n",
      "          \"type\": \"EXP\"\n",
      "        }, \n",
      "        \"7\": {\n",
      "          \"clicked\": false, \n",
      "          \"date\": null, \n",
      "          \"docid\": \"gesis-ssoar-24833\", \n",
      "          \"type\": \"EXP\"\n",
      "        }, \n",
      "        \"8\": {\n",
      "          \"clicked\": false, \n",
      "          \"date\": null, \n",
      "          \"docid\": \"gesis-bib-148929\", \n",
      "          \"type\": \"BASE\"\n",
      "        }, \n",
      "        \"9\": {\n",
      "          \"clicked\": false, \n",
      "          \"date\": null, \n",
      "          \"docid\": \"gesis-ssoar-47257\", \n",
      "          \"type\": \"BASE\"\n",
      "        }\n",
      "      }, \n",
      "      \"end\": \"Wed, 01 Jan 2020 00:01:00 GMT\", \n",
      "      \"interleave\": true, \n",
      "      \"start\": \"Wed, 01 Jan 2020 00:00:00 GMT\"\n",
      "    }\n",
      "  ]\n",
      "}\n",
      "\n"
     ]
    }
   ],
   "source": [
    "r = requests.get(STELLA_SERVER_API + '/system/' + str(system_id) + '/export', auth=(token, ''))\n",
    "print(r.text)"
   ]
  },
  {
   "cell_type": "code",
   "execution_count": null,
   "metadata": {},
   "outputs": [],
   "source": []
  }
 ],
 "metadata": {
  "kernelspec": {
   "display_name": "Python 3",
   "language": "python",
   "name": "python3"
  },
  "language_info": {
   "codemirror_mode": {
    "name": "ipython",
    "version": 3
   },
   "file_extension": ".py",
   "mimetype": "text/x-python",
   "name": "python",
   "nbconvert_exporter": "python",
   "pygments_lexer": "ipython3",
   "version": "3.8.10"
  },
  "toc-autonumbering": false,
  "toc-showmarkdowntxt": false,
  "toc-showtags": false
 },
 "nbformat": 4,
 "nbformat_minor": 4
}