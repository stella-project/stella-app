{
 "cells": [
  {
   "cell_type": "markdown",
   "metadata": {},
   "source": [
    "<a href=\"https://stella-project.org/\"><img align=\"right\" width=\"100\" src=\"doc/img/logo-st.JPG\" /></a>\n",
    "<br>\n",
    "# STELLA Demo\n",
    "\n",
    "This interactive demo guide walks you through the [STELLA](https://stella-project.org/) infrastructure using the STELLA [demo.yml](https://github.com/stella-project/stella-app/blob/master/demo.yml) docker-compose stack. It is designed to give a simple but comprehensive overview of the functionalities of the STELLA Living Lab infrastructure.\n",
    "<br><br>\n",
    "After an initial setup and a brief overview of the systems and the data used, we will follow a query created by a user and the resulting feedback data through the system.\n",
    "\n",
    "<br>\n",
    "\n",
    "### Table of content:\n",
    "1. **Setup**\n",
    "  - 1.1 System startup\n",
    "  - 1.2 Data \n",
    "  \n",
    "  \n",
    "2. **STELLA app**\n",
    "  - 2.1 Indexing documents\n",
    "  - 2.2 Querying results\n",
    "  - 2.3 Saving feedback\n",
    "  - 2.4 End session\n",
    "  \n",
    "  \n",
    "3. **STELLA server**\n",
    "  - 3.1 Server web interface\n",
    "  - 3.2 Authentication\n",
    "  - 3.3 Saving feedback\n",
    "  - 3.4 Retrieve feedback\n",
    "  - 3.5 Retrieve information\n",
    "  - 3.6 Export results\n",
    "\n",
    "<br>\n",
    "\n",
    "### Flowchart:\n",
    "[![](https://mermaid.ink/img/eyJjb2RlIjoic2VxdWVuY2VEaWFncmFtXG5TZWFyY2ggUG9ydGFsIFVzZXIgLT4-ICtTZWFyY2ggUG9ydGFsOiBRdWVyeTogXCJpbmZsdWVuemFcIlxuXG5yZWN0IHJnYigwLCAwLCAwLCAuMDgpXG5Ob3RlIHJpZ2h0IG9mIFNlYXJjaCBQb3J0YWw6IDIuMiBRdWVyeWluZyBSZXN1bHRzXG4lJVxuU2VhcmNoIFBvcnRhbCAtPj4gK1NURUxMQSBBcHA6IEdFVCBSYW5raW5nXG5TVEVMTEEgQXBwIC0-PiArRXhwZXJpbWVudGFsIFN5c3RlbTogR0VUIFJhbmtpbmdcbkV4cGVyaW1lbnRhbCBTeXN0ZW0gLS0-PiAtU1RFTExBIEFwcDogUmFua2luZ1xuU1RFTExBIEFwcCAtPj4gK0Jhc2UgU3lzdGVtOiBHRVQgUmFua2luZ1xuQmFzZSBTeXN0ZW0gLS0-PiAtU1RFTExBIEFwcDogUmFua2luZ1xuTm90ZSBvdmVyIFNURUxMQSBBcHA6IEludGVybGVhdmVkIFJhbmtpbmdzXG5TVEVMTEEgQXBwIC0tPj4gLVNlYXJjaCBQb3J0YWw6IHJldHVybiBpbnRlcmxlYXZlZCBSYW5raW5nIFxuZW5kXG5cblxuXG5TZWFyY2ggUG9ydGFsIC0tPj4gU2VhcmNoIFBvcnRhbCBVc2VyOiBTZWFyY2ggUmVzdWx0cyBSYW5raW5nXG5TZWFyY2ggUG9ydGFsIFVzZXIgLT4-IFNlYXJjaCBQb3J0YWw6IENsaWNrIERvY2t1bWVudCBBXG5TZWFyY2ggUG9ydGFsIFVzZXIgLT4-IFNlYXJjaCBQb3J0YWw6IENsaWNrIERvY2t1bWVudCBCXG5TZWFyY2ggUG9ydGFsIFVzZXIgLT4-IFNlYXJjaCBQb3J0YWw6IENsaWNrIC4uLlxuXG5yZWN0IHJnYigwLCAwLCAwLCAuMDgpXG5Ob3RlIHJpZ2h0IG9mIFNlYXJjaCBQb3J0YWw6IDIuMyBTYXZpbmcgRmVlZGJhY2tcbiUlXG5TZWFyY2ggUG9ydGFsIC0pIC1TVEVMTEEgQXBwOiBQT1NUIGZlZWRiYWNrXG5lbmRcblxucmVjdCByZ2IoMCwgMCwgMCwgLjA4KVxuTm90ZSByaWdodCBvZiBTZWFyY2ggUG9ydGFsOiAyLjQgU2Vzc2lvbnNcbiUlXG5TZWFyY2ggUG9ydGFsIC0pIFNURUxMQSBBcHA6IGV4aXQgU2Vzc2lvblxuZW5kXG5cbnJlY3QgcmdiKDAsIDAsIDAsIC4wOClcbk5vdGUgcmlnaHQgb2YgU1RFTExBIEFwcDogMy4yIEF1dGhlbnRpY2F0aW9uXG4lJVxuU1RFTExBIEFwcCAtPj4gK1NURUxMQSBTZXJ2ZXI6IFBPU1QgL3Rva2Vuc1xuU1RFTExBIFNlcnZlciAtLT4-IC1TVEVMTEEgQXBwOiBBdXRoZW50aWNhdGlvbiBUb2tlblxuZW5kXG5cbnJlY3QgcmdiKDAsIDAsIDAsIC4wOClcbk5vdGUgcmlnaHQgb2YgU1RFTExBIEFwcDogMy4zIFNhdmluZyBGZWVkYmFja1xuJSVcbmxvb3AgRXZlcnkgeCBtaW51dGVzXG5TVEVMTEEgQXBwIC0pIFNURUxMQSBTZXJ2ZXI6IFBPU1QgU2Vzc2lvblxuU1RFTExBIEFwcCAtKSBTVEVMTEEgU2VydmVyOiBQT1NUIEZlZWRiYWNrXG5TVEVMTEEgQXBwIC0pIFNURUxMQSBTZXJ2ZXI6IFBPU1QgUmFua2luZ1xuZW5kXG5lbmRcblxucmVjdCByZ2IoMCwgMCwgMCwgLjA4KVxuTm90ZSByaWdodCBvZiBTVEVMTEEgU2VydmVyOiAzLjQgUmV0cmlldmUgZmVlZGJhY2tcbiUlXG5EZXZlbG9wZXIgLT4-ICtTVEVMTEEgU2VydmVyOiBHRVQgU2Vzc2lvblxuU1RFTExBIFNlcnZlciAtLT4-IC1EZXZlbG9wZXI6IHNlc3Npb25cbkRldmVsb3BlciAtPj4gK1NURUxMQSBTZXJ2ZXI6IEdFVCBSYW5raW5nXG5TVEVMTEEgU2VydmVyIC0tPj4gLURldmVsb3BlcjogUmFua2luZ1xuRGV2ZWxvcGVyIC0-PiArU1RFTExBIFNlcnZlcjogR0VUIEZlZWRiYWNrXG5TVEVMTEEgU2VydmVyIC0tPj4gLURldmVsb3BlcjogRmVlZGJhY2tcbmVuZFxuXG5cbnJlY3QgcmdiKDAsIDAsIDAsIC4wOClcbk5vdGUgcmlnaHQgb2YgU1RFTExBIFNlcnZlcjogMy41IFJldHJpZXZlIGluZm9ybWF0aW9uXG4lJVxuRGV2ZWxvcGVyIC0-PiArU1RFTExBIFNlcnZlcjogR0VUIHNlc3Npb25zIG9mIHNpdGVcblNURUxMQSBTZXJ2ZXIgLS0-PiAtRGV2ZWxvcGVyOiBzZXNzaW9ucyBvZiBzaXRlXG5EZXZlbG9wZXIgLT4-ICtTVEVMTEEgU2VydmVyOiBHRVQgc3lzdGVtcyBvZiBzaXRlXG5TVEVMTEEgU2VydmVyIC0tPj4gLURldmVsb3Blcjogc3lzdGVtcyBvZiBzaXRlXG5EZXZlbG9wZXIgLT4-ICtTVEVMTEEgU2VydmVyOiBHRVQgcGFydGljaXBhbnQgaW5mb3JtYXRpb25cblNURUxMQSBTZXJ2ZXIgLS0-PiAtRGV2ZWxvcGVyOiBwYXJ0aWNpcGFudCBpbmZvcm1hdGlvblxuRGV2ZWxvcGVyIC0-PiArU1RFTExBIFNlcnZlcjogR0VUIHN5c3RlbSBJRFxuU1RFTExBIFNlcnZlciAtLT4-IC1EZXZlbG9wZXI6IHN5c3RlbSBJRFxuZW5kXG5cblxucmVjdCByZ2IoMCwgMCwgMCwgLjA4KVxuTm90ZSByaWdodCBvZiBTVEVMTEEgU2VydmVyOiAzLjYgRXhwb3J0IHJlc3VsdHNcbiUlXG5EZXZlbG9wZXIgLT4-ICtTVEVMTEEgU2VydmVyOiBHRVQgcmVzdWx0cyBvZiBzeXN0ZW1cblNURUxMQSBTZXJ2ZXIgLS0-PiAtRGV2ZWxvcGVyOiByZXN1bHRzIG9mIHN5c3RlbVxuZW5kXG4iLCJtZXJtYWlkIjp7InRoZW1lIjoiZGVmYXVsdCJ9LCJ1cGRhdGVFZGl0b3IiOmZhbHNlLCJhdXRvU3luYyI6dHJ1ZSwidXBkYXRlRGlhZ3JhbSI6ZmFsc2V9)](https://mermaid-js.github.io/mermaid-live-editor/edit/##eyJjb2RlIjoic2VxdWVuY2VEaWFncmFtXG5TZWFyY2ggUG9ydGFsIFVzZXIgLT4-ICtTZWFyY2ggUG9ydGFsOiBRdWVyeTogXCJpbmZsdWVuemFcIlxuXG5yZWN0IHJnYigwLCAwLCAwLCAuMDgpXG5Ob3RlIHJpZ2h0IG9mIFNlYXJjaCBQb3J0YWw6IDIuMiBRdWVyeWluZyBSZXN1bHRzXG4lJVxuU2VhcmNoIFBvcnRhbCAtPj4gK1NURUxMQSBBcHA6IEdFVCBSYW5raW5nXG5TVEVMTEEgQXBwIC0-PiArRXhwZXJpbWVudGFsIFN5c3RlbTogR0VUIFJhbmtpbmdcbkV4cGVyaW1lbnRhbCBTeXN0ZW0gLS0-PiAtU1RFTExBIEFwcDogUmFua2luZ1xuU1RFTExBIEFwcCAtPj4gK0Jhc2UgU3lzdGVtOiBHRVQgUmFua2luZ1xuQmFzZSBTeXN0ZW0gLS0-PiAtU1RFTExBIEFwcDogUmFua2luZ1xuTm90ZSBvdmVyIFNURUxMQSBBcHA6IEludGVybGVhdmVkIFJhbmtpbmdzXG5TVEVMTEEgQXBwIC0tPj4gLVNlYXJjaCBQb3J0YWw6IHJldHVybiBpbnRlcmxlYXZlZCBSYW5raW5nIFxuZW5kXG5cblxuXG5TZWFyY2ggUG9ydGFsIC0tPj4gU2VhcmNoIFBvcnRhbCBVc2VyOiBTZWFyY2ggUmVzdWx0cyBSYW5raW5nXG5TZWFyY2ggUG9ydGFsIFVzZXIgLT4-IFNlYXJjaCBQb3J0YWw6IENsaWNrIERvY2t1bWVudCBBXG5TZWFyY2ggUG9ydGFsIFVzZXIgLT4-IFNlYXJjaCBQb3J0YWw6IENsaWNrIERvY2t1bWVudCBCXG5TZWFyY2ggUG9ydGFsIFVzZXIgLT4-IFNlYXJjaCBQb3J0YWw6IENsaWNrIC4uLlxuXG5yZWN0IHJnYigwLCAwLCAwLCAuMDgpXG5Ob3RlIHJpZ2h0IG9mIFNlYXJjaCBQb3J0YWw6IDIuMyBTYXZpbmcgRmVlZGJhY2tcbiUlXG5TZWFyY2ggUG9ydGFsIC0pIC1TVEVMTEEgQXBwOiBQT1NUIGZlZWRiYWNrXG5lbmRcblxucmVjdCByZ2IoMCwgMCwgMCwgLjA4KVxuTm90ZSByaWdodCBvZiBTZWFyY2ggUG9ydGFsOiAyLjQgU2Vzc2lvbnNcbiUlXG5TZWFyY2ggUG9ydGFsIC0pIFNURUxMQSBBcHA6IGV4aXQgU2Vzc2lvblxuZW5kXG5cbnJlY3QgcmdiKDAsIDAsIDAsIC4wOClcbk5vdGUgcmlnaHQgb2YgU1RFTExBIEFwcDogMy4yIEF1dGhlbnRpY2F0aW9uXG4lJVxuU1RFTExBIEFwcCAtPj4gK1NURUxMQSBTZXJ2ZXI6IFBPU1QgL3Rva2Vuc1xuU1RFTExBIFNlcnZlciAtLT4-IC1TVEVMTEEgQXBwOiBBdXRoZW50aWNhdGlvbiBUb2tlblxuZW5kXG5cbnJlY3QgcmdiKDAsIDAsIDAsIC4wOClcbk5vdGUgcmlnaHQgb2YgU1RFTExBIEFwcDogMy4zIFNhdmluZyBGZWVkYmFja1xuJSVcbmxvb3AgRXZlcnkgeCBtaW51dGVzXG5TVEVMTEEgQXBwIC0pIFNURUxMQSBTZXJ2ZXI6IFBPU1QgU2Vzc2lvblxuU1RFTExBIEFwcCAtKSBTVEVMTEEgU2VydmVyOiBQT1NUIEZlZWRiYWNrXG5TVEVMTEEgQXBwIC0pIFNURUxMQSBTZXJ2ZXI6IFBPU1QgUmFua2luZ1xuZW5kXG5lbmRcblxucmVjdCByZ2IoMCwgMCwgMCwgLjA4KVxuTm90ZSByaWdodCBvZiBTVEVMTEEgU2VydmVyOiAzLjQgUmV0cmlldmUgZmVlZGJhY2tcbiUlXG5EZXZlbG9wZXIgLT4-ICtTVEVMTEEgU2VydmVyOiBHRVQgU2Vzc2lvblxuU1RFTExBIFNlcnZlciAtLT4-IC1EZXZlbG9wZXI6IHNlc3Npb25cbkRldmVsb3BlciAtPj4gK1NURUxMQSBTZXJ2ZXI6IEdFVCBSYW5raW5nXG5TVEVMTEEgU2VydmVyIC0tPj4gLURldmVsb3BlcjogUmFua2luZ1xuRGV2ZWxvcGVyIC0-PiArU1RFTExBIFNlcnZlcjogR0VUIEZlZWRiYWNrXG5TVEVMTEEgU2VydmVyIC0tPj4gLURldmVsb3BlcjogRmVlZGJhY2tcbmVuZFxuXG5cbnJlY3QgcmdiKDAsIDAsIDAsIC4wOClcbk5vdGUgcmlnaHQgb2YgU1RFTExBIFNlcnZlcjogMy41IFJldHJpZXZlIGluZm9ybWF0aW9uXG4lJVxuRGV2ZWxvcGVyIC0-PiArU1RFTExBIFNlcnZlcjogR0VUIHNlc3Npb25zIG9mIHNpdGVcblNURUxMQSBTZXJ2ZXIgLS0-PiAtRGV2ZWxvcGVyOiBzZXNzaW9ucyBvZiBzaXRlXG5EZXZlbG9wZXIgLT4-ICtTVEVMTEEgU2VydmVyOiBHRVQgc3lzdGVtcyBvZiBzaXRlXG5TVEVMTEEgU2VydmVyIC0tPj4gLURldmVsb3Blcjogc3lzdGVtcyBvZiBzaXRlXG5EZXZlbG9wZXIgLT4-ICtTVEVMTEEgU2VydmVyOiBHRVQgcGFydGljaXBhbnQgaW5mb3JtYXRpb25cblNURUxMQSBTZXJ2ZXIgLS0-PiAtRGV2ZWxvcGVyOiBwYXJ0aWNpcGFudCBpbmZvcm1hdGlvblxuRGV2ZWxvcGVyIC0-PiArU1RFTExBIFNlcnZlcjogR0VUIHN5c3RlbSBJRFxuU1RFTExBIFNlcnZlciAtLT4-IC1EZXZlbG9wZXI6IHN5c3RlbSBJRFxuZW5kXG5cblxucmVjdCByZ2IoMCwgMCwgMCwgLjA4KVxuTm90ZSByaWdodCBvZiBTVEVMTEEgU2VydmVyOiAzLjYgRXhwb3J0IHJlc3VsdHNcbiUlXG5EZXZlbG9wZXIgLT4-ICtTVEVMTEEgU2VydmVyOiBHRVQgcmVzdWx0cyBvZiBzeXN0ZW1cblNURUxMQSBTZXJ2ZXIgLS0-PiAtRGV2ZWxvcGVyOiBzZXNzaW9ucyBvZiBzaXRlXG5lbmRcbiIsIm1lcm1haWQiOiJ7XG4gIFwidGhlbWVcIjogXCJkZWZhdWx0XCJcbn0iLCJ1cGRhdGVFZGl0b3IiOmZhbHNlLCJhdXRvU3luYyI6dHJ1ZSwidXBkYXRlRGlhZ3JhbSI6ZmFsc2V9)"
   ]
  },
  {
   "cell_type": "markdown",
   "metadata": {},
   "source": [
    "<br><br>\n",
    "\n",
    "## 1. Setup\n",
    "---\n",
    "For an in depth setup guide please visit the [full documentation](https://github.com/stella-project/stella-documentation/wiki/Setup-guide-(local)). For this guide, the [demo.yml](https://github.com/stella-project/stella-app/blob/master/demo.yml) compose-stack is used. \n",
    "\n",
    "Before starting, please make sure:\n",
    "1. `docker` and `docker-compose` are installed,\n",
    "2. the repositorys [stella-app](https://github.com/stella-project/stella-app) and [stella-server](https://github.com/stella-project/stella-server) are cloned and\n",
    "3. you have downloaded at least some of the provided [data](https://th-koeln.sciebo.de/s/OBm0NLEwz1RYl9N?path=%2F) to the `/data` directory.\n",
    "\n",
    "\n",
    "<br>\n",
    "\n",
    "### 1.1 System startup:\n",
    "\n",
    "If the requirements are satisfied, at most, minimal adjustments should be needed. While the infrastructure is intended as a distributed system, for this tutorial we will set up all components on one machine, using a single docker-compose stack. Any changes, if needed, take place in the [demo.yml](https://github.com/stella-project/stella-app/blob/master/demo.yml) file. If not freely available on your machine, make sure to change the ports `8000` and `8080`. <br>\n",
    "Since indexing the data can be performance-intensive, depending on the amount of data, experimental systems and your system specifications, it can be necessary to disable the `BULK_INDEX` option to prevent auto indexing at system start and trigger indexing for the systems manualy.\n",
    "\n",
    "Now you should be ready to start your system. This may take a few minutes, so please be patient."
   ]
  },
  {
   "cell_type": "code",
   "execution_count": 1,
   "metadata": {},
   "outputs": [
    {
     "name": "stdout",
     "output_type": "stream",
     "text": [
      "Creating gesis_rec_precom ... \n",
      "Creating stella-app_db_1  ... \n",
      "Creating livivo_rank_precom ... \n",
      "Creating stella-app_db_server_1 ... \n",
      "Creating gesis_rec_pyserini     ... \n",
      "Creating livivo_rank_pyserini   ... \n",
      "\u001b[3BCreating stella-app_web_1       ... mdone\u001b[0m\u001b[6A\u001b[2K\u001b[4A\u001b[2K\u001b[3A\u001b[2K\n",
      "\u001b[3BCreating stella-app_app_1       ... mdone\u001b[0m\n",
      "\u001b[1Bting stella-app_app_1       ... \u001b[32mdone\u001b[0m\u001b[1A\u001b[2K"
     ]
    }
   ],
   "source": [
    "!docker-compose -f demo.yml up -d"
   ]
  },
  {
   "cell_type": "markdown",
   "metadata": {},
   "source": [
    "<br>\n",
    "\n",
    "### 1.2 Data:\n",
    "In this demo we use the provided data from the [LiLAS Lab](https://clef-lilas.github.io/) at the [CLEF](http://clef2021.clef-initiative.eu/index.php) conference 2021.\n",
    "The two scientific search sites [LIVIVO](https://www.livivo.de) and [Gesis Search](https://www.gesis.org/en/home)\n",
    "participated as search portals and provided metadata for documents.\n",
    "<br>\n",
    "This metadata is queried by the search portal users. Therefore all participating ranking system has indexed the metadata and the STELLA App creates interleaved rankings to be displayed on the search portal to the search portal users.\n",
    "<br>\n",
    "In the [LiLAS Lab](https://clef-lilas.github.io/), [LIVIVO](https://www.livivo.de) functions as an ad-hoc retrieval site and [Gesis Search](https://www.gesis.org/en/home) as a recommendation system site. In this demo, we set up the STELLA App as \"LIVIVO\" for ad-hock retrieval."
   ]
  },
  {
   "cell_type": "markdown",
   "metadata": {},
   "source": [
    "<br><br>\n",
    "\n",
    "## 2. STELLA app:\n",
    "---\n",
    "\n",
    "The [stella-app](https://github.com/stella-project/stella-app) connects the search interface, like [LIVIVO](https://www.livivo.de), [Gesis](https://www.gesis.org/en/home) or your own,  with the experimental ranking systems and is responsible for interleaving the results. For this demo we installed the ranking systems `livivo_rank_precom`, `livivo_rank_pyserini`, `gesis_rec_precom` and `gesis_rec_pyserini`, just to cover all use-cases. These four ranking systems, two baseline systems and two experimental systems are included in the [demo.yml](https://github.com/stella-project/stella-app/blob/master/demo.yml) file. <br>\n",
    "To learn how to develop your own ranking system or to use a pre-computed run please visit the full [documentation](https://github.com/stella-project/stella-documentation/wiki).\n",
    "\n",
    "For interaction and communication between the systems different endpoints are available and described in the following:"
   ]
  },
  {
   "cell_type": "code",
   "execution_count": 1,
   "metadata": {},
   "outputs": [],
   "source": [
    "STELLA_URL = 'http://0.0.0.0:8080'\n",
    "STELLA_APP_API = 'http://0.0.0.0:8080/stella/api/v1/'"
   ]
  },
  {
   "cell_type": "markdown",
   "metadata": {},
   "source": [
    "<br>\n",
    "\n",
    "### 2.1 Indexing documents:\n",
    "If `BULK_INDEX` is disabled while creating the docker-compose stack, systems can be indexed either through the [stella-app web ui](http://0.0.0.0:8080) or the stella-app endpoint.\n",
    "\n",
    "**1. Web UI:**\n",
    "\n",
    "You can reach the stella-app web UI via [http://0.0.0.0:8080/](http://0.0.0.0:8080/) and trigger indexing for specific systems.\n",
    "\n",
    "**2. Endpoint:**\n",
    "- `/index/<system_name>` let you index a specific system."
   ]
  },
  {
   "cell_type": "code",
   "execution_count": 3,
   "metadata": {},
   "outputs": [],
   "source": [
    "import requests"
   ]
  },
  {
   "cell_type": "code",
   "execution_count": 5,
   "metadata": {},
   "outputs": [
    {
     "name": "stdout",
     "output_type": "stream",
     "text": [
      "<!DOCTYPE HTML PUBLIC \"-//W3C//DTD HTML 3.2 Final//EN\">\n",
      "<title>500 Internal Server Error</title>\n",
      "<h1>Internal Server Error</h1>\n",
      "<p>The server encountered an internal error and was unable to complete your request. Either the server is overloaded or there is an error in the application.</p>\n",
      "\n"
     ]
    }
   ],
   "source": [
    "SYSTEM_NAME = 'livivo_rank_precom'\n",
    "\n",
    "r = requests.get(STELLA_URL + '/index/' + SYSTEM_NAME)\n",
    "print(r.text)"
   ]
  },
  {
   "cell_type": "markdown",
   "metadata": {},
   "source": [
    "- `/index/bulk` let you trigger the full bulk index."
   ]
  },
  {
   "cell_type": "code",
   "execution_count": null,
   "metadata": {},
   "outputs": [],
   "source": [
    "r = requests.get(STELLA_URL + '/index/bulk')\n",
    "print(r.text)"
   ]
  },
  {
   "cell_type": "markdown",
   "metadata": {},
   "source": [
    "Indexing may take a while. If it is done, you are ready for your first search."
   ]
  },
  {
   "cell_type": "markdown",
   "metadata": {},
   "source": [
    "<br>\n",
    "\n",
    "### 2.2 Querying results:\n",
    "For querying interleaved results you can use two endpoints, depending on the system type. Both endpoints will generate an interleaved results ranking according to a user-generated query, in the case of an ad-hoc retrieval system or a seed document id, in the case of a recommendation system.\n",
    "\n",
    "[![](https://mermaid.ink/img/eyJjb2RlIjoic2VxdWVuY2VEaWFncmFtXG5Ob3RlIHJpZ2h0IG9mIFNlYXJjaCBQb3J0YWw6IDIuMiBRdWVyeWluZyBSZXN1bHRzXG4lJVxuU2VhcmNoIFBvcnRhbCAtPj4gK1NURUxMQSBBcHA6IEdFVCBSYW5raW5nXG5TVEVMTEEgQXBwIC0-PiArRXhwZXJpbWVudGFsIFN5c3RlbTogR0VUIFJhbmtpbmdcbkV4cGVyaW1lbnRhbCBTeXN0ZW0gLS0-PiAtU1RFTExBIEFwcDogUmFua2luZ1xuU1RFTExBIEFwcCAtPj4gK0Jhc2UgU3lzdGVtOiBHRVQgUmFua2luZ1xuQmFzZSBTeXN0ZW0gLS0-PiAtU1RFTExBIEFwcDogUmFua2luZ1xuTm90ZSBvdmVyIFNURUxMQSBBcHA6IEludGVybGVhdmVkIFJhbmtpbmdzXG5TVEVMTEEgQXBwIC0tPj4gLVNlYXJjaCBQb3J0YWw6IHJldHVybiBpbnRlcmxlYXZlZCBSYW5raW5nIFxuIiwibWVybWFpZCI6eyJ0aGVtZSI6ImRlZmF1bHQifSwidXBkYXRlRWRpdG9yIjpmYWxzZSwiYXV0b1N5bmMiOnRydWUsInVwZGF0ZURpYWdyYW0iOmZhbHNlfQ)](https://mermaid-js.github.io/mermaid-live-editor/edit/##eyJjb2RlIjoic2VxdWVuY2VEaWFncmFtXG5TZWFyY2ggUG9ydGFsIFVzZXIgLT4-ICtTZWFyY2ggUG9ydGFsOiBRdWVyeTogXCJpbmZsdWVuemFcIlxuXG5yZWN0IHJnYigwLCAwLCAwLCAuMDgpXG5Ob3RlIHJpZ2h0IG9mIFNlYXJjaCBQb3J0YWw6IDIuMiBRdWVyeWluZyBSZXN1bHRzXG4lJVxuU2VhcmNoIFBvcnRhbCAtPj4gK1NURUxMQSBBcHA6IEdFVCBSYW5raW5nXG5TVEVMTEEgQXBwIC0-PiArRXhwZXJpbWVudGFsIFN5c3RlbTogR0VUIFJhbmtpbmdcbkV4cGVyaW1lbnRhbCBTeXN0ZW0gLS0-PiAtU1RFTExBIEFwcDogUmFua2luZ1xuU1RFTExBIEFwcCAtPj4gK0Jhc2UgU3lzdGVtOiBHRVQgUmFua2luZ1xuQmFzZSBTeXN0ZW0gLS0-PiAtU1RFTExBIEFwcDogUmFua2luZ1xuTm90ZSBvdmVyIFNURUxMQSBBcHA6IEludGVybGVhdmVkIFJhbmtpbmdzXG5TVEVMTEEgQXBwIC0tPj4gLVNlYXJjaCBQb3J0YWw6IHJldHVybiBpbnRlcmxlYXZlZCBSYW5raW5nIFxuZW5kXG5cblxuXG5TZWFyY2ggUG9ydGFsIC0tPj4gU2VhcmNoIFBvcnRhbCBVc2VyOiBTZWFyY2ggUmVzdWx0cyBSYW5raW5nXG5TZWFyY2ggUG9ydGFsIFVzZXIgLT4-IFNlYXJjaCBQb3J0YWw6IENsaWNrIERvY2t1bWVudCBBXG5TZWFyY2ggUG9ydGFsIFVzZXIgLT4-IFNlYXJjaCBQb3J0YWw6IENsaWNrIERvY2t1bWVudCBCXG5TZWFyY2ggUG9ydGFsIFVzZXIgLT4-IFNlYXJjaCBQb3J0YWw6IENsaWNrIC4uLlxuXG5yZWN0IHJnYigwLCAwLCAwLCAuMDgpXG5Ob3RlIHJpZ2h0IG9mIFNlYXJjaCBQb3J0YWw6IDIuMyBTYXZpbmcgRmVlZGJhY2tcbiUlXG5TZWFyY2ggUG9ydGFsIC0pIC1TVEVMTEEgQXBwOiBQT1NUIGZlZWRiYWNrXG5lbmRcblxucmVjdCByZ2IoMCwgMCwgMCwgLjA4KVxuTm90ZSByaWdodCBvZiBTZWFyY2ggUG9ydGFsOiAyLjQgU2Vzc2lvbnNcbiUlXG5TZWFyY2ggUG9ydGFsIC0pIFNURUxMQSBBcHA6IGV4aXQgU2Vzc2lvblxuZW5kXG5cbnJlY3QgcmdiKDAsIDAsIDAsIC4wOClcbk5vdGUgcmlnaHQgb2YgU1RFTExBIEFwcDogMy4yIEF1dGhlbnRpY2F0aW9uXG4lJVxuU1RFTExBIEFwcCAtPj4gK1NURUxMQSBTZXJ2ZXI6IFBPU1QgL3Rva2Vuc1xuU1RFTExBIFNlcnZlciAtLT4-IC1TVEVMTEEgQXBwOiBBdXRoZW50aWNhdGlvbiBUb2tlblxuZW5kXG5cbnJlY3QgcmdiKDAsIDAsIDAsIC4wOClcbk5vdGUgcmlnaHQgb2YgU1RFTExBIEFwcDogMy4zIFNhdmluZyBGZWVkYmFja1xuJSVcbmxvb3AgRXZlcnkgeCBtaW51dGVzXG5TVEVMTEEgQXBwIC0pIFNURUxMQSBTZXJ2ZXI6IFBPU1QgU2Vzc2lvblxuU1RFTExBIEFwcCAtKSBTVEVMTEEgU2VydmVyOiBQT1NUIEZlZWRiYWNrXG5TVEVMTEEgQXBwIC0pIFNURUxMQSBTZXJ2ZXI6IFBPU1QgUmFua2luZ1xuZW5kXG5lbmRcblxucmVjdCByZ2IoMCwgMCwgMCwgLjA4KVxuTm90ZSByaWdodCBvZiBTVEVMTEEgU2VydmVyOiAzLjQgUmV0cmlldmUgZmVlZGJhY2tcbiUlXG5EZXZlbG9wZXIgLT4-ICtTVEVMTEEgU2VydmVyOiBHRVQgU2Vzc2lvblxuU1RFTExBIFNlcnZlciAtLT4-IC1EZXZlbG9wZXI6IHNlc3Npb25cbkRldmVsb3BlciAtPj4gK1NURUxMQSBTZXJ2ZXI6IEdFVCBSYW5raW5nXG5TVEVMTEEgU2VydmVyIC0tPj4gLURldmVsb3BlcjogUmFua2luZ1xuRGV2ZWxvcGVyIC0-PiArU1RFTExBIFNlcnZlcjogR0VUIEZlZWRiYWNrXG5TVEVMTEEgU2VydmVyIC0tPj4gLURldmVsb3BlcjogRmVlZGJhY2tcbmVuZFxuXG5cbnJlY3QgcmdiKDAsIDAsIDAsIC4wOClcbk5vdGUgcmlnaHQgb2YgU1RFTExBIFNlcnZlcjogMy41IFJldHJpZXZlIGluZm9ybWF0aW9uXG4lJVxuRGV2ZWxvcGVyIC0-PiArU1RFTExBIFNlcnZlcjogR0VUIHNlc3Npb25zIG9mIHNpdGVcblNURUxMQSBTZXJ2ZXIgLS0-PiAtRGV2ZWxvcGVyOiBzZXNzaW9ucyBvZiBzaXRlXG5EZXZlbG9wZXIgLT4-ICtTVEVMTEEgU2VydmVyOiBHRVQgc3lzdGVtcyBvZiBzaXRlXG5TVEVMTEEgU2VydmVyIC0tPj4gLURldmVsb3Blcjogc3lzdGVtcyBvZiBzaXRlXG5EZXZlbG9wZXIgLT4-ICtTVEVMTEEgU2VydmVyOiBHRVQgcGFydGljaXBhbnQgaW5mb3JtYXRpb25cblNURUxMQSBTZXJ2ZXIgLS0-PiAtRGV2ZWxvcGVyOiBwYXJ0aWNpcGFudCBpbmZvcm1hdGlvblxuRGV2ZWxvcGVyIC0-PiArU1RFTExBIFNlcnZlcjogR0VUIHN5c3RlbSBJRFxuU1RFTExBIFNlcnZlciAtLT4-IC1EZXZlbG9wZXI6IHN5c3RlbSBJRFxuZW5kXG5cblxucmVjdCByZ2IoMCwgMCwgMCwgLjA4KVxuTm90ZSByaWdodCBvZiBTVEVMTEEgU2VydmVyOiAzLjYgRXhwb3J0IHJlc3VsdHNcbiUlXG5EZXZlbG9wZXIgLT4-ICtTVEVMTEEgU2VydmVyOiBHRVQgcmVzdWx0cyBvZiBzeXN0ZW1cblNURUxMQSBTZXJ2ZXIgLS0-PiAtRGV2ZWxvcGVyOiBmdWxsIHJlc3VsdHNcbmVuZFxuIiwibWVybWFpZCI6IntcbiAgXCJ0aGVtZVwiOiBcImRlZmF1bHRcIlxufSIsInVwZGF0ZUVkaXRvciI6ZmFsc2UsImF1dG9TeW5jIjp0cnVlLCJ1cGRhdGVEaWFncmFtIjpmYWxzZX0)\n",
    "\n",
    "#### GET ranking\n",
    "will return an interleaved ranking result, given a query string, from an experimental ranking system and the base system. In this case, *influenza* is used as a query but similar queries should work as well. In production, the query should be entered by the user at the search site and then feed-forward to the STELLA App."
   ]
  },
  {
   "cell_type": "code",
   "execution_count": 6,
   "metadata": {},
   "outputs": [],
   "source": [
    "query = \"influenza\""
   ]
  },
  {
   "cell_type": "code",
   "execution_count": 31,
   "metadata": {},
   "outputs": [],
   "source": [
    "r = requests.get(STELLA_APP_API + \"ranking?query=\" + query)\n",
    "ranking = r.json()"
   ]
  },
  {
   "cell_type": "code",
   "execution_count": 32,
   "metadata": {},
   "outputs": [
    {
     "data": {
      "text/plain": [
       "{'body': {'1': {'docid': 'AGRISUS201500178988', 'type': 'BASE'},\n",
       "  '10': {'docid': 'NLM101261447', 'type': 'BASE'},\n",
       "  '11': {'docid': 'NLM101141746', 'type': 'EXP'},\n",
       "  '12': {'docid': 'AGRISUS201500141906', 'type': 'BASE'},\n",
       "  '13': {'docid': 'M10633731', 'type': 'EXP'},\n",
       "  '14': {'docid': 'NLM101253340', 'type': 'BASE'},\n",
       "  '15': {'docid': 'AGRISUS201500141840', 'type': 'BASE'},\n",
       "  '16': {'docid': 'M8948994', 'type': 'EXP'},\n",
       "  '17': {'docid': 'NLM35010190R', 'type': 'EXP'},\n",
       "  '18': {'docid': 'AGRISUS201600061219', 'type': 'BASE'},\n",
       "  '19': {'docid': 'AGRISUS201500142797', 'type': 'BASE'},\n",
       "  '2': {'docid': 'NLM101123650', 'type': 'EXP'},\n",
       "  '20': {'docid': 'NLM101253020', 'type': 'EXP'},\n",
       "  '3': {'docid': 'NLM101508233', 'type': 'EXP'},\n",
       "  '4': {'docid': 'NLM101253317', 'type': 'BASE'},\n",
       "  '5': {'docid': 'NLM9104537', 'type': 'EXP'},\n",
       "  '6': {'docid': 'AGRISUS201600058285', 'type': 'BASE'},\n",
       "  '7': {'docid': 'M18118800', 'type': 'EXP'},\n",
       "  '8': {'docid': 'AGRISUS201500178858', 'type': 'BASE'},\n",
       "  '9': {'docid': 'NLM1303033R', 'type': 'EXP'}},\n",
       " 'header': {'container': {'base': 'livivo_rank_pyserini',\n",
       "   'exp': 'livivo_rank_precom'},\n",
       "  'hits': 100,\n",
       "  'page': 0,\n",
       "  'q': 'influenza',\n",
       "  'rid': 9,\n",
       "  'rpp': 20,\n",
       "  'sid': 'hallo'}}"
      ]
     },
     "execution_count": 32,
     "metadata": {},
     "output_type": "execute_result"
    }
   ],
   "source": [
    "ranking"
   ]
  },
  {
   "cell_type": "markdown",
   "metadata": {},
   "source": [
    "By that, a results object is returned containing the IDs of ranked documents matching the query."
   ]
  },
  {
   "cell_type": "markdown",
   "metadata": {},
   "source": [
    "#### GET recommendation\n",
    "returns interleaved recommendations, given the id of a seed document, from an experimental system and the base system."
   ]
  },
  {
   "cell_type": "code",
   "execution_count": 9,
   "metadata": {},
   "outputs": [],
   "source": [
    "itemid = \"gesis-ssoar-13114\""
   ]
  },
  {
   "cell_type": "code",
   "execution_count": 10,
   "metadata": {},
   "outputs": [],
   "source": [
    "r = requests.get(STELLA_APP_API + \"recommendation/datasets?itemid=\" + itemid)\n",
    "recommendation = r.json()"
   ]
  },
  {
   "cell_type": "code",
   "execution_count": 11,
   "metadata": {},
   "outputs": [
    {
     "data": {
      "text/plain": [
       "{'body': {'1': {'docid': 'datasearch-httpwww-da-ra-deoaip--oaioai-da-ra-de701348',\n",
       "   'type': 'BASE'},\n",
       "  '2': {'docid': 'datasearch-httpservices-fsd-uta-fioai--oaifsd-uta-fiFSD2157e',\n",
       "   'type': 'EXP'},\n",
       "  '3': {'docid': 'datasearch-httpwww-da-ra-deoaip--oaioai-da-ra-de439108',\n",
       "   'type': 'EXP'},\n",
       "  '4': {'docid': 'datasearch-httpwww-da-ra-deoaip--oaioai-da-ra-de701349',\n",
       "   'type': 'BASE'},\n",
       "  '5': {'docid': 'datasearch-httpwww-da-ra-deoaip--oaioai-da-ra-de702532',\n",
       "   'type': 'BASE'},\n",
       "  '6': {'docid': 'datasearch-httpwww-da-ra-deoaip--oaioai-da-ra-de439107',\n",
       "   'type': 'EXP'},\n",
       "  '7': {'docid': 'datasearch-httpwww-da-ra-deoaip--oaioai-da-ra-de702533',\n",
       "   'type': 'BASE'},\n",
       "  '8': {'docid': 'datasearch-httpwww-da-ra-deoaip--oaioai-da-ra-de652472',\n",
       "   'type': 'EXP'},\n",
       "  '9': {'docid': 'ZA5368', 'type': 'BASE'}},\n",
       " 'header': {'container': {'base': 'gesis_rec_pyserini',\n",
       "   'exp': 'gesis_rec_precom'},\n",
       "  'itemid': 'gesis-ssoar-13114',\n",
       "  'page': 0,\n",
       "  'rid': 6,\n",
       "  'rpp': 10,\n",
       "  'sid': '038bdd8721f64daf8829e7a057e3d108',\n",
       "  'type': 'DATA'}}"
      ]
     },
     "execution_count": 11,
     "metadata": {},
     "output_type": "execute_result"
    }
   ],
   "source": [
    "recommendation"
   ]
  },
  {
   "cell_type": "markdown",
   "metadata": {},
   "source": [
    "<br>\n",
    "\n",
    "### 2.3 Saving feedback:\n",
    "\n",
    "These result lists will be clicked by the users and then returned to the app, including the feedback data, using the feedback endpoints. Multiple feedbacks can be combined into sessions.\n",
    "\n",
    "For demo purposes, we use simulated ranking and recommendation click feedbacks. The `docid`s are the same we retrieved for the query `influenza`. This ranking is extended by simulated click information. This ranking should be sent to the STELLA App by the search site to be saved."
   ]
  },
  {
   "cell_type": "code",
   "execution_count": 12,
   "metadata": {},
   "outputs": [],
   "source": [
    "import json"
   ]
  },
  {
   "cell_type": "markdown",
   "metadata": {},
   "source": [
    "#### POST ranking feedback:"
   ]
  },
  {
   "cell_type": "code",
   "execution_count": 13,
   "metadata": {},
   "outputs": [],
   "source": [
    "ranking_click_dict = {\n",
    "     \"1\": {\"docid\": \"AGRISUS201500178988\", \"type\": \"BASE\", \"clicked\": True, \"date\": \"2020-01-01 00:00:01\"},\n",
    "     \"2\": {\"docid\": \"NLM101123650\", \"type\": \"EXP\", \"clicked\": True, \"date\": \"2020-01-01 00:00:02\"},\n",
    "     \"3\": {\"docid\": \"NLM101508233\", \"type\": \"EXP\", \"clicked\": False, \"date\": None},\n",
    "     \"4\": {\"docid\": \"NLM101253317\", \"type\": \"BASE\", \"clicked\": False, \"date\": None},\n",
    "     \"5\": {\"docid\": \"NLM9104537\", \"type\": \"EXP\", \"clicked\": False, \"date\": None},\n",
    "     \"6\": {\"docid\": \"AGRISUS201600058285\", \"type\": \"BASE\", \"clicked\": False, \"date\": None},\n",
    "     \"7\": {\"docid\": \"AGRISUS201500178858\", \"type\": \"BASE\", \"clicked\": False, \"date\": None},\n",
    "     \"8\": {\"docid\": \"M18118800\", \"type\": \"EXP\", \"clicked\": False, \"date\": None},\n",
    "     \"9\": {\"docid\": \"NLM1303033R\", \"type\": \"EXP\", \"clicked\": False, \"date\": None},\n",
    "     \"10\": {\"docid\": \"NLM101261447\", \"type\": \"BASE\", \"clicked\": False, \"date\": None},\n",
    "     \"11\": {\"docid\": \"AGRISUS201500141906\", \"type\": \"BASE\", \"clicked\": False, \"date\": None},\n",
    "     \"12\": {\"docid\": \"NLM101141746\", \"type\": \"EXP\", \"clicked\": False, \"date\": None},\n",
    "     \"13\": {\"docid\": \"NLM101253340\", \"type\": \"BASE\", \"clicked\": False, \"date\": None},\n",
    "     \"14\": {\"docid\": \"M10633731\", \"type\": \"EXP\", \"clicked\": False, \"date\": None},\n",
    "     \"15\": {\"docid\": \"AGRISUS201500141840\", \"type\": \"BASE\", \"clicked\": False, \"date\": None},\n",
    "     \"16\": {\"docid\": \"M8948994\", \"type\": \"EXP\", \"clicked\": False, \"date\": None},\n",
    "     \"17\": {\"docid\": \"AGRISUS201600061219\", \"type\": \"BASE\", \"clicked\": False, \"date\": None},\n",
    "     \"18\": {\"docid\": \"NLM35010190R\", \"type\": \"EXP\", \"clicked\": False, \"date\": None},\n",
    "     \"19\": {\"docid\": \"AGRISUS201500142797\", \"type\": \"BASE\", \"clicked\": False, \"date\": None},\n",
    "     \"20\": {\"docid\": \"NLM101253020\", \"type\": \"EXP\", \"clicked\": False, \"date\": None},\n",
    "     }"
   ]
  },
  {
   "cell_type": "code",
   "execution_count": 14,
   "metadata": {},
   "outputs": [],
   "source": [
    "ranking_payload = {\n",
    "    'start': \"2020-01-01 00:00:00\",\n",
    "    'end': \"2020-01-01 00:01:00\",\n",
    "    'interleave': True,\n",
    "    'clicks': json.dumps(ranking_click_dict)\n",
    "}"
   ]
  },
  {
   "cell_type": "code",
   "execution_count": 15,
   "metadata": {
    "scrolled": true
   },
   "outputs": [
    {
     "name": "stdout",
     "output_type": "stream",
     "text": [
      "201\n"
     ]
    }
   ],
   "source": [
    "ranking_id = ranking.get('header').get('rid')\n",
    "r_post = requests.post(STELLA_APP_API + \"ranking/\" + str(ranking_id) + \"/feedback\", data=ranking_payload)\n",
    "print(r_post.status_code)"
   ]
  },
  {
   "cell_type": "markdown",
   "metadata": {},
   "source": [
    "#### POST recommendation feedback:\n",
    "Likewise, recommendation feedback is saved at the STELLA App."
   ]
  },
  {
   "cell_type": "code",
   "execution_count": 16,
   "metadata": {},
   "outputs": [],
   "source": [
    "recommendation_click_dict = {\n",
    "     \"1\": {\"docid\": \"datasearch-httpservices-fsd-uta-fioai--oaifsd-uta-fiFSD2157e\", \"type\": \"EXP\", \"clicked\": True, \"date\": \"2020-01-01 00:00:01\"},\n",
    "     \"2\": {\"docid\": \"datasearch-httpwww-da-ra-deoaip--oaioai-da-ra-de701348\", \"type\": \"BASE\", \"clicked\": False, \"date\": None},\n",
    "     \"3\": {\"docid\": \"datasearch-httpwww-da-ra-deoaip--oaioai-da-ra-de439108\", \"type\": \"EXP\", \"clicked\": False, \"date\": None},\n",
    "     \"4\": {\"docid\": \"datasearch-httpwww-da-ra-deoaip--oaioai-da-ra-de701349\", \"type\": \"BASE\", \"clicked\": False, \"date\": None},\n",
    "     \"5\": {\"docid\": \"datasearch-httpwww-da-ra-deoaip--oaioai-da-ra-de439107\", \"type\": \"EXP\", \"clicked\": False, \"date\": None},\n",
    "     \"6\": {\"docid\": \"datasearch-httpwww-da-ra-deoaip--oaioai-da-ra-de702532\", \"type\": \"BASE\", \"clicked\": True, \"date\": \"2020-01-01 00:00:06\"},\n",
    "     \"7\": {\"docid\": \"datasearch-httpwww-da-ra-deoaip--oaioai-da-ra-de702533\", \"type\": \"BASE\", \"clicked\": False, \"date\": None},\n",
    "     \"8\": {\"docid\": \"datasearch-httpwww-da-ra-deoaip--oaioai-da-ra-de652472\", \"type\": \"EXP\", \"clicked\": False, \"date\": None},\n",
    "     \"9\": {\"docid\": \"ZA5368\", \"type\": \"BASE\", \"clicked\": False, \"date\": \"2020-01-01 00:00:09\"}\n",
    "    }"
   ]
  },
  {
   "cell_type": "code",
   "execution_count": 17,
   "metadata": {},
   "outputs": [],
   "source": [
    "recommendation_payload = {\n",
    "    'start': \"2020-01-01 00:00:00\",\n",
    "    'end': \"2020-01-01 00:01:00\",\n",
    " 'interleave': True,\n",
    " 'clicks': json.dumps(recommendation_click_dict)\n",
    "}"
   ]
  },
  {
   "cell_type": "code",
   "execution_count": 18,
   "metadata": {},
   "outputs": [
    {
     "name": "stdout",
     "output_type": "stream",
     "text": [
      "201\n"
     ]
    }
   ],
   "source": [
    "recommendation_id = recommendation.get('header').get('rid')\n",
    "r_post = requests.post(STELLA_APP_API + \"recommendation/\" + str(recommendation_id) + \"/feedback\", data=recommendation_payload)\n",
    "print(r_post.status_code)"
   ]
  },
  {
   "cell_type": "markdown",
   "metadata": {},
   "source": [
    "All feedbacks will be regularly transfered to the STELLA server using the STELLA server api described in the next part."
   ]
  },
  {
   "cell_type": "markdown",
   "metadata": {},
   "source": [
    "<br>\n",
    "\n",
    "### 2.4 Sessions:\n",
    "\n",
    "By submitting feedbacks, a session is automatically created and ended. However, you as a site administrator have full control over the sessions. Depending on the search system and the data you log, sessions can be created and ended accordingly and an explicit session ID can be provided to create a session.\n",
    "<br>\n",
    "\n",
    "To prevent sessions to last forever, an expiration time in seconds can be specified in `SESSION_EXPIRATION` can be set in the [demo.yml](https://github.com/stella-project/stella-app/blob/master/demo.yml) docker-compose file. After that time, sessions will be ended automatically."
   ]
  },
  {
   "cell_type": "code",
   "execution_count": 50,
   "metadata": {},
   "outputs": [],
   "source": [
    "sessionID = \"test\""
   ]
  },
  {
   "cell_type": "code",
   "execution_count": 51,
   "metadata": {},
   "outputs": [
    {
     "data": {
      "text/plain": [
       "{'body': {'1': {'docid': 'AGRISUS201500178988', 'type': 'BASE'},\n",
       "  '10': {'docid': 'NLM1303033R', 'type': 'EXP'},\n",
       "  '11': {'docid': 'AGRISUS201500141906', 'type': 'BASE'},\n",
       "  '12': {'docid': 'NLM101141746', 'type': 'EXP'},\n",
       "  '13': {'docid': 'M10633731', 'type': 'EXP'},\n",
       "  '14': {'docid': 'NLM101253340', 'type': 'BASE'},\n",
       "  '15': {'docid': 'AGRISUS201500141840', 'type': 'BASE'},\n",
       "  '16': {'docid': 'M8948994', 'type': 'EXP'},\n",
       "  '17': {'docid': 'AGRISUS201600061219', 'type': 'BASE'},\n",
       "  '18': {'docid': 'NLM35010190R', 'type': 'EXP'},\n",
       "  '19': {'docid': 'NLM101253020', 'type': 'EXP'},\n",
       "  '2': {'docid': 'NLM101123650', 'type': 'EXP'},\n",
       "  '20': {'docid': 'AGRISUS201500142797', 'type': 'BASE'},\n",
       "  '3': {'docid': 'NLM101508233', 'type': 'EXP'},\n",
       "  '4': {'docid': 'NLM101253317', 'type': 'BASE'},\n",
       "  '5': {'docid': 'NLM9104537', 'type': 'EXP'},\n",
       "  '6': {'docid': 'AGRISUS201600058285', 'type': 'BASE'},\n",
       "  '7': {'docid': 'M18118800', 'type': 'EXP'},\n",
       "  '8': {'docid': 'AGRISUS201500178858', 'type': 'BASE'},\n",
       "  '9': {'docid': 'NLM101261447', 'type': 'BASE'}},\n",
       " 'header': {'container': {'base': 'livivo_rank_pyserini',\n",
       "   'exp': 'livivo_rank_precom'},\n",
       "  'hits': 100,\n",
       "  'page': 0,\n",
       "  'q': 'influenza',\n",
       "  'rid': 6,\n",
       "  'rpp': 20,\n",
       "  'sid': 'test'}}"
      ]
     },
     "execution_count": 51,
     "metadata": {},
     "output_type": "execute_result"
    }
   ],
   "source": [
    "r = requests.get(STELLA_APP_API + \"ranking?query=\" + query + \"&sid=\"+sessionID)\n",
    "ranking = r.json()\n",
    "r.json()"
   ]
  },
  {
   "cell_type": "code",
   "execution_count": 53,
   "metadata": {},
   "outputs": [],
   "source": [
    "# get session ID"
   ]
  },
  {
   "cell_type": "code",
   "execution_count": 52,
   "metadata": {},
   "outputs": [
    {
     "name": "stdout",
     "output_type": "stream",
     "text": [
      "404\n"
     ]
    },
    {
     "data": {
      "text/plain": [
       "'<!DOCTYPE HTML PUBLIC \"-//W3C//DTD HTML 3.2 Final//EN\">\\n<title>404 Not Found</title>\\n<h1>Not Found</h1>\\n<p>The requested URL was not found on the server. If you entered the URL manually please check your spelling and try again.</p>\\n'"
      ]
     },
     "execution_count": 52,
     "metadata": {},
     "output_type": "execute_result"
    }
   ],
   "source": [
    "r = requests.put(STELLA_APP_API + '/sessions/' + sessionID + '/exit')\n",
    "print(r.status_code)\n",
    "r.text"
   ]
  },
  {
   "cell_type": "markdown",
   "metadata": {},
   "source": [
    "<br><br>\n",
    "\n",
    "## 3. STELLA server:\n",
    "---\n",
    "The [stella-server](https://github.com/stella-project/stella-server) gathers all user feedback from all STELLA Apps and lets you administrate all systems. Furthermore, it is the main interaction point for participants, submitting and monitoring their systems. To interact with the STELLA server authentication is needed. Therefore we have to generate an authentication token first. Next, we can send and retrieve feedbacks. These endpoints are designed to be used by the STELLA Apps sending their feedbacks to the server. <br>\n",
    "Besides that, the STELLA server provides endpoints to get information about sites, participants and systems. Finally, the `export` endpoint can be used to retrieve full feedback data on a system."
   ]
  },
  {
   "cell_type": "code",
   "execution_count": 21,
   "metadata": {},
   "outputs": [],
   "source": [
    "STELLA_SERVER_API = 'http://0.0.0.0:8000/stella/api/v1'\n",
    "site = \"LIVIVO\"\n",
    "system = \"livivo_rank_pyserini\""
   ]
  },
  {
   "cell_type": "markdown",
   "metadata": {},
   "source": [
    "<br>\n",
    "\n",
    "### 3.1 Server web interface:\n",
    "\n",
    "You can reach the stella-server web UI via [http://0.0.0.0:8000/](http://0.0.0.0:8000/) and log in with the username and password specified in the [demo.yml](https://github.com/stella-project/stella-app/blob/master/demo.yml) docker-compose file. By default, `admin@stella-project.org` is specified as admin username and `pass` as password. Depending on the type of user (admin, site, or participant) different functionalities are available:\n",
    "- The [Dashboard](http://0.0.0.0:8000/dashboard) tab provides statistics about the performance of individual systems.\n",
    "\n",
    "<a href=\"http://0.0.0.0:8000/dashboard\"><img width=80% src=\"doc/img/dashboard.png\" /></a>\n",
    "<br><br>\n",
    "\n",
    "\n",
    "- The [Systems](http://0.0.0.0:8000/systems) tab lists all registered systems and additional information. New systems can be registered here and feedback data of existing as well as all systems can be downloaded here. \n",
    "\n",
    "<a href=\"http://0.0.0.0:8000/systems\"><img width=80% src=\"doc/img/systems.png\" /></a>\n",
    "<br><br>\n",
    "\n",
    "\n",
    "- The [Administration](http://0.0.0.0:8000/administration) tab, available to all administrators helps to update the STELLA app.\n",
    "\n",
    "<a href=\"http://0.0.0.0:8000/admin\"><img width=80% src=\"doc/img/admin.png\" /></a>"
   ]
  },
  {
   "cell_type": "markdown",
   "metadata": {},
   "source": [
    "<br>\n",
    "\n",
    "### 3.2 Authentication:\n",
    "\n",
    "The STELLA server is secured by a username and a password, specified in the [demo.yml](https://github.com/stella-project/stella-app/blob/master/demo.yml) docker-compose file. To securely communicate with the server's API we need to create an authentication token.\n",
    "\n",
    "[![](https://mermaid.ink/img/eyJjb2RlIjoic2VxdWVuY2VEaWFncmFtXG5cblNURUxMQSBBcHAgLT4-ICtTVEVMTEEgU2VydmVyOiBQT1NUIC90b2tlbnNcblNURUxMQSBTZXJ2ZXIgLS0-PiAtU1RFTExBIEFwcDogQXV0aGVudGljYXRpb24gVG9rZW5cbiIsIm1lcm1haWQiOnsidGhlbWUiOiJkZWZhdWx0In0sInVwZGF0ZUVkaXRvciI6ZmFsc2UsImF1dG9TeW5jIjp0cnVlLCJ1cGRhdGVEaWFncmFtIjpmYWxzZX0)](https://mermaid-js.github.io/mermaid-live-editor/edit/##eyJjb2RlIjoic2VxdWVuY2VEaWFncmFtXG5cbk5vdGUgcmlnaHQgb2YgU1RFTExBIEFwcDogMy4yIEF1dGhlbnRpY2F0aW9uXG4lJVxuU1RFTExBIEFwcCAtPj4gK1NURUxMQSBTZXJ2ZXI6IFBPU1QgL3Rva2Vuc1xuU1RFTExBIFNlcnZlciAtLT4-IC1TVEVMTEEgQXBwOiBBdXRoZW50aWNhdGlvbiBUb2tlblxuIiwibWVybWFpZCI6IntcbiAgXCJ0aGVtZVwiOiBcImRlZmF1bHRcIlxufSIsInVwZGF0ZUVkaXRvciI6ZmFsc2UsImF1dG9TeW5jIjp0cnVlLCJ1cGRhdGVEaWFncmFtIjpmYWxzZX0)"
   ]
  },
  {
   "cell_type": "code",
   "execution_count": 64,
   "metadata": {},
   "outputs": [
    {
     "name": "stdout",
     "output_type": "stream",
     "text": [
      "Token:  eyJhbGciOiJIUzUxMiIsImlhdCI6MTYyMzA3ODc1NywiZXhwIjoxNjIzMDgyMzU3fQ.eyJpZCI6NX0.ylz4gi1pdux8TLBsuZP7mMIYRw2yCMCKoCmHkXTmNEdSeqntF5bXv0o39S5C8vmNSRcVHj5lQ20lADnX6WNkcg\n"
     ]
    }
   ],
   "source": [
    "r = requests.post(STELLA_SERVER_API + '/tokens', auth=('livivo@stella-project.org', 'pass'))\n",
    "r_json = json.loads(r.text)\n",
    "token = r_json.get('token')\n",
    "print(\"Token: \", token)"
   ]
  },
  {
   "cell_type": "markdown",
   "metadata": {},
   "source": [
    "<br>\n",
    "\n",
    "### 3.3 Saving feedback:\n",
    "\n",
    "Collected feedback from the STELLA App is sent to the STELLA Server. Therefore dedicated endpoints are provided. First, the site identifier of the search website is needed.\n",
    "\n",
    "[![](https://mermaid.ink/img/eyJjb2RlIjoic2VxdWVuY2VEaWFncmFtXG5sb29wIEV2ZXJ5IHggbWludXRlc1xuU1RFTExBIEFwcCAtKSBTVEVMTEEgU2VydmVyOiBQT1NUIFNlc3Npb25cblNURUxMQSBBcHAgLSkgU1RFTExBIFNlcnZlcjogUE9TVCBGZWVkYmFja1xuU1RFTExBIEFwcCAtKSBTVEVMTEEgU2VydmVyOiBQT1NUIFJhbmtpbmdcbmVuZFxuIiwibWVybWFpZCI6eyJ0aGVtZSI6ImRlZmF1bHQifSwidXBkYXRlRWRpdG9yIjpmYWxzZSwiYXV0b1N5bmMiOnRydWUsInVwZGF0ZURpYWdyYW0iOmZhbHNlfQ)](https://mermaid-js.github.io/mermaid-live-editor/edit/##eyJjb2RlIjoic2VxdWVuY2VEaWFncmFtXG5cbmxvb3AgRXZlcnkgeCBtaW51dGVzXG5TVEVMTEEgQXBwIC0pIFNURUxMQSBTZXJ2ZXI6IFBPU1QgU2Vzc2lvblxuU1RFTExBIEFwcCAtKSBTVEVMTEEgU2VydmVyOiBQT1NUIEZlZWRiYWNrXG5TVEVMTEEgQXBwIC0pIFNURUxMQSBTZXJ2ZXI6IFBPU1QgUmFua2luZ1xuZW5kXG4iLCJtZXJtYWlkIjoie1xuICBcInRoZW1lXCI6IFwiZGVmYXVsdFwiXG59IiwidXBkYXRlRWRpdG9yIjpmYWxzZSwiYXV0b1N5bmMiOnRydWUsInVwZGF0ZURpYWdyYW0iOmZhbHNlfQ)"
   ]
  },
  {
   "cell_type": "code",
   "execution_count": 65,
   "metadata": {},
   "outputs": [
    {
     "name": "stdout",
     "output_type": "stream",
     "text": [
      "Site ID: 5\n"
     ]
    }
   ],
   "source": [
    "r = requests.get(STELLA_SERVER_API + '/sites/' + site, auth=(token, ''))\n",
    "r_json = r.json()\n",
    "site_id = r_json.get('id')\n",
    "print(\"Site ID:\", str(site_id))"
   ]
  },
  {
   "cell_type": "markdown",
   "metadata": {},
   "source": [
    "#### POST session:\n",
    "Using the site identifier we can create a new session providing a start and end date as well as the site user."
   ]
  },
  {
   "cell_type": "code",
   "execution_count": 66,
   "metadata": {},
   "outputs": [],
   "source": [
    "payload = {\n",
    "    'site_user': '123.123.123.123',\n",
    "    'start': \"2020-01-01 00:00:00\",\n",
    "    'end': \"2020-01-01 00:01:00\",\n",
    "    'system_ranking': system\n",
    "}"
   ]
  },
  {
   "cell_type": "code",
   "execution_count": 67,
   "metadata": {},
   "outputs": [
    {
     "name": "stdout",
     "output_type": "stream",
     "text": [
      "Session ID: 1\n"
     ]
    }
   ],
   "source": [
    "r = requests.post(STELLA_SERVER_API + '/sites/' + str(site_id) + '/sessions', data=payload, auth=(token, ''))\n",
    "session_id = r.json()[\"session_id\"]\n",
    "print(\"Session ID:\", str(session_id))"
   ]
  },
  {
   "cell_type": "markdown",
   "metadata": {},
   "source": [
    "#### POST feedback:\n",
    "To send a full feedback to the STELLA Server we use this session identivier and the feedback data specifies in section 2.3 as `ranking_payload`."
   ]
  },
  {
   "cell_type": "code",
   "execution_count": 68,
   "metadata": {},
   "outputs": [
    {
     "name": "stdout",
     "output_type": "stream",
     "text": [
      "Feedback ID: 1\n"
     ]
    }
   ],
   "source": [
    "r = requests.post(STELLA_SERVER_API + '/sessions/' + str(session_id) + '/feedbacks', data=ranking_payload, auth=(token, ''))\n",
    "r_json = r.json()\n",
    "feedback_id = r_json['feedback_id']\n",
    "print(\"Feedback ID:\", str(feedback_id))"
   ]
  },
  {
   "cell_type": "markdown",
   "metadata": {},
   "source": [
    "#### POST ranking:\n",
    "Given the feedback identifier, we can add a ranking to the feedback."
   ]
  },
  {
   "cell_type": "code",
   "execution_count": 69,
   "metadata": {},
   "outputs": [],
   "source": [
    "items = {\n",
    "    \"1\": \"AGRISUS201500178988\",\n",
    "    \"2\": \"NLM101123650\",\n",
    "    \"3\": \"NLM101508233\",\n",
    "    \"4\": \"NLM101253317\",\n",
    "    \"5\": \"NLM9104537\",\n",
    "    \"6\": \"AGRISUS201600058285\",\n",
    "    \"7\": \"AGRISUS201500178858\",\n",
    "    \"8\": \"M18118800\",\n",
    "    \"9\": \"NLM1303033R\",\n",
    "    \"10\": \"NLM101261447\"\n",
    "}"
   ]
  },
  {
   "cell_type": "code",
   "execution_count": 70,
   "metadata": {},
   "outputs": [],
   "source": [
    "payload = {\n",
    "    'q': 'query goes here!',\n",
    "    'q_date': \"2020-01-01 00:00:00\",\n",
    "    'q_time': 300,\n",
    "    'num_found': 10,\n",
    "    'page': 1,\n",
    "    'rpp': 10,\n",
    "    'items': json.dumps(items)\n",
    "}"
   ]
  },
  {
   "cell_type": "code",
   "execution_count": 71,
   "metadata": {},
   "outputs": [
    {
     "name": "stdout",
     "output_type": "stream",
     "text": [
      "Ranking ID: 1\n"
     ]
    }
   ],
   "source": [
    "r = requests.post(STELLA_SERVER_API + '/feedbacks/' + str(feedback_id) + '/rankings', data=payload, auth=(token, ''))\n",
    "r_json = r.json()\n",
    "ranking_id = r_json['ranking_id']\n",
    "print(\"Ranking ID:\", str(ranking_id))"
   ]
  },
  {
   "cell_type": "markdown",
   "metadata": {},
   "source": [
    "<br>\n",
    "\n",
    "### 3.4 Retrieve feedback:\n",
    "The endpoints `sessions`, `rankings`, and `feedbacks` can be used to retrieve the data using `get`.\n",
    "\n",
    "[![](https://mermaid.ink/img/eyJjb2RlIjoic2VxdWVuY2VEaWFncmFtXG5EZXZlbG9wZXIgLT4-ICtTVEVMTEEgU2VydmVyOiBHRVQgU2Vzc2lvblxuU1RFTExBIFNlcnZlciAtLT4-IC1EZXZlbG9wZXI6IHNlc3Npb25cbkRldmVsb3BlciAtPj4gK1NURUxMQSBTZXJ2ZXI6IEdFVCBSYW5raW5nXG5TVEVMTEEgU2VydmVyIC0tPj4gLURldmVsb3BlcjogUmFua2luZ1xuRGV2ZWxvcGVyIC0-PiArU1RFTExBIFNlcnZlcjogR0VUIEZlZWRiYWNrXG5TVEVMTEEgU2VydmVyIC0tPj4gLURldmVsb3BlcjogRmVlZGJhY2tcbiIsIm1lcm1haWQiOnsidGhlbWUiOiJkZWZhdWx0In0sInVwZGF0ZUVkaXRvciI6ZmFsc2UsImF1dG9TeW5jIjp0cnVlLCJ1cGRhdGVEaWFncmFtIjpmYWxzZX0)](https://mermaid-js.github.io/mermaid-live-editor/edit/##eyJjb2RlIjoic2VxdWVuY2VEaWFncmFtXG5cbkRldmVsb3BlciAtPj4gK1NURUxMQSBTZXJ2ZXI6IEdFVCBTZXNzaW9uXG5TVEVMTEEgU2VydmVyIC0tPj4gLURldmVsb3Blcjogc2Vzc2lvblxuRGV2ZWxvcGVyIC0-PiArU1RFTExBIFNlcnZlcjogR0VUIFJhbmtpbmdcblNURUxMQSBTZXJ2ZXIgLS0-PiAtRGV2ZWxvcGVyOiBSYW5raW5nXG5EZXZlbG9wZXIgLT4-ICtTVEVMTEEgU2VydmVyOiBHRVQgRmVlZGJhY2tcblNURUxMQSBTZXJ2ZXIgLS0-PiAtRGV2ZWxvcGVyOiBGZWVkYmFja1xuIiwibWVybWFpZCI6IntcbiAgXCJ0aGVtZVwiOiBcImRlZmF1bHRcIlxufSIsInVwZGF0ZUVkaXRvciI6ZmFsc2UsImF1dG9TeW5jIjp0cnVlLCJ1cGRhdGVEaWFncmFtIjpmYWxzZX0)\n"
   ]
  },
  {
   "cell_type": "markdown",
   "metadata": {},
   "source": [
    "#### GET session:"
   ]
  },
  {
   "cell_type": "code",
   "execution_count": 28,
   "metadata": {
    "scrolled": true
   },
   "outputs": [
    {
     "name": "stdout",
     "output_type": "stream",
     "text": [
      "{\n",
      "  \"end\": \"2020-01-01 00:01:00\", \n",
      "  \"id\": 3, \n",
      "  \"site_id\": 5, \n",
      "  \"site_user\": \"123.123.123.123\", \n",
      "  \"start\": \"2020-01-01 00:00:00\", \n",
      "  \"system_ranking\": 3, \n",
      "  \"system_recommendation\": null\n",
      "}\n",
      "\n"
     ]
    }
   ],
   "source": [
    "r = requests.get(STELLA_SERVER_API + '/sessions/' + str(session_id), auth=(token, ''))\n",
    "print(r.text)"
   ]
  },
  {
   "cell_type": "markdown",
   "metadata": {},
   "source": [
    "#### GET ranking:"
   ]
  },
  {
   "cell_type": "code",
   "execution_count": 29,
   "metadata": {},
   "outputs": [
    {
     "name": "stdout",
     "output_type": "stream",
     "text": [
      "{\n",
      "  \"feedback_id\": 3, \n",
      "  \"items\": {\n",
      "    \"1\": \"doc1\", \n",
      "    \"10\": \"doc10\", \n",
      "    \"2\": \"doc2\", \n",
      "    \"3\": \"doc3\", \n",
      "    \"4\": \"doc4\", \n",
      "    \"5\": \"doc5\", \n",
      "    \"6\": \"doc6\", \n",
      "    \"7\": \"doc7\", \n",
      "    \"8\": \"doc8\", \n",
      "    \"9\": \"doc9\"\n",
      "  }, \n",
      "  \"num_found\": 10, \n",
      "  \"page\": 1, \n",
      "  \"participant_id\": 3, \n",
      "  \"q\": \"query goes here!\", \n",
      "  \"q_date\": \"2020-01-01 00:00:00\", \n",
      "  \"q_time\": 300, \n",
      "  \"rpp\": 10, \n",
      "  \"session_id\": 3, \n",
      "  \"site_id\": 5, \n",
      "  \"system_id\": 3, \n",
      "  \"type\": \"RANK\"\n",
      "}\n",
      "\n"
     ]
    }
   ],
   "source": [
    "r = requests.get(STELLA_SERVER_API + '/rankings/' + str(ranking_id), auth=(token, ''))\n",
    "print(r.text)"
   ]
  },
  {
   "cell_type": "markdown",
   "metadata": {},
   "source": [
    "#### GET feedback:"
   ]
  },
  {
   "cell_type": "code",
   "execution_count": 30,
   "metadata": {},
   "outputs": [
    {
     "name": "stdout",
     "output_type": "stream",
     "text": [
      "{\n",
      "  \"clicks\": {\n",
      "    \"1\": {\n",
      "      \"clicked\": true, \n",
      "      \"date\": \"2020-01-01 00:00:01\", \n",
      "      \"docid\": \"AGRISUS201500178988\", \n",
      "      \"type\": \"BASE\"\n",
      "    }, \n",
      "    \"10\": {\n",
      "      \"clicked\": false, \n",
      "      \"date\": null, \n",
      "      \"docid\": \"NLM101261447\", \n",
      "      \"type\": \"BASE\"\n",
      "    }, \n",
      "    \"11\": {\n",
      "      \"clicked\": false, \n",
      "      \"date\": null, \n",
      "      \"docid\": \"AGRISUS201500141906\", \n",
      "      \"type\": \"BASE\"\n",
      "    }, \n",
      "    \"12\": {\n",
      "      \"clicked\": false, \n",
      "      \"date\": null, \n",
      "      \"docid\": \"NLM101141746\", \n",
      "      \"type\": \"EXP\"\n",
      "    }, \n",
      "    \"13\": {\n",
      "      \"clicked\": false, \n",
      "      \"date\": null, \n",
      "      \"docid\": \"NLM101253340\", \n",
      "      \"type\": \"BASE\"\n",
      "    }, \n",
      "    \"14\": {\n",
      "      \"clicked\": false, \n",
      "      \"date\": null, \n",
      "      \"docid\": \"M10633731\", \n",
      "      \"type\": \"EXP\"\n",
      "    }, \n",
      "    \"15\": {\n",
      "      \"clicked\": false, \n",
      "      \"date\": null, \n",
      "      \"docid\": \"AGRISUS201500141840\", \n",
      "      \"type\": \"BASE\"\n",
      "    }, \n",
      "    \"16\": {\n",
      "      \"clicked\": false, \n",
      "      \"date\": null, \n",
      "      \"docid\": \"M8948994\", \n",
      "      \"type\": \"EXP\"\n",
      "    }, \n",
      "    \"17\": {\n",
      "      \"clicked\": false, \n",
      "      \"date\": null, \n",
      "      \"docid\": \"AGRISUS201600061219\", \n",
      "      \"type\": \"BASE\"\n",
      "    }, \n",
      "    \"18\": {\n",
      "      \"clicked\": false, \n",
      "      \"date\": null, \n",
      "      \"docid\": \"NLM35010190R\", \n",
      "      \"type\": \"EXP\"\n",
      "    }, \n",
      "    \"19\": {\n",
      "      \"clicked\": false, \n",
      "      \"date\": null, \n",
      "      \"docid\": \"AGRISUS201500142797\", \n",
      "      \"type\": \"BASE\"\n",
      "    }, \n",
      "    \"2\": {\n",
      "      \"clicked\": true, \n",
      "      \"date\": \"2020-01-01 00:00:02\", \n",
      "      \"docid\": \"NLM101123650\", \n",
      "      \"type\": \"EXP\"\n",
      "    }, \n",
      "    \"20\": {\n",
      "      \"clicked\": false, \n",
      "      \"date\": null, \n",
      "      \"docid\": \"NLM101253020\", \n",
      "      \"type\": \"EXP\"\n",
      "    }, \n",
      "    \"3\": {\n",
      "      \"clicked\": false, \n",
      "      \"date\": null, \n",
      "      \"docid\": \"NLM101508233\", \n",
      "      \"type\": \"EXP\"\n",
      "    }, \n",
      "    \"4\": {\n",
      "      \"clicked\": false, \n",
      "      \"date\": null, \n",
      "      \"docid\": \"NLM101253317\", \n",
      "      \"type\": \"BASE\"\n",
      "    }, \n",
      "    \"5\": {\n",
      "      \"clicked\": false, \n",
      "      \"date\": null, \n",
      "      \"docid\": \"NLM9104537\", \n",
      "      \"type\": \"EXP\"\n",
      "    }, \n",
      "    \"6\": {\n",
      "      \"clicked\": false, \n",
      "      \"date\": null, \n",
      "      \"docid\": \"AGRISUS201600058285\", \n",
      "      \"type\": \"BASE\"\n",
      "    }, \n",
      "    \"7\": {\n",
      "      \"clicked\": false, \n",
      "      \"date\": null, \n",
      "      \"docid\": \"AGRISUS201500178858\", \n",
      "      \"type\": \"BASE\"\n",
      "    }, \n",
      "    \"8\": {\n",
      "      \"clicked\": false, \n",
      "      \"date\": null, \n",
      "      \"docid\": \"M18118800\", \n",
      "      \"type\": \"EXP\"\n",
      "    }, \n",
      "    \"9\": {\n",
      "      \"clicked\": false, \n",
      "      \"date\": null, \n",
      "      \"docid\": \"NLM1303033R\", \n",
      "      \"type\": \"EXP\"\n",
      "    }\n",
      "  }, \n",
      "  \"end\": \"2020-01-01 00:01:00\", \n",
      "  \"id\": 3, \n",
      "  \"interleave\": true, \n",
      "  \"session_id\": 3, \n",
      "  \"site_id\": 5, \n",
      "  \"start\": \"2020-01-01 00:00:00\"\n",
      "}\n",
      "\n"
     ]
    }
   ],
   "source": [
    "r = requests.get(STELLA_SERVER_API + '/feedbacks/' + str(feedback_id), auth=(token, ''))\n",
    "print(r.text)"
   ]
  },
  {
   "cell_type": "markdown",
   "metadata": {},
   "source": [
    "<br>\n",
    "\n",
    "### 3.5 Retrieve information:\n",
    "In addition, user-centered endpoints lite `sites` and `participants` provide information like the number of sessions at a site or the systems provided by a user.\n",
    "\n",
    "[![](https://mermaid.ink/img/eyJjb2RlIjoic2VxdWVuY2VEaWFncmFtXG5cbkRldmVsb3BlciAtPj4gK1NURUxMQSBTZXJ2ZXI6IEdFVCBzZXNzaW9ucyBvZiBzaXRlXG5TVEVMTEEgU2VydmVyIC0tPj4gLURldmVsb3Blcjogc2Vzc2lvbnMgb2Ygc2l0ZVxuRGV2ZWxvcGVyIC0-PiArU1RFTExBIFNlcnZlcjogR0VUIHN5c3RlbXMgb2Ygc2l0ZVxuU1RFTExBIFNlcnZlciAtLT4-IC1EZXZlbG9wZXI6IHN5c3RlbXMgb2Ygc2l0ZVxuRGV2ZWxvcGVyIC0-PiArU1RFTExBIFNlcnZlcjogR0VUIHBhcnRpY2lwYW50IGluZm9ybWF0aW9uXG5TVEVMTEEgU2VydmVyIC0tPj4gLURldmVsb3BlcjogcGFydGljaXBhbnQgaW5mb3JtYXRpb25cbkRldmVsb3BlciAtPj4gK1NURUxMQSBTZXJ2ZXI6IEdFVCBzeXN0ZW0gSURcblNURUxMQSBTZXJ2ZXIgLS0-PiAtRGV2ZWxvcGVyOiBzeXN0ZW0gSURcblxuIiwibWVybWFpZCI6eyJ0aGVtZSI6ImRlZmF1bHQifSwidXBkYXRlRWRpdG9yIjpmYWxzZSwiYXV0b1N5bmMiOnRydWUsInVwZGF0ZURpYWdyYW0iOmZhbHNlfQ)](https://mermaid-js.github.io/mermaid-live-editor/edit/##eyJjb2RlIjoic2VxdWVuY2VEaWFncmFtXG5cbkRldmVsb3BlciAtPj4gK1NURUxMQSBTZXJ2ZXI6IEdFVCBTZXNzaW9uXG5TVEVMTEEgU2VydmVyIC0tPj4gLURldmVsb3Blcjogc2Vzc2lvblxuRGV2ZWxvcGVyIC0-PiArU1RFTExBIFNlcnZlcjogR0VUIFJhbmtpbmdcblNURUxMQSBTZXJ2ZXIgLS0-PiAtRGV2ZWxvcGVyOiBSYW5raW5nXG5EZXZlbG9wZXIgLT4-ICtTVEVMTEEgU2VydmVyOiBHRVQgRmVlZGJhY2tcblNURUxMQSBTZXJ2ZXIgLS0-PiAtRGV2ZWxvcGVyOiBGZWVkYmFja1xuIiwibWVybWFpZCI6IntcbiAgXCJ0aGVtZVwiOiBcImRlZmF1bHRcIlxufSIsInVwZGF0ZUVkaXRvciI6ZmFsc2UsImF1dG9TeW5jIjp0cnVlLCJ1cGRhdGVEaWFncmFtIjpmYWxzZX0)"
   ]
  },
  {
   "cell_type": "markdown",
   "metadata": {},
   "source": [
    "#### GET sessions of site:"
   ]
  },
  {
   "cell_type": "code",
   "execution_count": 31,
   "metadata": {
    "scrolled": true
   },
   "outputs": [
    {
     "data": {
      "text/plain": [
       "{'end': '2021-05-31 16:40:53',\n",
       " 'id': 1,\n",
       " 'site_id': 5,\n",
       " 'site_user': 'unknown',\n",
       " 'start': '2021-05-31 16:40:47',\n",
       " 'system_ranking': 2,\n",
       " 'system_recommendation': None}"
      ]
     },
     "execution_count": 31,
     "metadata": {},
     "output_type": "execute_result"
    }
   ],
   "source": [
    "r = requests.get(STELLA_SERVER_API + '/sites/' + str(site_id) + '/sessions', auth=(token, ''))\n",
    "r.json()[0]"
   ]
  },
  {
   "cell_type": "markdown",
   "metadata": {},
   "source": [
    "#### GET systems of site:"
   ]
  },
  {
   "cell_type": "code",
   "execution_count": 28,
   "metadata": {},
   "outputs": [
    {
     "name": "stdout",
     "output_type": "stream",
     "text": [
      "<!DOCTYPE html>\n",
      "<html>\n",
      "  <head>\n",
      "    \n",
      "    <title>Page Not Found</title>\n",
      "    <meta name=\"viewport\" content=\"width=device-width, initial-scale=1.0\">\n",
      "    <!-- Bootstrap -->\n",
      "    <link href=\"//cdnjs.cloudflare.com/ajax/libs/twitter-bootstrap/3.3.7/css/bootstrap.min.css\" rel=\"stylesheet\">\n",
      "    <link rel=\"stylesheet\" href=\"https://cdnjs.cloudflare.com/ajax/libs/font-awesome/4.7.0/css/font-awesome.min.css\">\n",
      "    <link rel=\"icon\" href=\"/static/favicon.ico\" type=\"image/x-icon\">\n",
      "    <style type=\"text/css\">\n",
      "        .navbar-header img {\n",
      "            height: 65px;\n",
      "            margin-bottom: -10px;\n",
      "            margin-top: -10px;\n",
      "        }\n",
      "\n",
      "        .navbar {\n",
      "            color: #ffffff;\n",
      "            background-color: #201C2D;\n",
      "        }\n",
      "    </style>\n",
      "\n",
      "  </head>\n",
      "  <body>\n",
      "    \n",
      "    <div class=\"navbar navbar-inverse\" role=\"navigation\">\n",
      "        <div class=\"container\">\n",
      "            <div class=\"navbar-header\">\n",
      "                <img class=\"navbar-brand\" src=/static/img/stella-logo.png  alt=\"logo\"\n",
      "                     max-height=\"90px\">\n",
      "                <button type=\"button\" class=\"navbar-toggle\" data-toggle=\"collapse\" data-target=\".navbar-collapse\">\n",
      "                    <span class=\"sr-only\">Toggle navigation</span>\n",
      "                    <span class=\"icon-bar\"></span>\n",
      "                    <span class=\"icon-bar\"></span>\n",
      "                    <span class=\"icon-bar\"></span>\n",
      "                </button>\n",
      "                <a class=\"navbar-brand\" href=\"/\">STELLA</a>\n",
      "                </button>\n",
      "                \n",
      "            </div>\n",
      "            <div class=\"navbar-collapse collapse\">\n",
      "                <ul class=\"nav navbar-nav\">\n",
      "                    \n",
      "                    <li><a href=\"https://stella-project.org/\">Website</a></li>\n",
      "                    \n",
      "                </ul>\n",
      "                <ul class=\"nav navbar-nav navbar-right\">\n",
      "                    \n",
      "                        <li><a href=\"/auth/login\">Log In</a></li>\n",
      "                    \n",
      "                </ul>\n",
      "            </div>\n",
      "        </div>\n",
      "    </div>\n",
      "\n",
      "    \n",
      "\n",
      "    <div class=\"container\">\n",
      "\n",
      "    \n",
      "        \n",
      "    \n",
      "\n",
      "\n",
      "<div class=\"page-header\">\n",
      "    <h1>Not Found</h1>\n",
      "</div>\n",
      "\n",
      "</div>\n",
      "\n",
      "\n",
      "\n",
      "\n",
      "    \n",
      "    \n",
      "    <script src=\"//cdnjs.cloudflare.com/ajax/libs/jquery/1.12.4/jquery.min.js\"></script>\n",
      "    <script src=\"//cdnjs.cloudflare.com/ajax/libs/twitter-bootstrap/3.3.7/js/bootstrap.min.js\"></script>\n",
      "\n",
      "  </body>\n",
      "</html>\n",
      "\n"
     ]
    }
   ],
   "source": [
    "# ERROR\n",
    "r = requests.get(STELLA_SERVER_API + '/sites/' + str(site_id) + '/systems', auth=(token, ''))\n",
    "print(r.text)"
   ]
  },
  {
   "cell_type": "markdown",
   "metadata": {},
   "source": [
    "#### GET Participant information:"
   ]
  },
  {
   "cell_type": "code",
   "execution_count": 33,
   "metadata": {},
   "outputs": [
    {
     "name": "stdout",
     "output_type": "stream",
     "text": [
      "[\n",
      "  {\n",
      "    \"id\": 2, \n",
      "    \"name\": \"livivo_rank_precom\", \n",
      "    \"participant_id\": 3, \n",
      "    \"type\": \"RANK\", \n",
      "    \"url\": \"https://github.com/stella-project/livivo_rank_precom\"\n",
      "  }, \n",
      "  {\n",
      "    \"id\": 3, \n",
      "    \"name\": \"livivo_rank_pyserini\", \n",
      "    \"participant_id\": 3, \n",
      "    \"type\": \"RANK\", \n",
      "    \"url\": \"https://github.com/stella-project/livivo_rank_pyserini\"\n",
      "  }, \n",
      "  {\n",
      "    \"id\": 4, \n",
      "    \"name\": \"livivo_rank_pyterrier\", \n",
      "    \"participant_id\": 3, \n",
      "    \"type\": \"RANK\", \n",
      "    \"url\": \"https://github.com/stella-project/livivo_rank_pyterrier\"\n",
      "  }\n",
      "]\n",
      "\n"
     ]
    }
   ],
   "source": [
    "r = requests.get(STELLA_SERVER_API + '/participants/' + str(3) + '/systems', auth=(token, ''))\n",
    "print(r.text)"
   ]
  },
  {
   "cell_type": "markdown",
   "metadata": {},
   "source": [
    "#### GET system ID:"
   ]
  },
  {
   "cell_type": "code",
   "execution_count": 34,
   "metadata": {},
   "outputs": [
    {
     "name": "stdout",
     "output_type": "stream",
     "text": [
      "System ID: 3\n"
     ]
    }
   ],
   "source": [
    "r = requests.get(STELLA_SERVER_API + '/system/id/' + str(system), auth=(token, ''))\n",
    "system_id = r.json()[\"system_id\"]\n",
    "print(\"System ID:\", str(system_id))"
   ]
  },
  {
   "cell_type": "markdown",
   "metadata": {},
   "source": [
    "<br>\n",
    "\n",
    "### 3.6 Export results:\n",
    "By calling the `export` endpoint on a system identifier, all results for a system are combined.\n",
    "[![](https://mermaid.ink/img/eyJjb2RlIjoic2VxdWVuY2VEaWFncmFtXG5EZXZlbG9wZXIgLT4-ICtTVEVMTEEgU2VydmVyOiBHRVQgcmVzdWx0cyBvZiBzeXN0ZW1cblNURUxMQSBTZXJ2ZXIgLS0-PiAtRGV2ZWxvcGVyOiBzZXNzaW9ucyBvZiBzaXRlIiwibWVybWFpZCI6eyJ0aGVtZSI6ImRlZmF1bHQifSwidXBkYXRlRWRpdG9yIjpmYWxzZSwiYXV0b1N5bmMiOnRydWUsInVwZGF0ZURpYWdyYW0iOmZhbHNlfQ)](https://mermaid-js.github.io/mermaid-live-editor/edit/##eyJjb2RlIjoic2VxdWVuY2VEaWFncmFtXG5EZXZlbG9wZXIgLT4-ICtTVEVMTEEgU2VydmVyOiBHRVQgcmVzdWx0cyBvZiBzeXN0ZW1cblNURUxMQSBTZXJ2ZXIgLS0-PiAtRGV2ZWxvcGVyOiBzZXNzaW9ucyBvZiBzaXRlXG4iLCJtZXJtYWlkIjoie1xuICBcInRoZW1lXCI6IFwiZGVmYXVsdFwiXG59IiwidXBkYXRlRWRpdG9yIjpmYWxzZSwiYXV0b1N5bmMiOnRydWUsInVwZGF0ZURpYWdyYW0iOmZhbHNlfQ)"
   ]
  },
  {
   "cell_type": "markdown",
   "metadata": {},
   "source": [
    "#### GET full results for system:"
   ]
  },
  {
   "cell_type": "code",
   "execution_count": 35,
   "metadata": {},
   "outputs": [
    {
     "name": "stdout",
     "output_type": "stream",
     "text": [
      "{\n",
      "  \"Results\": [\n",
      "    {\n",
      "      \"clicks\": {\n",
      "        \"1\": {\n",
      "          \"clicked\": true, \n",
      "          \"date\": \"2020-01-01 00:00:01\", \n",
      "          \"docid\": \"AGRISUS201500178988\", \n",
      "          \"type\": \"BASE\"\n",
      "        }, \n",
      "        \"10\": {\n",
      "          \"clicked\": false, \n",
      "          \"date\": null, \n",
      "          \"docid\": \"NLM101261447\", \n",
      "          \"type\": \"BASE\"\n",
      "        }, \n",
      "        \"11\": {\n",
      "          \"clicked\": false, \n",
      "          \"date\": null, \n",
      "          \"docid\": \"AGRISUS201500141906\", \n",
      "          \"type\": \"BASE\"\n",
      "        }, \n",
      "        \"12\": {\n",
      "          \"clicked\": false, \n",
      "          \"date\": null, \n",
      "          \"docid\": \"NLM101141746\", \n",
      "          \"type\": \"EXP\"\n",
      "        }, \n",
      "        \"13\": {\n",
      "          \"clicked\": false, \n",
      "          \"date\": null, \n",
      "          \"docid\": \"NLM101253340\", \n",
      "          \"type\": \"BASE\"\n",
      "        }, \n",
      "        \"14\": {\n",
      "          \"clicked\": false, \n",
      "          \"date\": null, \n",
      "          \"docid\": \"M10633731\", \n",
      "          \"type\": \"EXP\"\n",
      "        }, \n",
      "        \"15\": {\n",
      "          \"clicked\": false, \n",
      "          \"date\": null, \n",
      "          \"docid\": \"AGRISUS201500141840\", \n",
      "          \"type\": \"BASE\"\n",
      "        }, \n",
      "        \"16\": {\n",
      "          \"clicked\": false, \n",
      "          \"date\": null, \n",
      "          \"docid\": \"M8948994\", \n",
      "          \"type\": \"EXP\"\n",
      "        }, \n",
      "        \"17\": {\n",
      "          \"clicked\": false, \n",
      "          \"date\": null, \n",
      "          \"docid\": \"AGRISUS201600061219\", \n",
      "          \"type\": \"BASE\"\n",
      "        }, \n",
      "        \"18\": {\n",
      "          \"clicked\": false, \n",
      "          \"date\": null, \n",
      "          \"docid\": \"NLM35010190R\", \n",
      "          \"type\": \"EXP\"\n",
      "        }, \n",
      "        \"19\": {\n",
      "          \"clicked\": false, \n",
      "          \"date\": null, \n",
      "          \"docid\": \"AGRISUS201500142797\", \n",
      "          \"type\": \"BASE\"\n",
      "        }, \n",
      "        \"2\": {\n",
      "          \"clicked\": true, \n",
      "          \"date\": \"2020-01-01 00:00:02\", \n",
      "          \"docid\": \"NLM101123650\", \n",
      "          \"type\": \"EXP\"\n",
      "        }, \n",
      "        \"20\": {\n",
      "          \"clicked\": false, \n",
      "          \"date\": null, \n",
      "          \"docid\": \"NLM101253020\", \n",
      "          \"type\": \"EXP\"\n",
      "        }, \n",
      "        \"3\": {\n",
      "          \"clicked\": false, \n",
      "          \"date\": null, \n",
      "          \"docid\": \"NLM101508233\", \n",
      "          \"type\": \"EXP\"\n",
      "        }, \n",
      "        \"4\": {\n",
      "          \"clicked\": false, \n",
      "          \"date\": null, \n",
      "          \"docid\": \"NLM101253317\", \n",
      "          \"type\": \"BASE\"\n",
      "        }, \n",
      "        \"5\": {\n",
      "          \"clicked\": false, \n",
      "          \"date\": null, \n",
      "          \"docid\": \"NLM9104537\", \n",
      "          \"type\": \"EXP\"\n",
      "        }, \n",
      "        \"6\": {\n",
      "          \"clicked\": false, \n",
      "          \"date\": null, \n",
      "          \"docid\": \"AGRISUS201600058285\", \n",
      "          \"type\": \"BASE\"\n",
      "        }, \n",
      "        \"7\": {\n",
      "          \"clicked\": false, \n",
      "          \"date\": null, \n",
      "          \"docid\": \"AGRISUS201500178858\", \n",
      "          \"type\": \"BASE\"\n",
      "        }, \n",
      "        \"8\": {\n",
      "          \"clicked\": false, \n",
      "          \"date\": null, \n",
      "          \"docid\": \"M18118800\", \n",
      "          \"type\": \"EXP\"\n",
      "        }, \n",
      "        \"9\": {\n",
      "          \"clicked\": false, \n",
      "          \"date\": null, \n",
      "          \"docid\": \"NLM1303033R\", \n",
      "          \"type\": \"EXP\"\n",
      "        }\n",
      "      }, \n",
      "      \"end\": \"Wed, 01 Jan 2020 00:01:00 GMT\", \n",
      "      \"interleave\": true, \n",
      "      \"start\": \"Wed, 01 Jan 2020 00:00:00 GMT\"\n",
      "    }\n",
      "  ]\n",
      "}\n",
      "\n"
     ]
    }
   ],
   "source": [
    "r = requests.get(STELLA_SERVER_API + '/system/' + str(system_id) + '/export', auth=(token, ''))\n",
    "print(r.text)"
   ]
  }
 ],
 "metadata": {
  "kernelspec": {
   "display_name": "Python 3",
   "language": "python",
   "name": "python3"
  },
  "language_info": {
   "codemirror_mode": {
    "name": "ipython",
    "version": 3
   },
   "file_extension": ".py",
   "mimetype": "text/x-python",
   "name": "python",
   "nbconvert_exporter": "python",
   "pygments_lexer": "ipython3",
   "version": "3.8.5"
  }
 },
 "nbformat": 4,
 "nbformat_minor": 4
}
