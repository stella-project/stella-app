{
 "cells": [
  {
   "cell_type": "markdown",
   "metadata": {},
   "source": [
    "<a href=\"https://stella-project.org/\"><img align=\"right\" width=\"100\" src=\"doc/img/logo-st.JPG\" /></a>\n",
    "\n",
    "# STELLA Demo\n",
    "This interactive demo guide walks you through the [STELLA](https://stella-project.org/) infrastructure using the STEALLA [demo.yml](https://github.com/stella-project/stella-app/blob/master/demo.yml) docker-compose stack. It is designed to give a simple but comprehensive overview of the functionalities of the STELLA Living Lab infrastructure.\n",
    "\n",
    "<br>\n",
    "\n",
    "**Table of content**\n",
    "1. Setup\n",
    "2. STELLA app\n",
    "  - 2.1 Indexing documents\n",
    "  - 2.2 Querying results\n",
    "  - 2.3 Saving feedback\n",
    "3. STELLA server"
   ]
  },
  {
   "cell_type": "markdown",
   "metadata": {},
   "source": [
    "## 1. Setup\n",
    "---\n",
    "For an in depth setup guide please visit the [full documentation](https://github.com/stella-project/stella-documentation/wiki/Setup-guide-(local)). For this guide, the [demo.yml](https://github.com/stella-project/stella-app/blob/master/demo.yml) compose-stack is used. \n",
    "\n",
    "Before starting, please make sure:\n",
    "1. `docker` and `docker-compose` are installed,\n",
    "2. the repositorys [stella-app](https://github.com/stella-project/stella-app) and [stella-server](https://github.com/stella-project/stella-server) are cloned and\n",
    "3. you downloaded at least some of the [data](https://th-koeln.sciebo.de/s/OBm0NLEwz1RYl9N?path=%2F) to the `/data` directory.\n",
    "\n",
    "If these requirements are satisfied, at most, minimal adjustments should be needed. While designed as a distributed system, we will set up all components on one machine, using a single docker-compose stack. Any changes, if needed, take place in the [demo.yml](https://github.com/stella-project/stella-app/blob/master/demo.yml) file. If not freely available on your machine, make sure to change the ports `8000` and `8080`. \n",
    "Since indexing the data can be performance-intensive, depending on the amount of data, experimental systems and your system specifications, it can be necessary to disable the `BULK_INDEX` option.\n",
    "\n",
    "After that, you should be ready to start your system. This may take a while, so please be patient."
   ]
  },
  {
   "cell_type": "code",
   "execution_count": null,
   "metadata": {},
   "outputs": [],
   "source": [
    "!docker-compose -f demo.yml up -d"
   ]
  },
  {
   "cell_type": "markdown",
   "metadata": {},
   "source": [
    "<br>\n",
    "\n",
    "## 2. STELLA app:\n",
    "---\n",
    "\n",
    "The STELLA app connects the search user interface, like [LIVIVO](https://www.livivo.de), [Gesis](https://www.gesis.org/en/home) or your own,  with the experimental ranking systems and is responsible for interleaving the result pages. For this demo we installed the ranking systems `livivo_rank_precom`, `livivo_rank_pyserini`, `gesis_rec_precom` and `gesis_rec_pyserini`, just to cover all use-cases. These four ranking systems, two baseline systems and two experimental systems are specified in the [demo.yml](https://github.com/stella-project/stella-app/blob/master/demo.yml) file. To learn how to develop your own ranking system or using a simple pre-computed run please visit the full [documentation](https://github.com/stella-project/stella-documentation/wiki).\n",
    "\n",
    "For interaction and communication between systems different endpoints are available and described in the following:"
   ]
  },
  {
   "cell_type": "code",
   "execution_count": 16,
   "metadata": {},
   "outputs": [],
   "source": [
    "STELLA_URL = 'http://0.0.0.0:8080'\n",
    "STELLA_APP_API = 'http://0.0.0.0:8080/stella/api/v1/'"
   ]
  },
  {
   "cell_type": "markdown",
   "metadata": {},
   "source": [
    "\n",
    "### 2.1 Indexing documents:\n",
    "If `BULK_INDEX` is disabled while creating the docker-compose stack, systems can be indexed either through the [stella-app web ui](http://0.0.0.0:8080) or the stella-app endpoint.\n",
    "\n",
    "**1. Web UI:**\n",
    "\n",
    "You can reach the stella-app web UI via [http://0.0.0.0:8080/](http://0.0.0.0:8080/) and trigger indexing for specific systems.\n",
    "\n",
    "**2. Endpoint:**\n",
    "- `/index/<system_name>` let you index a specific system."
   ]
  },
  {
   "cell_type": "code",
   "execution_count": 17,
   "metadata": {},
   "outputs": [],
   "source": [
    "import requests"
   ]
  },
  {
   "cell_type": "code",
   "execution_count": 15,
   "metadata": {},
   "outputs": [
    {
     "name": "stdout",
     "output_type": "stream",
     "text": [
      "<!DOCTYPE HTML PUBLIC \"-//W3C//DTD HTML 3.2 Final//EN\">\n",
      "<title>500 Internal Server Error</title>\n",
      "<h1>Internal Server Error</h1>\n",
      "<p>The server encountered an internal error and was unable to complete your request. Either the server is overloaded or there is an error in the application.</p>\n",
      "\n"
     ]
    }
   ],
   "source": [
    "SYSTEM_NAME = 'livivo_rank_pyserini'\n",
    "\n",
    "r = requests.get(STELLA_URL + '/index/' + SYSTEM_NAME)\n",
    "print(r.text)"
   ]
  },
  {
   "cell_type": "markdown",
   "metadata": {},
   "source": [
    "- `/index/bulk` let you trigger the full bulk index."
   ]
  },
  {
   "cell_type": "code",
   "execution_count": 18,
   "metadata": {},
   "outputs": [
    {
     "name": "stdout",
     "output_type": "stream",
     "text": [
      "<!DOCTYPE HTML PUBLIC \"-//W3C//DTD HTML 3.2 Final//EN\">\n",
      "<title>500 Internal Server Error</title>\n",
      "<h1>Internal Server Error</h1>\n",
      "<p>The server encountered an internal error and was unable to complete your request. Either the server is overloaded or there is an error in the application.</p>\n",
      "\n"
     ]
    }
   ],
   "source": [
    "r = requests.get(STELLA_URL + '/index/bulk')\n",
    "print(r.text)"
   ]
  },
  {
   "cell_type": "markdown",
   "metadata": {},
   "source": [
    "Indexing may take a while. If it`s done, you are ready for your first search."
   ]
  },
  {
   "cell_type": "markdown",
   "metadata": {},
   "source": [
    "### 2.2 Querying results:\n",
    "For querying interleaved results you can use two endpoints, depending on the system type.\n",
    "\n",
    "#### GET ranking\n",
    "will return an interleaved ranking result, given a query string, from an experimental ranking system and the base system."
   ]
  },
  {
   "cell_type": "code",
   "execution_count": 19,
   "metadata": {},
   "outputs": [],
   "source": [
    "query = \"influenza\""
   ]
  },
  {
   "cell_type": "code",
   "execution_count": 30,
   "metadata": {},
   "outputs": [],
   "source": [
    "r = requests.get(STELLA_APP_API + \"ranking?query=\" + query)\n",
    "ranking = r.json()"
   ]
  },
  {
   "cell_type": "markdown",
   "metadata": {},
   "source": [
    "#### GET recommendation\n",
    "returns interleaved recommendations, given the id of a seed document, from an experimental system and the base system."
   ]
  },
  {
   "cell_type": "code",
   "execution_count": 26,
   "metadata": {},
   "outputs": [],
   "source": [
    "itemid = \"gesis-ssoar-13114\""
   ]
  },
  {
   "cell_type": "code",
   "execution_count": 31,
   "metadata": {},
   "outputs": [],
   "source": [
    "r = requests.get(STELLA_APP_API + \"recommendation/datasets?itemid=\" + itemid)\n",
    "recommendation = r.json()"
   ]
  },
  {
   "cell_type": "markdown",
   "metadata": {},
   "source": [
    "### 2.3 Saving feedback:\n",
    "\n",
    "These result lists will be clicked by the users and then returned to the app, including the feedback data, using the feedback endpoints. Multiple feedbacks can be combined into sessions.\n",
    "\n",
    "For this demo we will simulate random user feedbacks by this function:"
   ]
  },
  {
   "cell_type": "code",
   "execution_count": 45,
   "metadata": {},
   "outputs": [],
   "source": [
    "import datetime\n",
    "import random\n",
    "import json\n",
    "\n",
    "def simulate(req_json):\n",
    "    click_dict = req_json.get('body')\n",
    "    session_start_date = datetime.datetime.now()\n",
    "    session_end_date = session_start_date + datetime.timedelta(0, random.randint(10, 3000))\n",
    "    random_clicks = random.sample(range(1, len(click_dict)), random.randint(1, 3))\n",
    "    random.sample(range(1, 10), random.randint(1, 9))\n",
    "    for key, val in click_dict.items():\n",
    "        if int(key) in random_clicks:\n",
    "            click_dict.update({key: {'docid': req_json.get('body').get(key).get('docid'),\n",
    "                                     'type': req_json.get('body').get(key).get('type'),\n",
    "                                     'clicked': True,\n",
    "                                     'date': session_start_date.strftime(\"%Y-%m-%d %H:%M:%S\")}})\n",
    "        else:\n",
    "            click_dict.update({key: {'docid': req_json.get('body').get(key).get('docid'),\n",
    "                                     'type': req_json.get('body').get(key).get('type'),\n",
    "                                     'clicked': False,\n",
    "                                     'date': None}})\n",
    "    return {\n",
    "        'start': session_start_date.strftime(\"%Y-%m-%d %H:%M:%S\"),\n",
    "        'end': session_end_date.strftime(\"%Y-%m-%d %H:%M:%S\"),\n",
    "        'interleave': True,\n",
    "        'clicks': json.dumps(click_dict)\n",
    "    }"
   ]
  },
  {
   "cell_type": "markdown",
   "metadata": {},
   "source": [
    "#### POST ranking feedback:"
   ]
  },
  {
   "cell_type": "code",
   "execution_count": 42,
   "metadata": {},
   "outputs": [],
   "source": [
    "rec_id = ranking.get('header').get('rid')"
   ]
  },
  {
   "cell_type": "code",
   "execution_count": 44,
   "metadata": {},
   "outputs": [
    {
     "name": "stdout",
     "output_type": "stream",
     "text": [
      "201\n"
     ]
    }
   ],
   "source": [
    "payload = simulate(ranking)\n",
    "r_post = requests.post(STELLA_APP_API + \"ranking/\" + str(rec_id) + \"/feedback\", data=payload)\n",
    "print(r_post.status_code)"
   ]
  },
  {
   "cell_type": "markdown",
   "metadata": {},
   "source": [
    "#### POST recommendation feedback:"
   ]
  },
  {
   "cell_type": "code",
   "execution_count": null,
   "metadata": {},
   "outputs": [],
   "source": [
    "payload = simulate(recommendation)\n",
    "r_post = requests.post(STELLA_APP_API + \"recommendation/\" + str(rec_id) + \"/feedback\", data=payload)\n",
    "print(r_post.status_code)"
   ]
  },
  {
   "cell_type": "markdown",
   "metadata": {},
   "source": [
    "All feedbacks will be regularly transfered to the STELLA server using the stella server api described in the next part."
   ]
  },
  {
   "cell_type": "markdown",
   "metadata": {},
   "source": [
    "<br>\n",
    "\n",
    "## 3. STELLA server:\n",
    "---\n",
    "The STELLA server not just saves all user feedback but lets you administrate all systems. Furthermore, it is the main interaction point for participants, submitting and monitoring their systems."
   ]
  },
  {
   "cell_type": "code",
   "execution_count": 4,
   "metadata": {},
   "outputs": [],
   "source": [
    "STELLA_SERVER_API = 'http://0.0.0.0:8000/stella/api/v1'"
   ]
  },
  {
   "cell_type": "code",
   "execution_count": 5,
   "metadata": {},
   "outputs": [],
   "source": [
    "# token and user rolls"
   ]
  },
  {
   "cell_type": "code",
   "execution_count": 6,
   "metadata": {},
   "outputs": [],
   "source": [
    "# für demo session erstellen"
   ]
  },
  {
   "cell_type": "code",
   "execution_count": 7,
   "metadata": {},
   "outputs": [],
   "source": [
    "# POST session"
   ]
  },
  {
   "cell_type": "code",
   "execution_count": 8,
   "metadata": {},
   "outputs": [],
   "source": [
    "# POST feedback"
   ]
  },
  {
   "cell_type": "code",
   "execution_count": 9,
   "metadata": {},
   "outputs": [],
   "source": [
    "# "
   ]
  },
  {
   "cell_type": "code",
   "execution_count": null,
   "metadata": {},
   "outputs": [],
   "source": [
    "# GET Session"
   ]
  },
  {
   "cell_type": "code",
   "execution_count": 10,
   "metadata": {},
   "outputs": [],
   "source": [
    "# GET Feedback"
   ]
  },
  {
   "cell_type": "code",
   "execution_count": null,
   "metadata": {},
   "outputs": [],
   "source": [
    "#"
   ]
  },
  {
   "cell_type": "code",
   "execution_count": null,
   "metadata": {},
   "outputs": [],
   "source": [
    "# GET sessions from site"
   ]
  },
  {
   "cell_type": "code",
   "execution_count": null,
   "metadata": {},
   "outputs": [],
   "source": [
    "# GET Systems of participant"
   ]
  },
  {
   "cell_type": "code",
   "execution_count": null,
   "metadata": {},
   "outputs": [],
   "source": [
    "# GET full results for user/site"
   ]
  }
 ],
 "metadata": {
  "kernelspec": {
   "display_name": "Python 3",
   "language": "python",
   "name": "python3"
  },
  "language_info": {
   "codemirror_mode": {
    "name": "ipython",
    "version": 3
   },
   "file_extension": ".py",
   "mimetype": "text/x-python",
   "name": "python",
   "nbconvert_exporter": "python",
   "pygments_lexer": "ipython3",
   "version": "3.8.5"
  }
 },
 "nbformat": 4,
 "nbformat_minor": 4
}
